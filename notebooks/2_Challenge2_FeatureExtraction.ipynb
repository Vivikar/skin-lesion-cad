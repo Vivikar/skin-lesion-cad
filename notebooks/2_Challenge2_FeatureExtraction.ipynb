{
 "cells": [
  {
   "cell_type": "code",
   "execution_count": 1,
   "metadata": {},
   "outputs": [
    {
     "name": "stderr",
     "output_type": "stream",
     "text": [
      "Intel(R) Extension for Scikit-learn* enabled (https://github.com/intel/scikit-learn-intelex)\n",
      "Intel(R) Extension for Scikit-learn* enabled (https://github.com/intel/scikit-learn-intelex)\n"
     ]
    }
   ],
   "source": [
    "# if \"Intel\" in cpuinfo.get_cpu_info()['brand_raw']:\n",
    "from sklearnex import patch_sklearn\n",
    "patch_sklearn()\n",
    "\n",
    "import os\n",
    "os.chdir(\"..\")\n",
    "\n",
    "import random\n",
    "from multiprocessing.dummy import Pool\n",
    "from pathlib import Path\n",
    "from typing import Counter\n",
    "\n",
    "import cv2\n",
    "import matplotlib.pyplot as plt\n",
    "import numpy as np\n",
    "import pandas as pd\n",
    "import scipy\n",
    "import seaborn as sns\n",
    "from skin_lesion_cad.data.BOVW import (BagofWords, ColorDescriptor,\n",
    "                                       DenseDescriptor, DescriptorsTransformer,\n",
    "                                       LBPDescriptor)\n",
    "from skin_lesion_cad.features.colour import (ColorFeaturesDescriptor,\n",
    "                                             ColorFeaturesExtractor)\n",
    "from skin_lesion_cad.features.texture import get_glcm, glcm_features, lbph\n",
    "from sklearn.base import BaseEstimator, TransformerMixin\n",
    "from sklearn.cluster import KMeans\n",
    "from sklearn.metrics import (accuracy_score, classification_report,\n",
    "                             cohen_kappa_score, confusion_matrix, f1_score,\n",
    "                             precision_score)\n",
    "from sklearn.model_selection import KFold, StratifiedKFold, train_test_split\n",
    "from sklearn.svm import SVC\n",
    "from tqdm import tqdm"
   ]
  },
  {
   "cell_type": "code",
   "execution_count": 2,
   "metadata": {},
   "outputs": [
    {
     "name": "stdout",
     "output_type": "stream",
     "text": [
      "Train images 5082\n",
      "Validation images 1270\n",
      "Test images 2121\n"
     ]
    }
   ],
   "source": [
    "KP_SIZE = 25\n",
    "color_spaces = {'bgr':cv2.COLOR_RGB2BGR, 'hsv':cv2.COLOR_RGB2HSV, 'YCrCb':cv2.COLOR_RGB2YCrCb}\n",
    "\n",
    "root_path = Path().resolve()\n",
    "\n",
    "chall2_train = root_path/\"data/processed/chall2/train\"\n",
    "mel_imgs_all = np.array(list((chall2_train/'mel').glob(\"*inpaint_1.png\")))\n",
    "bcc_imgs_all = np.array(list((chall2_train/'bcc').glob(\"*inpaint_1.png\")))\n",
    "scc_imgs_all = np.array(list((chall2_train/'scc').glob(\"*inpaint_1.png\")))\n",
    "test_imgs_train = np.concatenate([mel_imgs_all, bcc_imgs_all, scc_imgs_all])\n",
    "\n",
    "chall2_val = root_path/\"data/processed/chall2/val\"\n",
    "mel_imgs_all = np.array(list((chall2_val/'mel').glob(\"*inpaint_1.png\")))\n",
    "bcc_imgs_all = np.array(list((chall2_val/'bcc').glob(\"*inpaint_1.png\")))\n",
    "scc_imgs_all = np.array(list((chall2_val/'scc').glob(\"*inpaint_1.png\")))\n",
    "test_imgs_val = np.concatenate([mel_imgs_all, bcc_imgs_all, scc_imgs_all])\n",
    "\n",
    "chall2_test = root_path/\"data/processed/chall2\"\n",
    "test_imgs_TEST = np.array(list((chall2_test/'testX').glob(\"*inpaint_1.png\")))\n",
    "\n",
    "print(f'Train images {len(test_imgs_train)}\\nValidation images {len(test_imgs_val)}')\n",
    "print(f'Test images {len(test_imgs_TEST)}')"
   ]
  },
  {
   "cell_type": "markdown",
   "metadata": {},
   "source": [
    "## Getting Color Descriptors for Images for BoW"
   ]
  },
  {
   "cell_type": "markdown",
   "metadata": {},
   "source": [
    "Either rung the section below or load the saved pickle file.from one below it."
   ]
  },
  {
   "cell_type": "markdown",
   "metadata": {},
   "source": [
    "### Calculate features from scratch"
   ]
  },
  {
   "cell_type": "markdown",
   "metadata": {},
   "source": [
    "Use gaussian random sampling from the whole image with the centre in the image centre"
   ]
  },
  {
   "cell_type": "code",
   "execution_count": 3,
   "metadata": {},
   "outputs": [],
   "source": [
    "# define descriptors used for BoW\n",
    "# use gaussian sampling\n",
    "dense_desc = DenseDescriptor(descriptor=None, min_keypoints=100,\n",
    "                             max_keypoints=500, kp_size=KP_SIZE,\n",
    "                             sample_method='gaussian')\n",
    "\n",
    "\n",
    "dense_color = ColorDescriptor(dense_desc, color_spaces, meanshift=None,\n",
    "                              min_keypoints=100, max_keypoints=500,\n",
    "                              kp_size=25,\n",
    "                              sample_method='gaussian')"
   ]
  },
  {
   "cell_type": "code",
   "execution_count": 4,
   "metadata": {},
   "outputs": [],
   "source": [
    "def _load_and_extract_des_color(x):\n",
    "    image_path, descriptor = x\n",
    "    im = cv2.imread(str(image_path))\n",
    "    fov = cv2.imread(str(image_path).replace('inpaint', 'fov'), cv2.IMREAD_GRAYSCALE)\n",
    "    mask = 255*(fov == 0).astype(np.uint8)\n",
    "    mcx, mcy = mask.shape[0]//2, mask.shape[1]//2\n",
    "    if not np.any(mask[mcx - 10:mcx + 10, mcy - 10:mcy + 10]):\n",
    "        mask = np.zeros(mask.shape, dtype=np.uint8)\n",
    "        mask[im.shape[0]//4:im.shape[0]*3//4, im.shape[1]//4:im.shape[1]*3//4] = 255\n",
    "    if 'bcc' in str(image_path):\n",
    "        img_cls = 1\n",
    "    elif 'mel' in str(image_path):\n",
    "        img_cls = 0\n",
    "    else:\n",
    "        img_cls = 2\n",
    "        \n",
    "    _, des = descriptor.detectAndCompute(im, mask)\n",
    "    return (des, img_cls, image_path.name)"
   ]
  },
  {
   "cell_type": "code",
   "execution_count": 5,
   "metadata": {},
   "outputs": [
    {
     "name": "stderr",
     "output_type": "stream",
     "text": [
      " 26%|██▌       | 1321/5082 [08:08<19:43,  3.18it/s] /home/vzalevskyi/anaconda3/envs/cad/lib/python3.10/site-packages/scipy/stats/_entropy.py:77: RuntimeWarning: invalid value encountered in true_divide\n",
      "  pk = 1.0*pk / np.sum(pk, axis=axis, keepdims=True)\n",
      "100%|██████████| 5082/5082 [30:41<00:00,  2.76it/s]  \n"
     ]
    }
   ],
   "source": [
    "descriptors_color_train = []\n",
    "img_classes_color_train = []\n",
    "img_names_color_train = []\n",
    "\n",
    "# COLOR FOR TRAIN\n",
    "with Pool(8) as pool:\n",
    "    for (des, img_cls, img_name) in tqdm(pool.imap(_load_and_extract_des_color,\n",
    "                                       zip(test_imgs_train,\n",
    "                                           [dense_color]*len(test_imgs_train))), total=len(test_imgs_train)):\n",
    "        descriptors_color_train.append(des)\n",
    "        img_classes_color_train.append(img_cls)\n",
    "        img_names_color_train.append(img_name)\n",
    "        \n",
    "pd.to_pickle((descriptors_color_train, img_classes_color_train, img_names_color_train), 'descriptors_color_train_all.pkl')"
   ]
  },
  {
   "cell_type": "code",
   "execution_count": 6,
   "metadata": {},
   "outputs": [
    {
     "name": "stderr",
     "output_type": "stream",
     "text": [
      "100%|██████████| 1270/1270 [07:47<00:00,  2.71it/s]\n"
     ]
    }
   ],
   "source": [
    "descriptors_color_val = []\n",
    "img_classes_color_val = []\n",
    "img_names_color_val = []\n",
    "\n",
    "# COLOR FOR VALIDATION\n",
    "with Pool(8) as pool:\n",
    "    for (des, img_cls, img_name) in tqdm(pool.imap(_load_and_extract_des_color,\n",
    "                                       zip(test_imgs_val,\n",
    "                                           [dense_color]*len(test_imgs_val))), total=len(test_imgs_val)):\n",
    "        descriptors_color_val.append(des)\n",
    "        img_classes_color_val.append(img_cls)\n",
    "        img_names_color_val.append(img_name)\n",
    "        \n",
    "pd.to_pickle((descriptors_color_val, img_classes_color_val, img_names_color_val), 'descriptors_color_val_all.pkl')"
   ]
  },
  {
   "cell_type": "code",
   "execution_count": 7,
   "metadata": {},
   "outputs": [
    {
     "name": "stderr",
     "output_type": "stream",
     "text": [
      "100%|██████████| 2121/2121 [22:17<00:00,  1.59it/s]\n"
     ]
    }
   ],
   "source": [
    "descriptors_color_TEST = []\n",
    "img_classes_color_TEST = []\n",
    "img_names_color_TEST = []\n",
    "\n",
    "# COLOR FOR TESTIDATION\n",
    "with Pool(8) as pool:\n",
    "    for (des, img_cls, img_name) in tqdm(pool.imap(_load_and_extract_des_color,\n",
    "                                       zip(test_imgs_TEST,\n",
    "                                           [dense_color]*len(test_imgs_TEST))), total=len(test_imgs_TEST)):\n",
    "        descriptors_color_TEST.append(des)\n",
    "        img_classes_color_TEST.append(img_cls)\n",
    "        img_names_color_TEST.append(img_name)\n",
    "        \n",
    "pd.to_pickle((descriptors_color_TEST, img_classes_color_TEST, img_names_color_TEST), 'descriptors_color_TESTX.pkl')"
   ]
  },
  {
   "cell_type": "markdown",
   "metadata": {},
   "source": [
    "### Load the dump"
   ]
  },
  {
   "cell_type": "code",
   "execution_count": 8,
   "metadata": {},
   "outputs": [],
   "source": [
    "# descriptors_color_train, img_classes_color_train, img_names_color_train = pd.read_pickle('descriptors_color_train_all.pkl')\n",
    "# descriptors_color_val, img_classes_color_val, img_names_color_val = pd.read_pickle('descriptors_color_val_all.pkl')\n",
    "# descriptors_color_TEST, img_classes_color_TEST, img_names_color_TEST = pd.read_pickle('descriptors_color_TESTX.pkl')\n",
    "\n",
    "# print(len(descriptors_color_train), len(descriptors_color_val), len(descriptors_color_TEST))"
   ]
  },
  {
   "cell_type": "markdown",
   "metadata": {},
   "source": [
    "## Creating and calculating BoW"
   ]
  },
  {
   "cell_type": "code",
   "execution_count": 9,
   "metadata": {},
   "outputs": [
    {
     "name": "stderr",
     "output_type": "stream",
     "text": [
      "/tmp/ipykernel_67467/1051125181.py:1: VisibleDeprecationWarning: Creating an ndarray from ragged nested sequences (which is a list-or-tuple of lists-or-tuples-or ndarrays with different lengths or shapes) is deprecated. If you meant to do this, you must specify 'dtype=object' when creating the ndarray.\n",
      "  descriptors_color_train = np.asarray(descriptors_color_train)\n",
      "/tmp/ipykernel_67467/1051125181.py:2: VisibleDeprecationWarning: Creating an ndarray from ragged nested sequences (which is a list-or-tuple of lists-or-tuples-or ndarrays with different lengths or shapes) is deprecated. If you meant to do this, you must specify 'dtype=object' when creating the ndarray.\n",
      "  descriptors_color_val = np.asarray(descriptors_color_val)\n"
     ]
    },
    {
     "name": "stdout",
     "output_type": "stream",
     "text": [
      "[[549 128   1]\n",
      " [ 92 405   1]\n",
      " [ 34  60   0]]\n",
      "Train f1_weighted 0.7814170329131336\n",
      "Validation f1_weighted 0.7243712470219058\n",
      "Train kappa 0.6368262876137128\n",
      "Validation kappa 0.5332120574866124\n"
     ]
    }
   ],
   "source": [
    "descriptors_color_train = np.asarray(descriptors_color_train)\n",
    "descriptors_color_val = np.asarray(descriptors_color_val)\n",
    "\n",
    "\n",
    "# Fitting and transforming the descriptors to a BoW model for train and val evaluation first\n",
    "bow_color = BagofWords(n_words=100, n_jobs=-1, random_state=42)\n",
    "train_BoWed = bow_color.fit_transform(descriptors_color_train, img_classes_color_train) \n",
    "val_BoWed = bow_color.transform(descriptors_color_val)\n",
    "\n",
    "# creating datafrains that contain the BoW features and the image class for all images\n",
    "bow_train = pd.DataFrame(train_BoWed.toarray(), columns=[f'bow_{i}' for i in range(train_BoWed.shape[1])])\n",
    "bow_val = pd.DataFrame(val_BoWed.toarray(), columns=[f'bow_{i}' for i in range(val_BoWed.shape[1])])\n",
    "\n",
    "bow_train['class'] = img_classes_color_train\n",
    "bow_val['class'] = img_classes_color_val\n",
    "\n",
    "bow_train['name'] = img_names_color_train\n",
    "bow_val['name'] = img_names_color_val\n",
    "\n",
    "\n",
    "# classification and evaluation\n",
    "svc = SVC(kernel='rbf', C=1, random_state=42, probability=False, class_weight='balanced')\n",
    "svc.fit(bow_train.drop(['class', 'name'], axis=1), bow_train['class'])\n",
    "y_pred = svc.predict(bow_val.drop(['class', 'name'], axis=1))\n",
    "y_pred_train = svc.predict(bow_train.drop(['class', 'name'], axis=1))\n",
    "\n",
    "print(confusion_matrix(bow_val['class'], y_pred))\n",
    "print('Train f1_weighted',f1_score(bow_train['class'], y_pred_train, average='weighted'))\n",
    "print('Validation f1_weighted', f1_score(bow_val['class'], y_pred, average='weighted'))\n",
    "print('Train kappa',cohen_kappa_score(bow_train['class'], y_pred_train))\n",
    "print('Validation kappa', cohen_kappa_score(bow_val['class'], y_pred))"
   ]
  },
  {
   "cell_type": "markdown",
   "metadata": {},
   "source": [
    "Making final BOW on train+val"
   ]
  },
  {
   "cell_type": "code",
   "execution_count": 17,
   "metadata": {},
   "outputs": [
    {
     "name": "stdout",
     "output_type": "stream",
     "text": [
      "(5082,) (1270,) (6352,) (6352,)\n"
     ]
    }
   ],
   "source": [
    "ALL_descrps = np.concatenate([descriptors_color_train, descriptors_color_val])\n",
    "ALL_img_classes = np.hstack([img_classes_color_train, img_classes_color_val])\n",
    "\n",
    "print(descriptors_color_train.shape, descriptors_color_val.shape, ALL_descrps.shape, ALL_img_classes.shape)\n",
    "\n",
    "bow_color = BagofWords(n_words=100, n_jobs=-1, random_state=42)\n",
    "train_BoWed = bow_color.fit_transform(ALL_descrps, ALL_img_classes) \n",
    "\n",
    "\n",
    "TEST_BoWed = bow_color.transform(descriptors_color_TEST)\n",
    "bow_TEST = pd.DataFrame(TEST_BoWed.toarray(), columns=[f'bow_{i}' for i in range(val_BoWed.shape[1])])\n",
    "bow_TEST['name'] = img_names_color_TEST"
   ]
  },
  {
   "cell_type": "markdown",
   "metadata": {},
   "source": [
    "## Extracting color features (global)"
   ]
  },
  {
   "cell_type": "code",
   "execution_count": 18,
   "metadata": {},
   "outputs": [],
   "source": [
    "def extract_color(image_path):\n",
    "    cfe = ColorFeaturesExtractor(color_spaces)\n",
    "    im = cv2.imread(str(image_path))  \n",
    "    \n",
    "    # im = im[im.shape[0]//4:im.shape[0]*3//4, im.shape[1]//4:im.shape[1]*3//4, :]\n",
    "    fov = cv2.imread(str(image_path).replace('inpaint', 'fov'), cv2.IMREAD_GRAYSCALE)\n",
    "    mask = 255*(fov == 0).astype(np.uint8)\n",
    "    mcx, mcy = mask.shape[0]//2, mask.shape[1]//2\n",
    "    if not np.any(mask[mcx - 10:mcx + 10, mcy - 10:mcy + 10]):\n",
    "        mask = np.zeros(mask.shape, dtype=np.uint8)\n",
    "        mask[im.shape[0]//4:im.shape[0]*3//4, im.shape[1]//4:im.shape[1]*3//4] = 255\n",
    "\n",
    "    if 'bcc' in str(image_path):\n",
    "        img_cls = 1\n",
    "    elif 'mel' in str(image_path):\n",
    "        img_cls = 0\n",
    "    else:\n",
    "        img_cls = 2\n",
    "\n",
    "    des = cfe.extract_masked(im, mask)\n",
    "\n",
    "    return (des, img_cls, image_path.name)"
   ]
  },
  {
   "cell_type": "code",
   "execution_count": 19,
   "metadata": {},
   "outputs": [
    {
     "name": "stderr",
     "output_type": "stream",
     "text": [
      "100%|██████████| 5082/5082 [12:29<00:00,  6.78it/s]\n"
     ]
    }
   ],
   "source": [
    "colf_train = []\n",
    "colc_train = []\n",
    "colnam_train = []\n",
    "with Pool(8) as pool:\n",
    "    for (des, img_cls, img_name) in tqdm(pool.imap(extract_color,\n",
    "                                       test_imgs_train), total=len(test_imgs_train)):\n",
    "        colf_train.append(des)\n",
    "        colc_train.append(img_cls)\n",
    "        colnam_train.append(img_name)"
   ]
  },
  {
   "cell_type": "code",
   "execution_count": 20,
   "metadata": {},
   "outputs": [
    {
     "name": "stderr",
     "output_type": "stream",
     "text": [
      "100%|██████████| 1270/1270 [02:13<00:00,  9.49it/s]\n"
     ]
    }
   ],
   "source": [
    "colf_val = []\n",
    "colc_val = []\n",
    "colnam_val = []\n",
    "with Pool(8) as pool:\n",
    "    for (des, img_cls, img_name) in tqdm(pool.imap(extract_color,\n",
    "                                       test_imgs_val), total=len(test_imgs_val)):\n",
    "        colf_val.append(des)\n",
    "        colc_val.append(img_cls)\n",
    "        colnam_val.append(img_name)"
   ]
  },
  {
   "cell_type": "code",
   "execution_count": 21,
   "metadata": {},
   "outputs": [
    {
     "name": "stderr",
     "output_type": "stream",
     "text": [
      "100%|██████████| 2121/2121 [03:44<00:00,  9.44it/s]\n"
     ]
    }
   ],
   "source": [
    "colf_TEST = []\n",
    "colc_TEST = []\n",
    "colnam_TEST = []\n",
    "with Pool(8) as pool:\n",
    "    for (des, img_cls, img_name) in tqdm(pool.imap(extract_color,\n",
    "                                       test_imgs_TEST), total=len(test_imgs_TEST)):\n",
    "        colf_TEST.append(des)\n",
    "        colc_TEST.append(img_cls)\n",
    "        colnam_TEST.append(img_name)"
   ]
  },
  {
   "cell_type": "code",
   "execution_count": 22,
   "metadata": {},
   "outputs": [
    {
     "name": "stdout",
     "output_type": "stream",
     "text": [
      "[[613  64   1]\n",
      " [ 64 433   1]\n",
      " [ 29  59   6]]\n",
      "Train f1_weighted 0.8229139027603319\n",
      "Validation f1_weighted 0.8038029645253443\n",
      "Train kappa 0.7129753255194526\n",
      "Validation kappa 0.6767889496983395\n"
     ]
    }
   ],
   "source": [
    "color_df_train = pd.DataFrame(colf_train)\n",
    "color_df_train['name'] = colnam_train\n",
    "color_df_train['class'] = colc_train\n",
    "\n",
    "color_df_val = pd.DataFrame(colf_val)\n",
    "color_df_val['name'] = colnam_val\n",
    "color_df_val['class'] = colc_val\n",
    "\n",
    "color_df_TEST = pd.DataFrame(colf_TEST)\n",
    "color_df_TEST['name'] = colnam_TEST\n",
    "\n",
    "# Evaluating global color features performance\n",
    "scaler = DescriptorsTransformer(imputation=None)\n",
    "X_train = scaler.fit_transform(color_df_train.drop(['class', 'name'], axis=1))\n",
    "X_test = scaler.transform(color_df_val.drop(['class', 'name'], axis=1))\n",
    "\n",
    "svc = SVC(kernel='rbf', C=1, random_state=42, probability=False, class_weight='balanced')\n",
    "svc.fit(X_train, color_df_train['class'])\n",
    "y_pred = svc.predict(X_test)\n",
    "y_pred_train = svc.predict(X_train)\n",
    "\n",
    "print(confusion_matrix(color_df_val['class'], y_pred))\n",
    "print('Train f1_weighted',f1_score(color_df_train['class'], y_pred_train, average='weighted'))\n",
    "print('Validation f1_weighted', f1_score(color_df_val['class'], y_pred, average='weighted'))\n",
    "print('Train kappa',cohen_kappa_score(color_df_train['class'], y_pred_train))\n",
    "print('Validation kappa', cohen_kappa_score(color_df_val['class'], y_pred))"
   ]
  },
  {
   "cell_type": "markdown",
   "metadata": {},
   "source": [
    "```\n",
    "Preprocessed \n",
    "\n",
    "[[435  61   2]\n",
    " [ 62 616   0]\n",
    " [ 57  31   6]]\n",
    "Train f1_weighted 0.8190181201191215\n",
    "Validation f1_weighted 0.8075351154802809\n",
    "Train kappa 0.706336521578109\n",
    "Validation kappa 0.6840692709452578\n",
    "\n",
    "```"
   ]
  },
  {
   "cell_type": "markdown",
   "metadata": {},
   "source": [
    "## Extracting texture features"
   ]
  },
  {
   "cell_type": "markdown",
   "metadata": {},
   "source": [
    "### GLCM"
   ]
  },
  {
   "cell_type": "code",
   "execution_count": 24,
   "metadata": {},
   "outputs": [
    {
     "name": "stderr",
     "output_type": "stream",
     "text": [
      "100%|██████████| 5082/5082 [07:27<00:00, 11.37it/s]\n",
      "100%|██████████| 1270/1270 [01:51<00:00, 11.39it/s]\n",
      "100%|██████████| 2121/2121 [03:08<00:00, 11.26it/s]\n"
     ]
    }
   ],
   "source": [
    "def extract_text(image_path):\n",
    "    im = cv2.imread(str(image_path), cv2.IMREAD_GRAYSCALE)\n",
    "    \n",
    "    fov = cv2.imread(str(image_path).replace('inpaint', 'fov'), cv2.IMREAD_GRAYSCALE)\n",
    "    mask = 255*(fov == 0).astype(np.uint8)\n",
    "    \n",
    "    fov_mask = 255*(fov == 0).astype(np.uint8)\n",
    "    mcx, mcy = mask.shape[0]//2, mask.shape[1]//2\n",
    "    if not np.any(fov_mask[mcx - 10:mcx + 10, mcy - 10:mcy + 10]):\n",
    "        mask = np.zeros(mask.shape, dtype=np.uint8)\n",
    "        mask[im.shape[0]//4:im.shape[0]*3//4, im.shape[1]//4:im.shape[1]*3//4] = 255\n",
    "    \n",
    "    if np.any(fov):\n",
    "        cpoint_x, cpointy = np.nonzero(mask)\n",
    "        im = im[min(cpoint_x):max(cpoint_x), min(cpointy):max(cpointy)]\n",
    "\n",
    "\n",
    "    if 'bcc' in str(image_path):\n",
    "        img_cls = 1\n",
    "    elif 'mel' in str(image_path):\n",
    "        img_cls = 0\n",
    "    else:\n",
    "        img_cls = 2\n",
    "\n",
    "    des = glcm_features(im)\n",
    "\n",
    "    return (des, img_cls, image_path.name)\n",
    "\n",
    "txtf_train = []\n",
    "txtcl_train = []\n",
    "txtnam_train = []\n",
    "with Pool(8) as pool:\n",
    "    for (des, img_cls, img_name) in tqdm(pool.imap(extract_text,\n",
    "                                       test_imgs_train), total=len(test_imgs_train)):\n",
    "        txtf_train.append(des)\n",
    "        txtcl_train.append(img_cls)\n",
    "        txtnam_train.append(img_name)\n",
    "        \n",
    "txtf_val = []\n",
    "txtcl_val = []\n",
    "txtnam_val = []\n",
    "with Pool(8) as pool:\n",
    "    for (des, img_cls, img_name) in tqdm(pool.imap(extract_text,\n",
    "                                       test_imgs_val), total=len(test_imgs_val)):\n",
    "        txtf_val.append(des)\n",
    "        txtcl_val.append(img_cls)\n",
    "        txtnam_val.append(img_name)\n",
    "        \n",
    "txtf_TEST = []\n",
    "txtcl_TEST = []\n",
    "txtnam_TEST = []\n",
    "with Pool(8) as pool:\n",
    "    for (des, img_cls, img_name) in tqdm(pool.imap(extract_text,\n",
    "                                       test_imgs_TEST), total=len(test_imgs_TEST)):\n",
    "        txtf_TEST.append(des)\n",
    "        txtcl_TEST.append(img_cls)\n",
    "        txtnam_TEST.append(img_name)"
   ]
  },
  {
   "cell_type": "code",
   "execution_count": 25,
   "metadata": {},
   "outputs": [],
   "source": [
    "# unrevelling the dataframe\n",
    "txtf_exp_train = []\n",
    "for i in range(len(txtf_train)):\n",
    "    res = dict()\n",
    "    for feat in txtf_train[i].keys():\n",
    "        for featvalidx, featval in enumerate(txtf_train[i][feat][0]):\n",
    "            res[f'{feat}_{featvalidx}'] = featval\n",
    "    txtf_exp_train.append(res)\n",
    "    \n",
    "txtf_exp_val = []\n",
    "for i in range(len(txtf_val)):\n",
    "    res = dict()\n",
    "    for feat in txtf_val[i].keys():\n",
    "        for featvalidx, featval in enumerate(txtf_val[i][feat][0]):\n",
    "            res[f'{feat}_{featvalidx}'] = featval\n",
    "    txtf_exp_val.append(res)\n",
    "\n",
    "    \n",
    "txtf_exp_TEST = []\n",
    "for i in range(len(txtf_TEST)):\n",
    "    res = dict()\n",
    "    for feat in txtf_TEST[i].keys():\n",
    "        for featTESTidx, featTEST in enumerate(txtf_TEST[i][feat][0]):\n",
    "            res[f'{feat}_{featTESTidx}'] = featTEST\n",
    "    txtf_exp_TEST.append(res)\n",
    "\n",
    "\n",
    "glcm_df_train = pd.DataFrame(txtf_exp_train)\n",
    "glcm_df_train['name'] = txtnam_train\n",
    "glcm_df_train['class'] = txtcl_train\n",
    "\n",
    "glcm_df_val = pd.DataFrame(txtf_exp_val)\n",
    "glcm_df_val['name'] = txtnam_val\n",
    "glcm_df_val['class'] = txtcl_val\n",
    "\n",
    "glcm_df_TEST = pd.DataFrame(txtf_exp_TEST)\n",
    "glcm_df_TEST['name'] = txtnam_TEST"
   ]
  },
  {
   "cell_type": "code",
   "execution_count": 26,
   "metadata": {},
   "outputs": [
    {
     "name": "stdout",
     "output_type": "stream",
     "text": [
      "[[537 141   0]\n",
      " [163 335   0]\n",
      " [ 39  55   0]]\n",
      "Train f1_weighted 0.6711111416221535\n",
      "Validation f1_weighted 0.6599522920162395\n",
      "Train kappa 0.4243155292983415\n",
      "Validation kappa 0.40353071676382424\n"
     ]
    }
   ],
   "source": [
    "scaler = DescriptorsTransformer(None)\n",
    "X_train = scaler.fit_transform(glcm_df_train.drop(['class', 'name'], axis=1))\n",
    "X_test = scaler.transform(glcm_df_val.drop(['class', 'name'], axis=1))\n",
    "\n",
    "svc = SVC(kernel='rbf', C=1, random_state=42, probability=False, class_weight='balanced')\n",
    "svc.fit(X_train, glcm_df_train['class'])\n",
    "y_pred = svc.predict(X_test)\n",
    "y_pred_train = svc.predict(X_train)\n",
    "\n",
    "print(confusion_matrix(glcm_df_val['class'], y_pred))\n",
    "print('Train f1_weighted',f1_score(glcm_df_train['class'], y_pred_train, average='weighted'))\n",
    "print('Validation f1_weighted', f1_score(glcm_df_val['class'], y_pred, average='weighted'))\n",
    "print('Train kappa',cohen_kappa_score(glcm_df_train['class'], y_pred_train))\n",
    "print('Validation kappa', cohen_kappa_score(glcm_df_val['class'], y_pred))"
   ]
  },
  {
   "cell_type": "markdown",
   "metadata": {},
   "source": [
    "Processed\n",
    "\n",
    "```\n",
    "[[347 151   0]\n",
    " [147 531   0]\n",
    " [ 60  34   0]]\n",
    "Train f1_weighted 0.6709994708774802\n",
    "Validation f1_weighted 0.6653965548931365\n",
    "Train kappa 0.42462073093515984\n",
    "Validation kappa 0.41537883413969656\n",
    "```"
   ]
  },
  {
   "cell_type": "markdown",
   "metadata": {},
   "source": [
    "### LBP"
   ]
  },
  {
   "cell_type": "code",
   "execution_count": 28,
   "metadata": {},
   "outputs": [
    {
     "name": "stderr",
     "output_type": "stream",
     "text": [
      "100%|██████████| 5082/5082 [32:16<00:00,  2.62it/s]\n",
      "100%|██████████| 1270/1270 [10:12<00:00,  2.07it/s]\n",
      "100%|██████████| 2121/2121 [30:03<00:00,  1.18it/s]\n"
     ]
    }
   ],
   "source": [
    "def extract_lbp(image_path):\n",
    "    im = cv2.imread(str(image_path), cv2.IMREAD_GRAYSCALE)\n",
    "    \n",
    "    # select central half of the image\n",
    "    # im = im[im.shape[0]//4:im.shape[0]*3//4, im.shape[1]//4:im.shape[1]*3//4]\n",
    "    \n",
    "    fov = cv2.imread(str(image_path).replace('inpaint', 'fov'), cv2.IMREAD_GRAYSCALE)\n",
    "    mask = 255*(fov == 0).astype(np.uint8)\n",
    "    \n",
    "    fov_mask = 255*(fov == 0).astype(np.uint8)\n",
    "    mcx, mcy = mask.shape[0]//2, mask.shape[1]//2\n",
    "    if not np.any(fov_mask[mcx - 10:mcx + 10, mcy - 10:mcy + 10]):\n",
    "        mask = np.zeros(mask.shape, dtype=np.uint8)\n",
    "        mask[im.shape[0]//4:im.shape[0]*3//4, im.shape[1]//4:im.shape[1]*3//4] = 255\n",
    "    \n",
    "    if np.any(fov):\n",
    "        cpoint_x, cpointy = np.nonzero(mask)\n",
    "        im = im[min(cpoint_x):max(cpoint_x), min(cpointy):max(cpointy)]\n",
    "\n",
    "    if 'bcc' in str(image_path):\n",
    "        img_cls = 1\n",
    "    elif 'mel' in str(image_path):\n",
    "        img_cls = 0\n",
    "    else:\n",
    "        img_cls = 2\n",
    "\n",
    "    des = lbph(im)\n",
    "\n",
    "    return (des, img_cls, image_path.name)\n",
    "\n",
    "txtf_train = []\n",
    "txtcl_train = []\n",
    "txtnam_train = []\n",
    "with Pool(8) as pool:\n",
    "    for (des, img_cls, img_name) in tqdm(pool.imap(extract_lbp,\n",
    "                                       test_imgs_train), total=len(test_imgs_train)):\n",
    "        txtf_train.append(des)\n",
    "        txtcl_train.append(img_cls)\n",
    "        txtnam_train.append(img_name)\n",
    "        \n",
    "txtf_val = []\n",
    "txtcl_val = []\n",
    "txtnam_val = []\n",
    "with Pool(8) as pool:\n",
    "    for (des, img_cls, img_name) in tqdm(pool.imap(extract_lbp,\n",
    "                                       test_imgs_val), total=len(test_imgs_val)):\n",
    "        txtf_val.append(des)\n",
    "        txtcl_val.append(img_cls)\n",
    "        txtnam_val.append(img_name)\n",
    "        \n",
    "   \n",
    "txtf_TEST = []\n",
    "txtcl_TEST = []\n",
    "txtnam_TEST = []\n",
    "with Pool(8) as pool:\n",
    "    for (des, img_cls, img_name) in tqdm(pool.imap(extract_lbp,\n",
    "                                       test_imgs_TEST), total=len(test_imgs_TEST)):\n",
    "        txtf_TEST.append(des)\n",
    "        txtcl_TEST.append(img_cls)\n",
    "        txtnam_TEST.append(img_name)"
   ]
  },
  {
   "cell_type": "code",
   "execution_count": 29,
   "metadata": {},
   "outputs": [],
   "source": [
    "lbp_df_train = pd.DataFrame(txtf_train, columns=[f'lbp_{i}' for i in range(len(txtf_train[0]))])\n",
    "lbp_df_train['name'] = txtnam_train\n",
    "lbp_df_train['class'] = txtcl_train\n",
    "\n",
    "lbp_df_val = pd.DataFrame(txtf_val, columns=[f'lbp_{i}' for i in range(len(txtf_train[0]))])\n",
    "lbp_df_val['name'] = txtnam_val\n",
    "lbp_df_val['class'] = txtcl_val\n",
    "\n",
    "lbp_df_TEST = pd.DataFrame(txtf_TEST, columns=[f'lbp_{i}' for i in range(len(txtf_train[0]))])\n",
    "lbp_df_TEST['name'] = txtnam_TEST"
   ]
  },
  {
   "cell_type": "code",
   "execution_count": 30,
   "metadata": {},
   "outputs": [
    {
     "name": "stdout",
     "output_type": "stream",
     "text": [
      "[[552 126   0]\n",
      " [183 315   0]\n",
      " [ 49  45   0]]\n",
      "Train f1_weighted 0.6625153147977768\n",
      "Validation f1_weighted 0.6541886421966431\n",
      "Train kappa 0.4060556066606835\n",
      "Validation kappa 0.3902087404089025\n"
     ]
    }
   ],
   "source": [
    "scaler = DescriptorsTransformer(None)\n",
    "X_train = scaler.fit_transform(lbp_df_train.drop(['class', 'name'], axis=1))\n",
    "X_test = scaler.transform(lbp_df_val.drop(['class', 'name'], axis=1))\n",
    "\n",
    "# X_train = lbp_df_train.drop(['class', 'name'], axis=1)\n",
    "# X_test = lbp_df_val.drop(['class', 'name'], axis=1)\n",
    "\n",
    "svc = SVC(kernel='rbf', C=1, random_state=42, probability=False, class_weight='balanced')\n",
    "svc.fit(X_train, lbp_df_train['class'])\n",
    "y_pred = svc.predict(X_test)\n",
    "y_pred_train = svc.predict(X_train)\n",
    "\n",
    "print(confusion_matrix(lbp_df_val['class'], y_pred))\n",
    "print('Train f1_weighted',f1_score(lbp_df_train['class'], y_pred_train, average='weighted'))\n",
    "print('Validation f1_weighted', f1_score(lbp_df_val['class'], y_pred, average='weighted'))\n",
    "print('Train kappa',cohen_kappa_score(lbp_df_train['class'], y_pred_train))\n",
    "print('Validation kappa', cohen_kappa_score(lbp_df_val['class'], y_pred))"
   ]
  },
  {
   "cell_type": "markdown",
   "metadata": {},
   "source": [
    "# Merging BoW and global faetures"
   ]
  },
  {
   "cell_type": "code",
   "execution_count": 31,
   "metadata": {},
   "outputs": [],
   "source": [
    "merged_df_train = pd.merge(color_df_train.drop(columns=['class']), glcm_df_train, on='name', how='inner')\n",
    "merged_df_train = pd.merge(merged_df_train, lbp_df_train.drop(columns=['class']), on='name', how='inner').set_index('name')\n",
    "merged_df_train = pd.merge(merged_df_train, bow_train.drop(columns=['class']), on='name', how='inner').set_index('name')\n",
    "\n",
    "merged_df_val = pd.merge(color_df_val.drop(columns=['class']), glcm_df_val, on='name', how='inner')\n",
    "merged_df_val = pd.merge(merged_df_val, lbp_df_val.drop(columns=['class']), on='name', how='inner').set_index('name')\n",
    "merged_df_val = pd.merge(merged_df_val, bow_val.drop(columns=['class']), on='name', how='inner').set_index('name')\n",
    "\n",
    "merged_df_TEST = pd.merge(color_df_TEST, glcm_df_TEST, on='name', how='inner')\n",
    "merged_df_TEST = pd.merge(merged_df_TEST, lbp_df_TEST, on='name', how='inner').set_index('name')\n",
    "merged_df_TEST = pd.merge(merged_df_TEST, bow_TEST, on='name', how='inner').set_index('name')\n"
   ]
  },
  {
   "cell_type": "code",
   "execution_count": 36,
   "metadata": {},
   "outputs": [],
   "source": [
    "merged_df_TEST.to_pickle('merged_df_TEST.pkl')\n",
    "merged_df_val.to_pickle('merged_df_val.pkl')\n",
    "merged_df_train.to_pickle('merged_df_train.pkl')"
   ]
  },
  {
   "cell_type": "code",
   "execution_count": 33,
   "metadata": {},
   "outputs": [
    {
     "data": {
      "text/html": [
       "<div>\n",
       "<style scoped>\n",
       "    .dataframe tbody tr th:only-of-type {\n",
       "        vertical-align: middle;\n",
       "    }\n",
       "\n",
       "    .dataframe tbody tr th {\n",
       "        vertical-align: top;\n",
       "    }\n",
       "\n",
       "    .dataframe thead th {\n",
       "        text-align: right;\n",
       "    }\n",
       "</style>\n",
       "<table border=\"1\" class=\"dataframe\">\n",
       "  <thead>\n",
       "    <tr style=\"text-align: right;\">\n",
       "      <th></th>\n",
       "      <th>bgr_b_mean</th>\n",
       "      <th>bgr_b_std</th>\n",
       "      <th>bgr_b_skew</th>\n",
       "      <th>bgr_b_kurt</th>\n",
       "      <th>bgr_b_max</th>\n",
       "      <th>bgr_b_min</th>\n",
       "      <th>bgr_b_entrp</th>\n",
       "      <th>bgr_b_unq</th>\n",
       "      <th>bgr_g_mean</th>\n",
       "      <th>bgr_g_std</th>\n",
       "      <th>...</th>\n",
       "      <th>bow_90</th>\n",
       "      <th>bow_91</th>\n",
       "      <th>bow_92</th>\n",
       "      <th>bow_93</th>\n",
       "      <th>bow_94</th>\n",
       "      <th>bow_95</th>\n",
       "      <th>bow_96</th>\n",
       "      <th>bow_97</th>\n",
       "      <th>bow_98</th>\n",
       "      <th>bow_99</th>\n",
       "    </tr>\n",
       "    <tr>\n",
       "      <th>name</th>\n",
       "      <th></th>\n",
       "      <th></th>\n",
       "      <th></th>\n",
       "      <th></th>\n",
       "      <th></th>\n",
       "      <th></th>\n",
       "      <th></th>\n",
       "      <th></th>\n",
       "      <th></th>\n",
       "      <th></th>\n",
       "      <th></th>\n",
       "      <th></th>\n",
       "      <th></th>\n",
       "      <th></th>\n",
       "      <th></th>\n",
       "      <th></th>\n",
       "      <th></th>\n",
       "      <th></th>\n",
       "      <th></th>\n",
       "      <th></th>\n",
       "      <th></th>\n",
       "    </tr>\n",
       "  </thead>\n",
       "  <tbody>\n",
       "    <tr>\n",
       "      <th>mel02863_inpaint_1.png</th>\n",
       "      <td>213.906067</td>\n",
       "      <td>22.297472</td>\n",
       "      <td>-1.648822</td>\n",
       "      <td>3.045142</td>\n",
       "      <td>255.0</td>\n",
       "      <td>82.0</td>\n",
       "      <td>13.080577</td>\n",
       "      <td>164</td>\n",
       "      <td>116.886780</td>\n",
       "      <td>44.209274</td>\n",
       "      <td>...</td>\n",
       "      <td>0.000000</td>\n",
       "      <td>0.000000</td>\n",
       "      <td>0.381687</td>\n",
       "      <td>0.0</td>\n",
       "      <td>0.050918</td>\n",
       "      <td>0.000000</td>\n",
       "      <td>0.0</td>\n",
       "      <td>0.0</td>\n",
       "      <td>0.0</td>\n",
       "      <td>0.056047</td>\n",
       "    </tr>\n",
       "    <tr>\n",
       "      <th>mel02970_inpaint_1.png</th>\n",
       "      <td>159.960159</td>\n",
       "      <td>8.882860</td>\n",
       "      <td>-7.665990</td>\n",
       "      <td>111.063321</td>\n",
       "      <td>221.0</td>\n",
       "      <td>8.0</td>\n",
       "      <td>13.451581</td>\n",
       "      <td>213</td>\n",
       "      <td>135.450317</td>\n",
       "      <td>8.764379</td>\n",
       "      <td>...</td>\n",
       "      <td>0.000000</td>\n",
       "      <td>0.000000</td>\n",
       "      <td>0.000000</td>\n",
       "      <td>0.0</td>\n",
       "      <td>0.000000</td>\n",
       "      <td>0.000000</td>\n",
       "      <td>0.0</td>\n",
       "      <td>0.0</td>\n",
       "      <td>0.0</td>\n",
       "      <td>0.000000</td>\n",
       "    </tr>\n",
       "    <tr>\n",
       "      <th>mel03315_inpaint_1.png</th>\n",
       "      <td>190.249619</td>\n",
       "      <td>18.089682</td>\n",
       "      <td>-2.055556</td>\n",
       "      <td>4.938194</td>\n",
       "      <td>224.0</td>\n",
       "      <td>33.0</td>\n",
       "      <td>13.844849</td>\n",
       "      <td>189</td>\n",
       "      <td>160.242584</td>\n",
       "      <td>25.798092</td>\n",
       "      <td>...</td>\n",
       "      <td>0.110595</td>\n",
       "      <td>0.049976</td>\n",
       "      <td>0.000000</td>\n",
       "      <td>0.0</td>\n",
       "      <td>0.000000</td>\n",
       "      <td>0.084368</td>\n",
       "      <td>0.0</td>\n",
       "      <td>0.0</td>\n",
       "      <td>0.0</td>\n",
       "      <td>0.000000</td>\n",
       "    </tr>\n",
       "    <tr>\n",
       "      <th>mel02862_inpaint_1.png</th>\n",
       "      <td>158.277832</td>\n",
       "      <td>58.892693</td>\n",
       "      <td>-0.028834</td>\n",
       "      <td>-1.333697</td>\n",
       "      <td>255.0</td>\n",
       "      <td>23.0</td>\n",
       "      <td>13.715636</td>\n",
       "      <td>231</td>\n",
       "      <td>139.639923</td>\n",
       "      <td>59.441696</td>\n",
       "      <td>...</td>\n",
       "      <td>0.000000</td>\n",
       "      <td>0.000000</td>\n",
       "      <td>0.000000</td>\n",
       "      <td>0.0</td>\n",
       "      <td>0.000000</td>\n",
       "      <td>0.000000</td>\n",
       "      <td>0.0</td>\n",
       "      <td>0.0</td>\n",
       "      <td>0.0</td>\n",
       "      <td>0.000000</td>\n",
       "    </tr>\n",
       "    <tr>\n",
       "      <th>mel03012_inpaint_1.png</th>\n",
       "      <td>176.563614</td>\n",
       "      <td>15.976261</td>\n",
       "      <td>-1.037247</td>\n",
       "      <td>1.644206</td>\n",
       "      <td>214.0</td>\n",
       "      <td>75.0</td>\n",
       "      <td>13.858693</td>\n",
       "      <td>138</td>\n",
       "      <td>149.150848</td>\n",
       "      <td>24.324524</td>\n",
       "      <td>...</td>\n",
       "      <td>0.000000</td>\n",
       "      <td>0.000000</td>\n",
       "      <td>0.000000</td>\n",
       "      <td>0.0</td>\n",
       "      <td>0.000000</td>\n",
       "      <td>0.215282</td>\n",
       "      <td>0.0</td>\n",
       "      <td>0.0</td>\n",
       "      <td>0.0</td>\n",
       "      <td>0.000000</td>\n",
       "    </tr>\n",
       "    <tr>\n",
       "      <th>...</th>\n",
       "      <td>...</td>\n",
       "      <td>...</td>\n",
       "      <td>...</td>\n",
       "      <td>...</td>\n",
       "      <td>...</td>\n",
       "      <td>...</td>\n",
       "      <td>...</td>\n",
       "      <td>...</td>\n",
       "      <td>...</td>\n",
       "      <td>...</td>\n",
       "      <td>...</td>\n",
       "      <td>...</td>\n",
       "      <td>...</td>\n",
       "      <td>...</td>\n",
       "      <td>...</td>\n",
       "      <td>...</td>\n",
       "      <td>...</td>\n",
       "      <td>...</td>\n",
       "      <td>...</td>\n",
       "      <td>...</td>\n",
       "      <td>...</td>\n",
       "    </tr>\n",
       "    <tr>\n",
       "      <th>scc00413_inpaint_1.png</th>\n",
       "      <td>203.829132</td>\n",
       "      <td>21.426785</td>\n",
       "      <td>-2.228764</td>\n",
       "      <td>7.141194</td>\n",
       "      <td>252.0</td>\n",
       "      <td>45.0</td>\n",
       "      <td>12.500071</td>\n",
       "      <td>193</td>\n",
       "      <td>174.749237</td>\n",
       "      <td>36.083839</td>\n",
       "      <td>...</td>\n",
       "      <td>0.000000</td>\n",
       "      <td>0.076279</td>\n",
       "      <td>0.000000</td>\n",
       "      <td>0.0</td>\n",
       "      <td>0.000000</td>\n",
       "      <td>0.000000</td>\n",
       "      <td>0.0</td>\n",
       "      <td>0.0</td>\n",
       "      <td>0.0</td>\n",
       "      <td>0.000000</td>\n",
       "    </tr>\n",
       "    <tr>\n",
       "      <th>scc00377_inpaint_1.png</th>\n",
       "      <td>192.310074</td>\n",
       "      <td>24.545528</td>\n",
       "      <td>-1.447687</td>\n",
       "      <td>4.134878</td>\n",
       "      <td>234.0</td>\n",
       "      <td>20.0</td>\n",
       "      <td>12.437281</td>\n",
       "      <td>215</td>\n",
       "      <td>155.088867</td>\n",
       "      <td>23.281540</td>\n",
       "      <td>...</td>\n",
       "      <td>0.000000</td>\n",
       "      <td>0.150171</td>\n",
       "      <td>0.000000</td>\n",
       "      <td>0.0</td>\n",
       "      <td>0.000000</td>\n",
       "      <td>0.000000</td>\n",
       "      <td>0.0</td>\n",
       "      <td>0.0</td>\n",
       "      <td>0.0</td>\n",
       "      <td>0.000000</td>\n",
       "    </tr>\n",
       "    <tr>\n",
       "      <th>scc00420_inpaint_1.png</th>\n",
       "      <td>166.541733</td>\n",
       "      <td>14.910087</td>\n",
       "      <td>-1.720465</td>\n",
       "      <td>8.061281</td>\n",
       "      <td>226.0</td>\n",
       "      <td>22.0</td>\n",
       "      <td>13.858644</td>\n",
       "      <td>202</td>\n",
       "      <td>99.227730</td>\n",
       "      <td>22.154819</td>\n",
       "      <td>...</td>\n",
       "      <td>0.000000</td>\n",
       "      <td>0.071286</td>\n",
       "      <td>0.037736</td>\n",
       "      <td>0.0</td>\n",
       "      <td>0.035239</td>\n",
       "      <td>0.000000</td>\n",
       "      <td>0.0</td>\n",
       "      <td>0.0</td>\n",
       "      <td>0.0</td>\n",
       "      <td>0.659405</td>\n",
       "    </tr>\n",
       "    <tr>\n",
       "      <th>scc00445_inpaint_1.png</th>\n",
       "      <td>211.114243</td>\n",
       "      <td>15.796206</td>\n",
       "      <td>-0.519468</td>\n",
       "      <td>0.087055</td>\n",
       "      <td>255.0</td>\n",
       "      <td>113.0</td>\n",
       "      <td>12.503333</td>\n",
       "      <td>129</td>\n",
       "      <td>152.496689</td>\n",
       "      <td>17.798973</td>\n",
       "      <td>...</td>\n",
       "      <td>0.000000</td>\n",
       "      <td>0.045371</td>\n",
       "      <td>0.000000</td>\n",
       "      <td>0.0</td>\n",
       "      <td>0.639199</td>\n",
       "      <td>0.000000</td>\n",
       "      <td>0.0</td>\n",
       "      <td>0.0</td>\n",
       "      <td>0.0</td>\n",
       "      <td>0.000000</td>\n",
       "    </tr>\n",
       "    <tr>\n",
       "      <th>scc00396_inpaint_1.png</th>\n",
       "      <td>210.565689</td>\n",
       "      <td>18.300425</td>\n",
       "      <td>-1.508062</td>\n",
       "      <td>4.298985</td>\n",
       "      <td>243.0</td>\n",
       "      <td>42.0</td>\n",
       "      <td>12.502186</td>\n",
       "      <td>200</td>\n",
       "      <td>177.264404</td>\n",
       "      <td>24.030483</td>\n",
       "      <td>...</td>\n",
       "      <td>0.000000</td>\n",
       "      <td>0.090306</td>\n",
       "      <td>0.000000</td>\n",
       "      <td>0.0</td>\n",
       "      <td>0.167402</td>\n",
       "      <td>0.025409</td>\n",
       "      <td>0.0</td>\n",
       "      <td>0.0</td>\n",
       "      <td>0.0</td>\n",
       "      <td>0.000000</td>\n",
       "    </tr>\n",
       "  </tbody>\n",
       "</table>\n",
       "<p>1270 rows × 443 columns</p>\n",
       "</div>"
      ],
      "text/plain": [
       "                        bgr_b_mean  bgr_b_std  bgr_b_skew  bgr_b_kurt  \\\n",
       "name                                                                    \n",
       "mel02863_inpaint_1.png  213.906067  22.297472   -1.648822    3.045142   \n",
       "mel02970_inpaint_1.png  159.960159   8.882860   -7.665990  111.063321   \n",
       "mel03315_inpaint_1.png  190.249619  18.089682   -2.055556    4.938194   \n",
       "mel02862_inpaint_1.png  158.277832  58.892693   -0.028834   -1.333697   \n",
       "mel03012_inpaint_1.png  176.563614  15.976261   -1.037247    1.644206   \n",
       "...                            ...        ...         ...         ...   \n",
       "scc00413_inpaint_1.png  203.829132  21.426785   -2.228764    7.141194   \n",
       "scc00377_inpaint_1.png  192.310074  24.545528   -1.447687    4.134878   \n",
       "scc00420_inpaint_1.png  166.541733  14.910087   -1.720465    8.061281   \n",
       "scc00445_inpaint_1.png  211.114243  15.796206   -0.519468    0.087055   \n",
       "scc00396_inpaint_1.png  210.565689  18.300425   -1.508062    4.298985   \n",
       "\n",
       "                        bgr_b_max  bgr_b_min  bgr_b_entrp  bgr_b_unq  \\\n",
       "name                                                                   \n",
       "mel02863_inpaint_1.png      255.0       82.0    13.080577        164   \n",
       "mel02970_inpaint_1.png      221.0        8.0    13.451581        213   \n",
       "mel03315_inpaint_1.png      224.0       33.0    13.844849        189   \n",
       "mel02862_inpaint_1.png      255.0       23.0    13.715636        231   \n",
       "mel03012_inpaint_1.png      214.0       75.0    13.858693        138   \n",
       "...                           ...        ...          ...        ...   \n",
       "scc00413_inpaint_1.png      252.0       45.0    12.500071        193   \n",
       "scc00377_inpaint_1.png      234.0       20.0    12.437281        215   \n",
       "scc00420_inpaint_1.png      226.0       22.0    13.858644        202   \n",
       "scc00445_inpaint_1.png      255.0      113.0    12.503333        129   \n",
       "scc00396_inpaint_1.png      243.0       42.0    12.502186        200   \n",
       "\n",
       "                        bgr_g_mean  bgr_g_std  ...    bow_90    bow_91  \\\n",
       "name                                           ...                       \n",
       "mel02863_inpaint_1.png  116.886780  44.209274  ...  0.000000  0.000000   \n",
       "mel02970_inpaint_1.png  135.450317   8.764379  ...  0.000000  0.000000   \n",
       "mel03315_inpaint_1.png  160.242584  25.798092  ...  0.110595  0.049976   \n",
       "mel02862_inpaint_1.png  139.639923  59.441696  ...  0.000000  0.000000   \n",
       "mel03012_inpaint_1.png  149.150848  24.324524  ...  0.000000  0.000000   \n",
       "...                            ...        ...  ...       ...       ...   \n",
       "scc00413_inpaint_1.png  174.749237  36.083839  ...  0.000000  0.076279   \n",
       "scc00377_inpaint_1.png  155.088867  23.281540  ...  0.000000  0.150171   \n",
       "scc00420_inpaint_1.png   99.227730  22.154819  ...  0.000000  0.071286   \n",
       "scc00445_inpaint_1.png  152.496689  17.798973  ...  0.000000  0.045371   \n",
       "scc00396_inpaint_1.png  177.264404  24.030483  ...  0.000000  0.090306   \n",
       "\n",
       "                          bow_92  bow_93    bow_94    bow_95  bow_96  bow_97  \\\n",
       "name                                                                           \n",
       "mel02863_inpaint_1.png  0.381687     0.0  0.050918  0.000000     0.0     0.0   \n",
       "mel02970_inpaint_1.png  0.000000     0.0  0.000000  0.000000     0.0     0.0   \n",
       "mel03315_inpaint_1.png  0.000000     0.0  0.000000  0.084368     0.0     0.0   \n",
       "mel02862_inpaint_1.png  0.000000     0.0  0.000000  0.000000     0.0     0.0   \n",
       "mel03012_inpaint_1.png  0.000000     0.0  0.000000  0.215282     0.0     0.0   \n",
       "...                          ...     ...       ...       ...     ...     ...   \n",
       "scc00413_inpaint_1.png  0.000000     0.0  0.000000  0.000000     0.0     0.0   \n",
       "scc00377_inpaint_1.png  0.000000     0.0  0.000000  0.000000     0.0     0.0   \n",
       "scc00420_inpaint_1.png  0.037736     0.0  0.035239  0.000000     0.0     0.0   \n",
       "scc00445_inpaint_1.png  0.000000     0.0  0.639199  0.000000     0.0     0.0   \n",
       "scc00396_inpaint_1.png  0.000000     0.0  0.167402  0.025409     0.0     0.0   \n",
       "\n",
       "                        bow_98    bow_99  \n",
       "name                                      \n",
       "mel02863_inpaint_1.png     0.0  0.056047  \n",
       "mel02970_inpaint_1.png     0.0  0.000000  \n",
       "mel03315_inpaint_1.png     0.0  0.000000  \n",
       "mel02862_inpaint_1.png     0.0  0.000000  \n",
       "mel03012_inpaint_1.png     0.0  0.000000  \n",
       "...                        ...       ...  \n",
       "scc00413_inpaint_1.png     0.0  0.000000  \n",
       "scc00377_inpaint_1.png     0.0  0.000000  \n",
       "scc00420_inpaint_1.png     0.0  0.659405  \n",
       "scc00445_inpaint_1.png     0.0  0.000000  \n",
       "scc00396_inpaint_1.png     0.0  0.000000  \n",
       "\n",
       "[1270 rows x 443 columns]"
      ]
     },
     "execution_count": 33,
     "metadata": {},
     "output_type": "execute_result"
    }
   ],
   "source": [
    "merged_df_val"
   ]
  },
  {
   "cell_type": "markdown",
   "metadata": {},
   "source": [
    "Evaluating the performance of merged features"
   ]
  },
  {
   "cell_type": "code",
   "execution_count": 38,
   "metadata": {},
   "outputs": [
    {
     "name": "stdout",
     "output_type": "stream",
     "text": [
      "[[615  63   0]\n",
      " [ 52 443   3]\n",
      " [ 23  68   3]]\n",
      "Train f1_weighted 0.8429171459061254\n",
      "Validation f1_weighted 0.8085342887716412\n",
      "Train kappa 0.7486235697694401\n",
      "Validation kappa 0.6908802511809042\n"
     ]
    }
   ],
   "source": [
    "X_train = merged_df_train.drop(columns=['class'])\n",
    "X_test = merged_df_val.drop(columns=['class'])\n",
    "y_train = merged_df_train['class']\n",
    "y_test = merged_df_val['class']\n",
    "\n",
    "scaler = DescriptorsTransformer(None)\n",
    "X_train = scaler.fit_transform(X_train)\n",
    "X_test = scaler.transform(X_test)\n",
    "svc = SVC(kernel='rbf', C=1, random_state=42, probability=True, class_weight='balanced')\n",
    "svc.fit(X_train, y_train)\n",
    "y_pred = svc.predict(X_test)\n",
    "y_pred_train = svc.predict(X_train)\n",
    "\n",
    "print(confusion_matrix(glcm_df_val['class'], y_pred))\n",
    "print('Train f1_weighted',f1_score(glcm_df_train['class'], y_pred_train, average='weighted'))\n",
    "print('Validation f1_weighted', f1_score(glcm_df_val['class'], y_pred, average='weighted'))\n",
    "print('Train kappa',cohen_kappa_score(glcm_df_train['class'], y_pred_train))\n",
    "print('Validation kappa', cohen_kappa_score(glcm_df_val['class'], y_pred))"
   ]
  },
  {
   "cell_type": "markdown",
   "metadata": {},
   "source": [
    "```\n",
    "[[449  47   2]\n",
    " [ 74 603   1]\n",
    " [ 56  27  11]]\n",
    "Train f1_weighted 0.8551313288300627\n",
    "Validation f1_weighted 0.8171845388739531\n",
    "Train kappa 0.7644150306930817\n",
    "Validation kappa 0.6958122549859067\n",
    "```"
   ]
  },
  {
   "cell_type": "markdown",
   "metadata": {},
   "source": []
  }
 ],
 "metadata": {
  "kernelspec": {
   "display_name": "Python 3.10.6 ('cad')",
   "language": "python",
   "name": "python3"
  },
  "language_info": {
   "codemirror_mode": {
    "name": "ipython",
    "version": 3
   },
   "file_extension": ".py",
   "mimetype": "text/x-python",
   "name": "python",
   "nbconvert_exporter": "python",
   "pygments_lexer": "ipython3",
   "version": "3.10.6"
  },
  "orig_nbformat": 4,
  "vscode": {
   "interpreter": {
    "hash": "c7c1e7ac575f79c2164305233ce3fe90eb4721145d6f5cc5b66dd624d52a700d"
   }
  }
 },
 "nbformat": 4,
 "nbformat_minor": 2
}
