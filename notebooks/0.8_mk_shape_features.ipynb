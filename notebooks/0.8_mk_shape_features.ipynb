{
 "cells": [
  {
   "cell_type": "code",
   "execution_count": 1,
   "metadata": {},
   "outputs": [],
   "source": [
    "import os\n",
    "os.chdir(\"..\")\n"
   ]
  },
  {
   "cell_type": "code",
   "execution_count": 2,
   "metadata": {},
   "outputs": [],
   "source": [
    "from skin_lesion_cad.utils.data_utils import get_class\n",
    "from copy import deepcopy\n",
    "import numpy as np\n",
    "import pandas as pd\n",
    "import matplotlib as mpl\n",
    "import matplotlib.pyplot as plt\n",
    "import seaborn as sns\n",
    "import functools as ft\n",
    "from statsmodels.graphics.tsaplots import plot_acf, plot_pacf\n",
    "from sklearn.model_selection import GridSearchCV, RandomizedSearchCV, train_test_split\n",
    "from skopt import BayesSearchCV\n",
    "from sklearn.metrics import accuracy_score, f1_score, roc_auc_score, confusion_matrix, roc_curve\n",
    "import xgboost as xgb\n",
    "import time\n",
    "import warnings\n",
    "from pathlib import Path\n",
    "mpl.rcParams['figure.dpi'] = 200\n"
   ]
  },
  {
   "cell_type": "code",
   "execution_count": 3,
   "metadata": {},
   "outputs": [],
   "source": [
    "feature_dir = \"data/processed/features\"\n",
    "CHALLENGE = \"chall1\"\n"
   ]
  },
  {
   "cell_type": "code",
   "execution_count": 18,
   "metadata": {},
   "outputs": [],
   "source": [
    "\n",
    "def read_feats(color=\"raw\"):\n",
    "    save_path = Path(\"data/processed/features\")\n",
    "\n",
    "    glcm_df_train = pd.read_feather(\n",
    "        save_path/Path(f\"{CHALLENGE}_train_glcm.feather\"))\n",
    "\n",
    "    lbp_df_train = pd.read_feather(\n",
    "        save_path/Path(f\"{CHALLENGE}_train_lbp.feather\"))\n",
    "\n",
    "    glcm_masked_df_train = pd.read_feather(\n",
    "        save_path/Path(f\"{CHALLENGE}_train_glcm_masked.feather\"))\n",
    "    glcm_masked_df_train.columns = [\n",
    "        \"masked_\"+i if i != \"image\" else i for i in glcm_masked_df_train.columns]\n",
    "\n",
    "    lbp_masked_df_train = pd.read_feather(\n",
    "        save_path/Path(f\"{CHALLENGE}_train_lbp_masked.feather\"))\n",
    "    lbp_masked_df_train.columns = [\n",
    "        \"masked_\"+i if i != \"image\" else i for i in lbp_masked_df_train.columns]\n",
    "\n",
    "    shape_df_train = pd.read_feather(\n",
    "        save_path/Path(f\"{CHALLENGE}_train_shape.feather\"))\n",
    "\n",
    "    color_df_raw_train = pd.read_feather(\n",
    "        save_path/Path(f\"{CHALLENGE}_train_color_raw.feather\"))\n",
    "    color_df_ms_train = pd.read_feather(\n",
    "        save_path/Path(f\"{CHALLENGE}_train_color_meanshift.feather\"))\n",
    "\n",
    "    glcm_df_val = pd.read_feather(\n",
    "        save_path/Path(f\"{CHALLENGE}_val_glcm.feather\"))\n",
    "    lbp_df_val = pd.read_feather(\n",
    "        save_path/Path(f\"{CHALLENGE}_val_lbp.feather\"))\n",
    "    shape_df_val = pd.read_feather(\n",
    "        save_path/Path(f\"{CHALLENGE}_val_shape.feather\"))\n",
    "    print(glcm_df_val[\"image\"])\n",
    "    glcm_masked_df_val = pd.read_feather(\n",
    "        save_path/Path(f\"{CHALLENGE}_val_glcm_masked.feather\"))\n",
    "    glcm_masked_df_val.columns = [\n",
    "        \"masked_\"+i if i != \"image\" else i for i in glcm_masked_df_val.columns]\n",
    "\n",
    "    lbp_masked_df_val = pd.read_feather(\n",
    "        save_path/Path(f\"{CHALLENGE}_val_lbp_masked.feather\"))\n",
    "    lbp_masked_df_val.columns = [\n",
    "        \"masked_\"+i if i != \"image\" else i for i in lbp_masked_df_val.columns]\n",
    "\n",
    "    color_df_raw_val = pd.read_feather(\n",
    "        save_path/Path(f\"{CHALLENGE}_val_color_raw.feather\"))\n",
    "    color_df_ms_val = pd.read_feather(\n",
    "        save_path/Path(f\"{CHALLENGE}_val_color_meanshift.feather\"))\n",
    "\n",
    "    dfs = [glcm_df_train, lbp_df_train, color_df_raw_train,\n",
    "           glcm_masked_df_train, lbp_masked_df_train, shape_df_train]\n",
    "    all_feat_raw_train = ft.reduce(\n",
    "        lambda left, right: pd.merge(left, right, on='image'), dfs)\n",
    "\n",
    "    dfs = [glcm_df_train, lbp_df_train, color_df_ms_train,\n",
    "           glcm_masked_df_train, lbp_masked_df_train, shape_df_train]\n",
    "    all_feat_ms_train = ft.reduce(\n",
    "        lambda left, right: pd.merge(left, right, on='image'), dfs)\n",
    "\n",
    "    dfs = [glcm_df_val, lbp_df_val, color_df_raw_val,\n",
    "           glcm_masked_df_val, lbp_masked_df_val, shape_df_val]\n",
    "    all_feat_raw_val = ft.reduce(\n",
    "        lambda left, right: pd.merge(left, right, on='image'), dfs)\n",
    "\n",
    "    dfs = [glcm_df_val, lbp_df_val, color_df_ms_val,\n",
    "           glcm_masked_df_val, lbp_masked_df_val, shape_df_val]\n",
    "    all_feat_ms_val = ft.reduce(\n",
    "        lambda left, right: pd.merge(left, right, on='image'), dfs)\n",
    "    if color == \"raw\":\n",
    "        return all_feat_raw_train, all_feat_raw_val\n",
    "    elif color == \"meanshift\":\n",
    "        return all_feat_ms_train, all_feat_ms_val\n"
   ]
  },
  {
   "cell_type": "code",
   "execution_count": 19,
   "metadata": {},
   "outputs": [
    {
     "name": "stdout",
     "output_type": "stream",
     "text": [
      "0       data/processed/chall1/val/others/mel02811_inpa...\n",
      "1       data/processed/chall1/val/others/bkl01760_inpa...\n",
      "2       data/processed/chall1/val/others/scc00461_inpa...\n",
      "3       data/processed/chall1/val/others/bcc02405_inpa...\n",
      "4       data/processed/chall1/val/others/bkl01900_inpa...\n",
      "                              ...                        \n",
      "3791    data/processed/chall1/val/nevus/nev07970_inpai...\n",
      "3792    data/processed/chall1/val/nevus/nev08398_inpai...\n",
      "3793    data/processed/chall1/val/nevus/nev08303_inpai...\n",
      "3794    data/processed/chall1/val/nevus/nev08137_inpai...\n",
      "3795    data/processed/chall1/val/nevus/nev09035_inpai...\n",
      "Name: image, Length: 3796, dtype: object\n"
     ]
    }
   ],
   "source": [
    "color = \"raw\"\n",
    "all_feat_train, all_feat_val = read_feats(\"raw\")\n",
    "\n",
    "X_train = all_feat_train.drop(columns='image')\n",
    "y_train = all_feat_train['image'].apply(get_class, chall=CHALLENGE)\n",
    "\n",
    "# X_train, X_val, y_train, y_val = train_test_split(\n",
    "#     X, y, test_size=0.3, random_state=42)\n",
    "X_test = all_feat_val.drop(columns='image')\n",
    "y_test = all_feat_val['image'].apply(get_class, chall=CHALLENGE)\n"
   ]
  },
  {
   "cell_type": "code",
   "execution_count": 21,
   "metadata": {},
   "outputs": [
    {
     "data": {
      "text/plain": [
       "(15195, 652)"
      ]
     },
     "execution_count": 21,
     "metadata": {},
     "output_type": "execute_result"
    }
   ],
   "source": [
    "X_train.shape"
   ]
  },
  {
   "cell_type": "code",
   "execution_count": 22,
   "metadata": {},
   "outputs": [],
   "source": [
    "\n",
    "X_train[np.isnan(X_train)] = 0\n",
    "X_train[np.isinf(X_train)] = 0\n",
    "\n",
    "X_test[np.isnan(X_test)] = 0\n",
    "X_test[np.isinf(X_test)] = 0\n"
   ]
  },
  {
   "cell_type": "code",
   "execution_count": 23,
   "metadata": {},
   "outputs": [],
   "source": [
    "from sklearn.preprocessing import StandardScaler\n",
    "scaler = StandardScaler()\n",
    "X_train = scaler.fit_transform(X_train)\n",
    "X_test = scaler.transform(X_test)\n"
   ]
  },
  {
   "cell_type": "code",
   "execution_count": 24,
   "metadata": {},
   "outputs": [],
   "source": [
    "xgb_params = {'base_score': 0.5,\n",
    "              'booster': 'gbtree',\n",
    "              'callbacks': None,\n",
    "              'colsample_bylevel': 1,\n",
    "              'colsample_bynode': 1,\n",
    "              'colsample_bytree': 1,\n",
    "              'early_stopping_rounds': None,\n",
    "              'enable_categorical': False,\n",
    "              'eval_metric': 'auc',\n",
    "              'gamma': 0.4,\n",
    "              'gpu_id': -1,\n",
    "              'grow_policy': 'lossguide',\n",
    "              'importance_type': None,\n",
    "              'interaction_constraints': '',\n",
    "              'learning_rate': 0.15,\n",
    "              'max_bin': 256,\n",
    "              'max_cat_to_onehot': 4,\n",
    "              'max_delta_step': 0,\n",
    "              'max_depth': 10,\n",
    "              'max_leaves': 0,\n",
    "              'min_child_weight': 1,\n",
    "              'monotone_constraints': '()',\n",
    "              'n_estimators': 100,\n",
    "              'n_jobs': 0,\n",
    "              'num_parallel_tree': 1,\n",
    "              'objective': 'binary:logistic',\n",
    "              'predictor': 'auto',\n",
    "              'random_state': 0,\n",
    "              'reg_alpha': 1.6,\n",
    "              'reg_lambda': 3.2,\n",
    "              'sampling_method': 'uniform',\n",
    "              'scale_pos_weight': 1,\n",
    "              'subsample': 1,\n",
    "              'tree_method': 'hist',\n",
    "              'use_label_encoder': False,\n",
    "              'validate_parameters': 1,\n",
    "              'verbosity': None}\n"
   ]
  },
  {
   "cell_type": "code",
   "execution_count": 25,
   "metadata": {},
   "outputs": [
    {
     "name": "stdout",
     "output_type": "stream",
     "text": [
      "0.9994735110233629\n",
      "0.8395679662802951\n",
      "[[1621  310]\n",
      " [ 299 1566]]\n"
     ]
    }
   ],
   "source": [
    "xgb_best = xgb.XGBClassifier(**xgb_params)\n",
    "xgb_best.fit(X_train, y_train.values.ravel())\n",
    "#predictions - inputs to confusion matrix\n",
    "train_predictions = xgb_best.predict(X_train)\n",
    "test_predictions = xgb_best.predict(X_test)\n",
    "# unseen_predictions = clf.predict(df_test.iloc[:,1:])\n",
    "\n",
    "#confusion matrices\n",
    "cfm_train = confusion_matrix(y_train, train_predictions)\n",
    "cfm_test = confusion_matrix(y_test, test_predictions)\n",
    "# cfm_unseen = confusion_matrix(df_test.iloc[:,:1], unseen_predictions)\n",
    "\n",
    "#accuracy scores\n",
    "accs_train = accuracy_score(y_train, train_predictions)\n",
    "accs_test = accuracy_score(y_test, test_predictions)\n",
    "print(accs_train)\n",
    "print(accs_test)\n",
    "print(cfm_test)\n"
   ]
  },
  {
   "cell_type": "code",
   "execution_count": 26,
   "metadata": {},
   "outputs": [
    {
     "name": "stdout",
     "output_type": "stream",
     "text": [
      "              precision    recall  f1-score   support\n",
      "\n",
      "           0       0.83      0.80      0.82      1931\n",
      "           1       0.80      0.83      0.81      1865\n",
      "\n",
      "    accuracy                           0.82      3796\n",
      "   macro avg       0.82      0.82      0.82      3796\n",
      "weighted avg       0.82      0.82      0.82      3796\n",
      "\n",
      "Confusion Matrix\n",
      " [[1553  378]\n",
      " [ 323 1542]]\n",
      "\n",
      "Accuracy:  0.815331928345627\n"
     ]
    }
   ],
   "source": [
    "from sklearn.svm import SVC\n",
    "from sklearn.metrics import classification_report, confusion_matrix, roc_auc_score, roc_curve, auc, accuracy_score, f1_score\n",
    "\n",
    "svc = SVC(kernel='rbf', probability=True, class_weight='balanced', C=1.0)\n",
    "svc.fit(X_train, y_train)\n",
    "\n",
    "y_pred = svc.predict(X_test)\n",
    "\n",
    "print(classification_report(y_test, y_pred))\n",
    "print('Confusion Matrix\\n', confusion_matrix(y_test, y_pred))\n",
    "print('\\nAccuracy: ', accuracy_score(y_test, y_pred))\n"
   ]
  },
  {
   "cell_type": "code",
   "execution_count": 28,
   "metadata": {},
   "outputs": [
    {
     "name": "stdout",
     "output_type": "stream",
     "text": [
      "Fitting 5 folds for each of 10 candidates, totalling 50 fits\n",
      "[CV 1/5] END ..........C=1, gamma=1, kernel=rbf;, score=0.513 total time= 1.4min\n",
      "[CV 2/5] END ..........C=1, gamma=1, kernel=rbf;, score=0.511 total time= 1.4min\n",
      "[CV 3/5] END ..........C=1, gamma=1, kernel=rbf;, score=0.512 total time= 1.6min\n",
      "[CV 4/5] END ..........C=1, gamma=1, kernel=rbf;, score=0.512 total time= 1.6min\n",
      "[CV 5/5] END ..........C=1, gamma=1, kernel=rbf;, score=0.512 total time= 1.6min\n",
      "[CV 1/5] END .....C=10, gamma=0.001, kernel=rbf;, score=0.824 total time=  29.3s\n",
      "[CV 2/5] END .....C=10, gamma=0.001, kernel=rbf;, score=0.823 total time=  29.4s\n",
      "[CV 3/5] END .....C=10, gamma=0.001, kernel=rbf;, score=0.830 total time=  29.6s\n",
      "[CV 4/5] END .....C=10, gamma=0.001, kernel=rbf;, score=0.823 total time=  29.4s\n",
      "[CV 5/5] END .....C=10, gamma=0.001, kernel=rbf;, score=0.824 total time=  34.5s\n",
      "[CV 1/5] END .......C=1, gamma=0.01, kernel=rbf;, score=0.816 total time=  58.6s\n",
      "[CV 2/5] END .......C=1, gamma=0.01, kernel=rbf;, score=0.808 total time=  54.2s\n",
      "[CV 3/5] END .......C=1, gamma=0.01, kernel=rbf;, score=0.823 total time=  55.3s\n",
      "[CV 4/5] END .......C=1, gamma=0.01, kernel=rbf;, score=0.824 total time=  56.4s\n",
      "[CV 5/5] END .......C=1, gamma=0.01, kernel=rbf;, score=0.812 total time= 1.0min\n",
      "[CV 1/5] END ........C=100, gamma=1, kernel=rbf;, score=0.513 total time= 2.5min\n",
      "[CV 2/5] END ........C=100, gamma=1, kernel=rbf;, score=0.511 total time= 2.6min\n",
      "[CV 3/5] END ........C=100, gamma=1, kernel=rbf;, score=0.513 total time= 2.6min\n",
      "[CV 4/5] END ........C=100, gamma=1, kernel=rbf;, score=0.513 total time= 2.3min\n",
      "[CV 5/5] END ........C=100, gamma=1, kernel=rbf;, score=0.513 total time= 2.1min\n",
      "[CV 1/5] END .....C=1, gamma=0.0001, kernel=rbf;, score=0.792 total time=  27.5s\n",
      "[CV 2/5] END .....C=1, gamma=0.0001, kernel=rbf;, score=0.781 total time=  26.1s\n",
      "[CV 3/5] END .....C=1, gamma=0.0001, kernel=rbf;, score=0.781 total time=  27.9s\n",
      "[CV 4/5] END .....C=1, gamma=0.0001, kernel=rbf;, score=0.795 total time=  29.3s\n",
      "[CV 5/5] END .....C=1, gamma=0.0001, kernel=rbf;, score=0.780 total time=  26.5s\n",
      "[CV 1/5] END ........C=1, gamma=0.1, kernel=rbf;, score=0.682 total time= 1.7min\n",
      "[CV 2/5] END ........C=1, gamma=0.1, kernel=rbf;, score=0.670 total time= 1.6min\n",
      "[CV 3/5] END ........C=1, gamma=0.1, kernel=rbf;, score=0.676 total time= 1.7min\n",
      "[CV 4/5] END ........C=1, gamma=0.1, kernel=rbf;, score=0.692 total time= 1.8min\n",
      "[CV 5/5] END ........C=1, gamma=0.1, kernel=rbf;, score=0.673 total time= 1.8min\n",
      "[CV 1/5] END ...C=1000, gamma=0.001, kernel=rbf;, score=0.814 total time= 1.2min\n",
      "[CV 2/5] END ...C=1000, gamma=0.001, kernel=rbf;, score=0.805 total time= 1.1min\n",
      "[CV 3/5] END ...C=1000, gamma=0.001, kernel=rbf;, score=0.802 total time= 1.2min\n",
      "[CV 4/5] END ...C=1000, gamma=0.001, kernel=rbf;, score=0.808 total time= 1.2min\n",
      "[CV 5/5] END ...C=1000, gamma=0.001, kernel=rbf;, score=0.815 total time= 1.2min\n",
      "[CV 1/5] END .....C=100, gamma=0.01, kernel=rbf;, score=0.822 total time= 1.7min\n",
      "[CV 2/5] END .....C=100, gamma=0.01, kernel=rbf;, score=0.804 total time= 1.6min\n",
      "[CV 3/5] END .....C=100, gamma=0.01, kernel=rbf;, score=0.821 total time= 1.6min\n",
      "[CV 4/5] END .....C=100, gamma=0.01, kernel=rbf;, score=0.825 total time= 1.6min\n",
      "[CV 5/5] END .....C=100, gamma=0.01, kernel=rbf;, score=0.819 total time= 1.6min\n",
      "[CV 1/5] END ....C=0.1, gamma=0.001, kernel=rbf;, score=0.783 total time=  26.6s\n",
      "[CV 2/5] END ....C=0.1, gamma=0.001, kernel=rbf;, score=0.779 total time=  26.8s\n",
      "[CV 3/5] END ....C=0.1, gamma=0.001, kernel=rbf;, score=0.779 total time=  27.3s\n",
      "[CV 4/5] END ....C=0.1, gamma=0.001, kernel=rbf;, score=0.785 total time=  27.3s\n",
      "[CV 5/5] END ....C=0.1, gamma=0.001, kernel=rbf;, score=0.768 total time=  26.7s\n",
      "[CV 1/5] END ....C=10, gamma=0.0001, kernel=rbf;, score=0.804 total time=  22.3s\n",
      "[CV 2/5] END ....C=10, gamma=0.0001, kernel=rbf;, score=0.798 total time=  21.6s\n",
      "[CV 3/5] END ....C=10, gamma=0.0001, kernel=rbf;, score=0.804 total time=  21.2s\n",
      "[CV 4/5] END ....C=10, gamma=0.0001, kernel=rbf;, score=0.804 total time=  21.4s\n",
      "[CV 5/5] END ....C=10, gamma=0.0001, kernel=rbf;, score=0.797 total time=  20.6s\n",
      "{'kernel': 'rbf', 'gamma': 0.001, 'C': 10}\n",
      "SVC(C=10, gamma=0.001)\n",
      "              precision    recall  f1-score   support\n",
      "\n",
      "           0       0.83      0.84      0.84      1931\n",
      "           1       0.83      0.83      0.83      1865\n",
      "\n",
      "    accuracy                           0.83      3796\n",
      "   macro avg       0.83      0.83      0.83      3796\n",
      "weighted avg       0.83      0.83      0.83      3796\n",
      "\n"
     ]
    }
   ],
   "source": [
    "from sklearn.model_selection import GridSearchCV, RandomizedSearchCV\n",
    "\n",
    "# defining parameter range\n",
    "param_grid = {'C': [0.1, 1, 10, 100, 1000],\n",
    "              'gamma': [1, 0.1, 0.01, 0.001, 0.0001],\n",
    "              'kernel': ['rbf']}\n",
    "\n",
    "grid = RandomizedSearchCV(SVC(), param_grid, refit=True, verbose=3)\n",
    "\n",
    "\n",
    "# fitting the model for grid search\n",
    "grid.fit(X_train, y_train)\n",
    "\n",
    "\n",
    "# print best parameter after tuning\n",
    "print(grid.best_params_)\n",
    "\n",
    "# print how our model looks after hyper-parameter tuning\n",
    "print(grid.best_estimator_)\n",
    "\n",
    "grid_predictions = grid.predict(X_test)\n",
    "\n",
    "# print classification report\n",
    "print(classification_report(y_test, grid_predictions))\n"
   ]
  },
  {
   "cell_type": "code",
   "execution_count": 29,
   "metadata": {},
   "outputs": [
    {
     "name": "stdout",
     "output_type": "stream",
     "text": [
      "Confusion Matrix\n",
      " [[1618  313]\n",
      " [ 320 1545]]\n",
      "\n",
      "Accuracy:  0.833245521601686\n"
     ]
    }
   ],
   "source": [
    "print('Confusion Matrix\\n', confusion_matrix(y_test, grid_predictions))\n",
    "print('\\nAccuracy: ', accuracy_score(y_test, grid_predictions))\n"
   ]
  },
  {
   "cell_type": "code",
   "execution_count": 30,
   "metadata": {},
   "outputs": [
    {
     "name": "stdout",
     "output_type": "stream",
     "text": [
      "{'kernel': 'rbf', 'gamma': 0.001, 'C': 10}\n"
     ]
    }
   ],
   "source": [
    "print(grid.best_params_)\n"
   ]
  },
  {
   "cell_type": "code",
   "execution_count": null,
   "metadata": {},
   "outputs": [],
   "source": []
  }
 ],
 "metadata": {
  "interpreter": {
   "hash": "49574378497f446692c7e26f7d0f985f921d43351aeee8284e547a417bd9147b"
  },
  "kernelspec": {
   "display_name": "Python 3 (ipykernel)",
   "language": "python",
   "name": "python3"
  },
  "language_info": {
   "codemirror_mode": {
    "name": "ipython",
    "version": 3
   },
   "file_extension": ".py",
   "mimetype": "text/x-python",
   "name": "python",
   "nbconvert_exporter": "python",
   "pygments_lexer": "ipython3",
   "version": "3.9.13"
  }
 },
 "nbformat": 4,
 "nbformat_minor": 4
}
