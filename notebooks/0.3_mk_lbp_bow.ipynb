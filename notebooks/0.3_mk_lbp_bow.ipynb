{
 "cells": [
  {
   "cell_type": "code",
   "execution_count": 1,
   "source": [
    "import os\n",
    "os.chdir(\"..\")\n"
   ],
   "outputs": [],
   "metadata": {}
  },
  {
   "cell_type": "code",
   "execution_count": 2,
   "source": [
    "!ls"
   ],
   "outputs": [
    {
     "output_type": "stream",
     "name": "stdout",
     "text": [
      "LICENSE             descriptors.pkl     \u001b[1m\u001b[36mnotebooks\u001b[m\u001b[m           \u001b[1m\u001b[36mskin_lesion_cad\u001b[m\u001b[m\n",
      "README.md           descriptors_all.pkl \u001b[1m\u001b[36mreferences\u001b[m\u001b[m\n",
      "bovw.pkl            \u001b[1m\u001b[36mdocs\u001b[m\u001b[m                \u001b[1m\u001b[36mreports\u001b[m\u001b[m\n",
      "\u001b[1m\u001b[36mdata\u001b[m\u001b[m                \u001b[1m\u001b[36mmodels\u001b[m\u001b[m              requirements.txt\n"
     ]
    }
   ],
   "metadata": {}
  },
  {
   "cell_type": "code",
   "execution_count": 3,
   "source": [
    "from skin_lesion_cad.data.BOVW import DenseDescriptor, BagofWords, LBPDescriptor\n",
    "import random\n",
    "from tqdm import tqdm\n",
    "from pathlib import Path\n",
    "import numpy as np\n",
    "import cv2\n",
    "from joblib import Parallel, delayed, parallel_backend\n",
    "from sklearn.pipeline import make_pipeline\n",
    "from sklearn.svm import SVC\n",
    "from sklearn.model_selection import train_test_split\n",
    "from sklearn.metrics import classification_report\n",
    "\n",
    "import matplotlib.pyplot as plt\n"
   ],
   "outputs": [],
   "metadata": {}
  },
  {
   "cell_type": "code",
   "execution_count": 4,
   "source": [
    "def get_chall2_class(path):\n",
    "    if \"bcc\" in str(path):\n",
    "        return \"bcc\"\n",
    "    elif \"mel\" in str(path):\n",
    "        return \"mel\"\n",
    "    elif \"scc\" in str(path):\n",
    "        return \"scc\"\n",
    "    else:\n",
    "        raise ValueError(\"class needs to be bcc, mel or scc\")\n"
   ],
   "outputs": [],
   "metadata": {}
  },
  {
   "cell_type": "code",
   "execution_count": 14,
   "source": [
    "# SAMPLE_SIZE = 1000\n",
    "\n",
    "chall = \"chall2\"\n",
    "train_path = Path(f\"data/processed/{chall}/train\")\n",
    "training_names = train_path.rglob(\"*_inpaint_0_5*\")\n",
    "\n",
    "# Get path to all images and save them in a list\n",
    "image_paths = [i for i in training_names]\n",
    "\n",
    "\n",
    "# Currently only sampling few images for quick testing\n",
    "# image_paths = [i for i in training_names]\n",
    "if chall==\"chall1\":\n",
    "    image_classes = [0 if (\"nevus\" in str(i)) else 1 for i in image_paths]\n",
    "elif chall==\"chall2\":\n",
    "    image_classes = [get_chall2_class(str(i)) for i in image_paths]\n",
    "mask_paths = [image_path.parent/\n",
    "              Path(image_path.name.replace(\"inpaint\",\"mask\")) for image_path in image_paths]\n",
    "\n",
    "\n",
    "# BRISK is a good replacement to SIFT. ORB also works but didn;t work well for this example\n",
    "\n",
    "brisk = cv2.BRISK_create(thresh=30, octaves=0)\n",
    "dense_brisk = DenseDescriptor(\n",
    "    descriptor=brisk, min_keypoints=100, max_keypoints=500, kp_size=25)\n",
    "lbp = LBPDescriptor(descriptor=brisk, min_keypoints=100, max_keypoints=500, kp_size=25)\n"
   ],
   "outputs": [],
   "metadata": {}
  },
  {
   "cell_type": "code",
   "execution_count": 15,
   "source": [
    "image_paths[0]"
   ],
   "outputs": [
    {
     "output_type": "execute_result",
     "data": {
      "text/plain": [
       "PosixPath('data/processed/chall2/train/bcc/bcc01703_inpaint_0_5.png')"
      ]
     },
     "metadata": {},
     "execution_count": 15
    }
   ],
   "metadata": {}
  },
  {
   "cell_type": "code",
   "execution_count": 16,
   "source": [
    "def _load_and_extract_des(image_path, mask_path, descriptor):\n",
    "    im = cv2.imread(str(image_path))\n",
    "    im_gray = cv2.cvtColor(im, cv2.COLOR_BGR2GRAY)\n",
    "    mask = cv2.imread(str(mask_path))\n",
    "    kpts, des = descriptor.detectAndCompute(im_gray, mask)\n",
    "    return des\n",
    "\n",
    "\n"
   ],
   "outputs": [],
   "metadata": {}
  },
  {
   "cell_type": "code",
   "execution_count": 17,
   "source": [
    "\n",
    "with parallel_backend('threading', n_jobs=-1):\n",
    "    des_list = Parallel(verbose=10)(\n",
    "        delayed(_load_and_extract_des)(filename, mask_paths[i], lbp) for i, filename in enumerate(image_paths)\n",
    "    )\n"
   ],
   "outputs": [
    {
     "output_type": "stream",
     "name": "stderr",
     "text": [
      "[Parallel(n_jobs=-1)]: Using backend ThreadingBackend with 8 concurrent workers.\n",
      "[Parallel(n_jobs=-1)]: Done   2 tasks      | elapsed:    0.7s\n",
      "[Parallel(n_jobs=-1)]: Done   9 tasks      | elapsed:    1.3s\n",
      "[Parallel(n_jobs=-1)]: Done  16 tasks      | elapsed:    1.4s\n",
      "[Parallel(n_jobs=-1)]: Done  25 tasks      | elapsed:    2.3s\n",
      "[Parallel(n_jobs=-1)]: Done  34 tasks      | elapsed:    2.9s\n",
      "[Parallel(n_jobs=-1)]: Done  45 tasks      | elapsed:    3.6s\n",
      "[Parallel(n_jobs=-1)]: Done  56 tasks      | elapsed:    4.4s\n",
      "[Parallel(n_jobs=-1)]: Done  69 tasks      | elapsed:    5.4s\n",
      "[Parallel(n_jobs=-1)]: Done  82 tasks      | elapsed:    6.4s\n",
      "[Parallel(n_jobs=-1)]: Done  97 tasks      | elapsed:    7.7s\n",
      "[Parallel(n_jobs=-1)]: Done 112 tasks      | elapsed:    8.8s\n",
      "[Parallel(n_jobs=-1)]: Done 129 tasks      | elapsed:   10.1s\n",
      "[Parallel(n_jobs=-1)]: Done 146 tasks      | elapsed:   11.2s\n",
      "[Parallel(n_jobs=-1)]: Done 165 tasks      | elapsed:   12.4s\n",
      "[Parallel(n_jobs=-1)]: Done 184 tasks      | elapsed:   13.7s\n",
      "[Parallel(n_jobs=-1)]: Done 205 tasks      | elapsed:   15.4s\n",
      "[Parallel(n_jobs=-1)]: Done 226 tasks      | elapsed:   16.8s\n",
      "[Parallel(n_jobs=-1)]: Done 249 tasks      | elapsed:   18.5s\n",
      "[Parallel(n_jobs=-1)]: Done 272 tasks      | elapsed:   20.1s\n",
      "[Parallel(n_jobs=-1)]: Done 297 tasks      | elapsed:   21.8s\n",
      "[Parallel(n_jobs=-1)]: Done 322 tasks      | elapsed:   23.4s\n",
      "[Parallel(n_jobs=-1)]: Done 349 tasks      | elapsed:   25.2s\n",
      "[Parallel(n_jobs=-1)]: Done 376 tasks      | elapsed:   27.2s\n",
      "[Parallel(n_jobs=-1)]: Done 405 tasks      | elapsed:   29.7s\n",
      "[Parallel(n_jobs=-1)]: Done 434 tasks      | elapsed:   31.8s\n",
      "[Parallel(n_jobs=-1)]: Done 465 tasks      | elapsed:   33.7s\n",
      "[Parallel(n_jobs=-1)]: Done 496 tasks      | elapsed:   35.9s\n",
      "[Parallel(n_jobs=-1)]: Done 529 tasks      | elapsed:   38.4s\n"
     ]
    }
   ],
   "metadata": {}
  },
  {
   "cell_type": "code",
   "execution_count": 9,
   "source": [
    "from sklearn.preprocessing import LabelEncoder\n",
    "bovw = BagofWords(n_words=10, n_jobs=-1, random_state=None)\n",
    "classifier = SVC(max_iter=10000, probability=True, class_weight='balanced', C=1.0)\n",
    "X_train, X_test, y_train, y_test = train_test_split(\n",
    "    des_list, image_classes, test_size=0.33, random_state=42)\n",
    "le = LabelEncoder()\n",
    "y_train = le.fit_transform(y_train)\n",
    "y_test = le.transform(y_test)\n"
   ],
   "outputs": [],
   "metadata": {}
  },
  {
   "cell_type": "code",
   "execution_count": 10,
   "source": [
    "X_train_preprocessed = bovw.fit_transform(X_train, y_train)\n",
    "X_test_preprocessed = bovw.transform(X_test)"
   ],
   "outputs": [],
   "metadata": {}
  },
  {
   "cell_type": "code",
   "execution_count": 11,
   "source": [
    "classifier.fit(X_train_preprocessed, y_train)\n",
    "y_pred = classifier.predict(X_test_preprocessed)"
   ],
   "outputs": [
    {
     "output_type": "stream",
     "name": "stderr",
     "text": [
      "/Users/manasikattel/miniforge3/envs/cad/lib/python3.9/site-packages/sklearn/svm/_base.py:301: ConvergenceWarning: Solver terminated early (max_iter=10000).  Consider pre-processing your data with StandardScaler or MinMaxScaler.\n",
      "  warnings.warn(\n"
     ]
    }
   ],
   "metadata": {}
  },
  {
   "cell_type": "code",
   "execution_count": 12,
   "source": [
    "print(classification_report(y_test, y_pred))\n"
   ],
   "outputs": [
    {
     "output_type": "stream",
     "name": "stdout",
     "text": [
      "              precision    recall  f1-score   support\n",
      "\n",
      "           0       0.71      0.69      0.70      2564\n",
      "           1       0.68      0.70      0.69      2451\n",
      "\n",
      "    accuracy                           0.69      5015\n",
      "   macro avg       0.69      0.69      0.69      5015\n",
      "weighted avg       0.69      0.69      0.69      5015\n",
      "\n"
     ]
    }
   ],
   "metadata": {}
  },
  {
   "cell_type": "code",
   "execution_count": 13,
   "source": [
    "from xgboost import XGBClassifier\n",
    "\n",
    "xgb_cl = XGBClassifier()\n",
    "\n",
    "xgb_cl.fit(X_train_preprocessed, y_train)\n",
    "y_pred = xgb_cl.predict(X_test_preprocessed)\n",
    "\n",
    "print(classification_report(y_test, y_pred))\n"
   ],
   "outputs": [
    {
     "output_type": "stream",
     "name": "stdout",
     "text": [
      "              precision    recall  f1-score   support\n",
      "\n",
      "           0       0.68      0.69      0.69      2564\n",
      "           1       0.67      0.66      0.67      2451\n",
      "\n",
      "    accuracy                           0.68      5015\n",
      "   macro avg       0.68      0.68      0.68      5015\n",
      "weighted avg       0.68      0.68      0.68      5015\n",
      "\n"
     ]
    }
   ],
   "metadata": {}
  },
  {
   "cell_type": "markdown",
   "source": [
    "# Whole image lbp"
   ],
   "metadata": {}
  },
  {
   "cell_type": "code",
   "execution_count": 55,
   "source": [
    "from skimage.feature import local_binary_pattern\n",
    "\n",
    "\n",
    "def lbph(image, n_points_radius=[(24, 8), (8, 3), (12, 3), (8, 2), (8, 1)], method=\"default\", eps=1e-7):\n",
    "    hist_concat = np.array([])\n",
    "    for (n_points, radius) in n_points_radius:\n",
    "\n",
    "        lbp = local_binary_pattern(\n",
    "            image, n_points, radius, method)\n",
    "        (hist, _) = np.histogram(lbp.ravel(),\n",
    "                                bins=np.arange(0, n_points + 3),\n",
    "                                range=(0, n_points + 2))\n",
    "        # normalize the histogram\n",
    "        hist = hist.astype(\"float\")\n",
    "        hist /= (hist.sum() + eps)\n",
    "        hist_concat = np.append(hist_concat,hist)\n",
    "    return hist_concat\n"
   ],
   "outputs": [],
   "metadata": {}
  },
  {
   "cell_type": "code",
   "execution_count": 56,
   "source": [
    "def get_lbphfeat(image_path):\n",
    "    im = cv2.imread(str(image_path))\n",
    "    im_gray = cv2.cvtColor(im, cv2.COLOR_BGR2GRAY)\n",
    "    \n",
    "    return lbph(im_gray)\n",
    "\n",
    "\n",
    "with parallel_backend('threading', n_jobs=-1):\n",
    "    lbp_feats = Parallel(verbose=10)(\n",
    "        delayed(get_lbphfeat)(image_path) for image_path in image_paths\n",
    "    )\n"
   ],
   "outputs": [
    {
     "output_type": "stream",
     "name": "stderr",
     "text": [
      "[Parallel(n_jobs=-1)]: Using backend ThreadingBackend with 8 concurrent workers.\n",
      "[Parallel(n_jobs=-1)]: Done   2 tasks      | elapsed:    0.1s\n",
      "[Parallel(n_jobs=-1)]: Done   9 tasks      | elapsed:    0.2s\n",
      "[Parallel(n_jobs=-1)]: Done  16 tasks      | elapsed:    0.4s\n",
      "[Parallel(n_jobs=-1)]: Done  25 tasks      | elapsed:    0.6s\n",
      "[Parallel(n_jobs=-1)]: Done  34 tasks      | elapsed:    0.8s\n",
      "[Parallel(n_jobs=-1)]: Done  45 tasks      | elapsed:    1.0s\n",
      "[Parallel(n_jobs=-1)]: Done  56 tasks      | elapsed:    1.3s\n",
      "[Parallel(n_jobs=-1)]: Done  69 tasks      | elapsed:    1.5s\n",
      "[Parallel(n_jobs=-1)]: Done  82 tasks      | elapsed:    1.7s\n",
      "[Parallel(n_jobs=-1)]: Done  97 tasks      | elapsed:    2.0s\n",
      "[Parallel(n_jobs=-1)]: Done 112 tasks      | elapsed:    2.3s\n",
      "[Parallel(n_jobs=-1)]: Done 129 tasks      | elapsed:    2.6s\n",
      "[Parallel(n_jobs=-1)]: Done 146 tasks      | elapsed:    2.9s\n",
      "[Parallel(n_jobs=-1)]: Done 165 tasks      | elapsed:    3.3s\n",
      "[Parallel(n_jobs=-1)]: Done 184 tasks      | elapsed:    3.7s\n",
      "[Parallel(n_jobs=-1)]: Done 205 tasks      | elapsed:    4.1s\n",
      "[Parallel(n_jobs=-1)]: Done 226 tasks      | elapsed:    4.5s\n",
      "[Parallel(n_jobs=-1)]: Done 249 tasks      | elapsed:    5.0s\n",
      "[Parallel(n_jobs=-1)]: Done 272 tasks      | elapsed:    5.5s\n",
      "[Parallel(n_jobs=-1)]: Done 297 tasks      | elapsed:    6.0s\n",
      "[Parallel(n_jobs=-1)]: Done 322 tasks      | elapsed:    6.4s\n",
      "[Parallel(n_jobs=-1)]: Done 349 tasks      | elapsed:    7.0s\n",
      "[Parallel(n_jobs=-1)]: Done 376 tasks      | elapsed:    7.5s\n",
      "[Parallel(n_jobs=-1)]: Done 405 tasks      | elapsed:    8.2s\n",
      "[Parallel(n_jobs=-1)]: Done 434 tasks      | elapsed:    8.7s\n",
      "[Parallel(n_jobs=-1)]: Done 465 tasks      | elapsed:    9.5s\n",
      "[Parallel(n_jobs=-1)]: Done 496 tasks      | elapsed:   10.1s\n",
      "[Parallel(n_jobs=-1)]: Done 529 tasks      | elapsed:   10.7s\n",
      "[Parallel(n_jobs=-1)]: Done 562 tasks      | elapsed:   11.5s\n",
      "[Parallel(n_jobs=-1)]: Done 597 tasks      | elapsed:   12.4s\n",
      "[Parallel(n_jobs=-1)]: Done 632 tasks      | elapsed:   13.2s\n",
      "[Parallel(n_jobs=-1)]: Done 669 tasks      | elapsed:   14.2s\n",
      "[Parallel(n_jobs=-1)]: Done 706 tasks      | elapsed:   15.0s\n",
      "[Parallel(n_jobs=-1)]: Done 745 tasks      | elapsed:   15.8s\n",
      "[Parallel(n_jobs=-1)]: Done 784 tasks      | elapsed:   16.6s\n",
      "[Parallel(n_jobs=-1)]: Done 825 tasks      | elapsed:   17.4s\n",
      "[Parallel(n_jobs=-1)]: Done 866 tasks      | elapsed:   18.1s\n",
      "[Parallel(n_jobs=-1)]: Done 909 tasks      | elapsed:   19.0s\n",
      "[Parallel(n_jobs=-1)]: Done 952 tasks      | elapsed:   19.8s\n",
      "[Parallel(n_jobs=-1)]: Done 997 tasks      | elapsed:   20.6s\n",
      "[Parallel(n_jobs=-1)]: Done 1042 tasks      | elapsed:   21.4s\n",
      "[Parallel(n_jobs=-1)]: Done 1089 tasks      | elapsed:   22.4s\n",
      "[Parallel(n_jobs=-1)]: Done 1136 tasks      | elapsed:   23.3s\n",
      "[Parallel(n_jobs=-1)]: Done 1185 tasks      | elapsed:   24.3s\n",
      "[Parallel(n_jobs=-1)]: Done 1234 tasks      | elapsed:   25.3s\n",
      "[Parallel(n_jobs=-1)]: Done 1285 tasks      | elapsed:   26.3s\n",
      "[Parallel(n_jobs=-1)]: Done 1336 tasks      | elapsed:   27.3s\n",
      "[Parallel(n_jobs=-1)]: Done 1389 tasks      | elapsed:   28.4s\n",
      "[Parallel(n_jobs=-1)]: Done 1442 tasks      | elapsed:   29.5s\n",
      "[Parallel(n_jobs=-1)]: Done 1497 tasks      | elapsed:   30.6s\n",
      "[Parallel(n_jobs=-1)]: Done 1552 tasks      | elapsed:   31.7s\n",
      "[Parallel(n_jobs=-1)]: Done 1609 tasks      | elapsed:   33.0s\n",
      "[Parallel(n_jobs=-1)]: Done 1666 tasks      | elapsed:   34.0s\n",
      "[Parallel(n_jobs=-1)]: Done 1725 tasks      | elapsed:   35.2s\n",
      "[Parallel(n_jobs=-1)]: Done 1784 tasks      | elapsed:   36.5s\n",
      "[Parallel(n_jobs=-1)]: Done 1845 tasks      | elapsed:   37.7s\n",
      "[Parallel(n_jobs=-1)]: Done 1906 tasks      | elapsed:   38.9s\n",
      "[Parallel(n_jobs=-1)]: Done 1969 tasks      | elapsed:   40.1s\n",
      "[Parallel(n_jobs=-1)]: Done 2032 tasks      | elapsed:   41.8s\n",
      "[Parallel(n_jobs=-1)]: Done 2097 tasks      | elapsed:   43.2s\n",
      "[Parallel(n_jobs=-1)]: Done 2162 tasks      | elapsed:   44.6s\n",
      "[Parallel(n_jobs=-1)]: Done 2229 tasks      | elapsed:   46.2s\n",
      "[Parallel(n_jobs=-1)]: Done 2296 tasks      | elapsed:   47.8s\n",
      "[Parallel(n_jobs=-1)]: Done 2365 tasks      | elapsed:   49.5s\n",
      "[Parallel(n_jobs=-1)]: Done 2434 tasks      | elapsed:   51.2s\n",
      "[Parallel(n_jobs=-1)]: Done 2505 tasks      | elapsed:   52.5s\n",
      "[Parallel(n_jobs=-1)]: Done 2576 tasks      | elapsed:   53.8s\n",
      "[Parallel(n_jobs=-1)]: Done 2649 tasks      | elapsed:   55.4s\n",
      "[Parallel(n_jobs=-1)]: Done 2722 tasks      | elapsed:   57.1s\n",
      "[Parallel(n_jobs=-1)]: Done 2797 tasks      | elapsed:   58.8s\n",
      "[Parallel(n_jobs=-1)]: Done 2872 tasks      | elapsed:  1.0min\n",
      "[Parallel(n_jobs=-1)]: Done 2949 tasks      | elapsed:  1.0min\n",
      "[Parallel(n_jobs=-1)]: Done 3026 tasks      | elapsed:  1.1min\n",
      "[Parallel(n_jobs=-1)]: Done 3105 tasks      | elapsed:  1.1min\n",
      "[Parallel(n_jobs=-1)]: Done 3184 tasks      | elapsed:  1.1min\n",
      "[Parallel(n_jobs=-1)]: Done 3265 tasks      | elapsed:  1.1min\n",
      "[Parallel(n_jobs=-1)]: Done 3346 tasks      | elapsed:  1.2min\n",
      "[Parallel(n_jobs=-1)]: Done 3429 tasks      | elapsed:  1.2min\n",
      "[Parallel(n_jobs=-1)]: Done 3512 tasks      | elapsed:  1.2min\n",
      "[Parallel(n_jobs=-1)]: Done 3597 tasks      | elapsed:  1.3min\n",
      "[Parallel(n_jobs=-1)]: Done 3682 tasks      | elapsed:  1.3min\n",
      "[Parallel(n_jobs=-1)]: Done 3769 tasks      | elapsed:  1.3min\n",
      "[Parallel(n_jobs=-1)]: Done 3856 tasks      | elapsed:  1.3min\n",
      "[Parallel(n_jobs=-1)]: Done 3945 tasks      | elapsed:  1.4min\n",
      "[Parallel(n_jobs=-1)]: Done 4034 tasks      | elapsed:  1.4min\n",
      "[Parallel(n_jobs=-1)]: Done 4125 tasks      | elapsed:  1.4min\n",
      "[Parallel(n_jobs=-1)]: Done 4216 tasks      | elapsed:  1.5min\n",
      "[Parallel(n_jobs=-1)]: Done 4309 tasks      | elapsed:  1.5min\n",
      "[Parallel(n_jobs=-1)]: Done 4402 tasks      | elapsed:  1.5min\n",
      "[Parallel(n_jobs=-1)]: Done 4497 tasks      | elapsed:  1.5min\n",
      "[Parallel(n_jobs=-1)]: Done 4592 tasks      | elapsed:  1.6min\n",
      "[Parallel(n_jobs=-1)]: Done 4689 tasks      | elapsed:  1.6min\n",
      "[Parallel(n_jobs=-1)]: Done 4786 tasks      | elapsed:  1.6min\n",
      "[Parallel(n_jobs=-1)]: Done 4885 tasks      | elapsed:  1.7min\n",
      "[Parallel(n_jobs=-1)]: Done 4984 tasks      | elapsed:  1.7min\n",
      "[Parallel(n_jobs=-1)]: Done 5085 tasks      | elapsed:  1.7min\n",
      "[Parallel(n_jobs=-1)]: Done 5186 tasks      | elapsed:  1.8min\n",
      "[Parallel(n_jobs=-1)]: Done 5289 tasks      | elapsed:  1.8min\n",
      "[Parallel(n_jobs=-1)]: Done 5392 tasks      | elapsed:  1.8min\n",
      "[Parallel(n_jobs=-1)]: Done 5497 tasks      | elapsed:  1.9min\n",
      "[Parallel(n_jobs=-1)]: Done 5602 tasks      | elapsed:  1.9min\n",
      "[Parallel(n_jobs=-1)]: Done 5709 tasks      | elapsed:  1.9min\n",
      "[Parallel(n_jobs=-1)]: Done 5816 tasks      | elapsed:  2.0min\n",
      "[Parallel(n_jobs=-1)]: Done 5925 tasks      | elapsed:  2.0min\n",
      "[Parallel(n_jobs=-1)]: Done 6034 tasks      | elapsed:  2.0min\n",
      "[Parallel(n_jobs=-1)]: Done 6145 tasks      | elapsed:  2.1min\n",
      "[Parallel(n_jobs=-1)]: Done 6256 tasks      | elapsed:  2.1min\n",
      "[Parallel(n_jobs=-1)]: Done 6369 tasks      | elapsed:  2.2min\n",
      "[Parallel(n_jobs=-1)]: Done 6482 tasks      | elapsed:  2.2min\n",
      "[Parallel(n_jobs=-1)]: Done 6597 tasks      | elapsed:  2.2min\n",
      "[Parallel(n_jobs=-1)]: Done 6712 tasks      | elapsed:  2.3min\n",
      "[Parallel(n_jobs=-1)]: Done 6829 tasks      | elapsed:  2.3min\n",
      "[Parallel(n_jobs=-1)]: Done 6946 tasks      | elapsed:  2.3min\n",
      "[Parallel(n_jobs=-1)]: Done 7065 tasks      | elapsed:  2.4min\n",
      "[Parallel(n_jobs=-1)]: Done 7184 tasks      | elapsed:  2.4min\n",
      "[Parallel(n_jobs=-1)]: Done 7305 tasks      | elapsed:  2.5min\n",
      "[Parallel(n_jobs=-1)]: Done 7426 tasks      | elapsed:  2.5min\n",
      "[Parallel(n_jobs=-1)]: Done 7549 tasks      | elapsed:  2.5min\n",
      "[Parallel(n_jobs=-1)]: Done 7672 tasks      | elapsed:  2.6min\n",
      "[Parallel(n_jobs=-1)]: Done 7797 tasks      | elapsed:  2.6min\n",
      "[Parallel(n_jobs=-1)]: Done 7922 tasks      | elapsed:  2.6min\n",
      "[Parallel(n_jobs=-1)]: Done 8049 tasks      | elapsed:  2.7min\n",
      "[Parallel(n_jobs=-1)]: Done 8176 tasks      | elapsed:  2.7min\n",
      "[Parallel(n_jobs=-1)]: Done 8305 tasks      | elapsed:  2.7min\n",
      "[Parallel(n_jobs=-1)]: Done 8434 tasks      | elapsed:  2.8min\n",
      "[Parallel(n_jobs=-1)]: Done 8565 tasks      | elapsed:  2.8min\n",
      "[Parallel(n_jobs=-1)]: Done 8696 tasks      | elapsed:  2.8min\n",
      "[Parallel(n_jobs=-1)]: Done 8829 tasks      | elapsed:  2.9min\n",
      "[Parallel(n_jobs=-1)]: Done 8962 tasks      | elapsed:  2.9min\n",
      "[Parallel(n_jobs=-1)]: Done 9097 tasks      | elapsed:  2.9min\n",
      "[Parallel(n_jobs=-1)]: Done 9232 tasks      | elapsed:  3.0min\n",
      "[Parallel(n_jobs=-1)]: Done 9369 tasks      | elapsed:  3.0min\n",
      "[Parallel(n_jobs=-1)]: Done 9506 tasks      | elapsed:  3.0min\n",
      "[Parallel(n_jobs=-1)]: Done 9645 tasks      | elapsed:  3.1min\n",
      "[Parallel(n_jobs=-1)]: Done 9784 tasks      | elapsed:  3.1min\n",
      "[Parallel(n_jobs=-1)]: Done 9925 tasks      | elapsed:  3.2min\n",
      "[Parallel(n_jobs=-1)]: Done 10066 tasks      | elapsed:  3.2min\n",
      "[Parallel(n_jobs=-1)]: Done 10209 tasks      | elapsed:  3.2min\n",
      "[Parallel(n_jobs=-1)]: Done 10352 tasks      | elapsed:  3.3min\n",
      "[Parallel(n_jobs=-1)]: Done 10497 tasks      | elapsed:  3.3min\n",
      "[Parallel(n_jobs=-1)]: Done 10642 tasks      | elapsed:  3.3min\n",
      "[Parallel(n_jobs=-1)]: Done 10789 tasks      | elapsed:  3.4min\n",
      "[Parallel(n_jobs=-1)]: Done 10936 tasks      | elapsed:  3.4min\n",
      "[Parallel(n_jobs=-1)]: Done 11085 tasks      | elapsed:  3.4min\n",
      "[Parallel(n_jobs=-1)]: Done 11234 tasks      | elapsed:  3.5min\n",
      "[Parallel(n_jobs=-1)]: Done 11385 tasks      | elapsed:  3.5min\n",
      "[Parallel(n_jobs=-1)]: Done 11536 tasks      | elapsed:  3.6min\n",
      "[Parallel(n_jobs=-1)]: Done 11689 tasks      | elapsed:  3.6min\n",
      "[Parallel(n_jobs=-1)]: Done 11842 tasks      | elapsed:  3.6min\n",
      "[Parallel(n_jobs=-1)]: Done 11997 tasks      | elapsed:  3.7min\n",
      "[Parallel(n_jobs=-1)]: Done 12152 tasks      | elapsed:  3.7min\n",
      "[Parallel(n_jobs=-1)]: Done 12309 tasks      | elapsed:  3.8min\n",
      "[Parallel(n_jobs=-1)]: Done 12466 tasks      | elapsed:  3.8min\n",
      "[Parallel(n_jobs=-1)]: Done 12625 tasks      | elapsed:  3.8min\n",
      "[Parallel(n_jobs=-1)]: Done 12784 tasks      | elapsed:  3.9min\n",
      "[Parallel(n_jobs=-1)]: Done 12945 tasks      | elapsed:  3.9min\n",
      "[Parallel(n_jobs=-1)]: Done 13106 tasks      | elapsed:  4.0min\n",
      "[Parallel(n_jobs=-1)]: Done 13269 tasks      | elapsed:  4.0min\n",
      "[Parallel(n_jobs=-1)]: Done 13432 tasks      | elapsed:  4.1min\n",
      "[Parallel(n_jobs=-1)]: Done 13597 tasks      | elapsed:  4.1min\n",
      "[Parallel(n_jobs=-1)]: Done 13762 tasks      | elapsed:  4.1min\n",
      "[Parallel(n_jobs=-1)]: Done 13929 tasks      | elapsed:  4.2min\n",
      "[Parallel(n_jobs=-1)]: Done 14096 tasks      | elapsed:  4.2min\n",
      "[Parallel(n_jobs=-1)]: Done 14265 tasks      | elapsed:  4.3min\n",
      "[Parallel(n_jobs=-1)]: Done 14434 tasks      | elapsed:  4.3min\n",
      "[Parallel(n_jobs=-1)]: Done 14605 tasks      | elapsed:  4.3min\n",
      "[Parallel(n_jobs=-1)]: Done 14776 tasks      | elapsed:  4.4min\n",
      "[Parallel(n_jobs=-1)]: Done 14949 tasks      | elapsed:  4.4min\n",
      "[Parallel(n_jobs=-1)]: Done 15122 tasks      | elapsed:  4.5min\n",
      "[Parallel(n_jobs=-1)]: Done 15195 out of 15195 | elapsed:  4.5min finished\n"
     ]
    }
   ],
   "metadata": {}
  },
  {
   "cell_type": "code",
   "execution_count": 57,
   "source": [
    "from sklearn.preprocessing import StandardScaler\n",
    "X_train, X_test, y_train, y_test = train_test_split(\n",
    "    lbp_feats, image_classes, test_size=0.3, random_state=42)\n",
    "le = LabelEncoder()\n",
    "y_train = le.fit_transform(y_train)\n",
    "y_test = le.transform(y_test)\n",
    "scaler = StandardScaler()\n",
    "X_train = scaler.fit_transform(X_train)\n",
    "X_test = scaler.transform(X_test)\n"
   ],
   "outputs": [],
   "metadata": {}
  },
  {
   "cell_type": "code",
   "execution_count": 58,
   "source": [
    "svc = SVC(kernel='rbf', probability=True, class_weight='balanced', C=1.0)\n",
    "svc.fit(X_train, y_train)\n",
    "\n",
    "y_pred = svc.predict(X_test)\n",
    "\n",
    "print(classification_report(y_test, y_pred))\n"
   ],
   "outputs": [
    {
     "output_type": "stream",
     "name": "stdout",
     "text": [
      "              precision    recall  f1-score   support\n",
      "\n",
      "           0       0.76      0.72      0.74      2329\n",
      "           1       0.72      0.76      0.74      2230\n",
      "\n",
      "    accuracy                           0.74      4559\n",
      "   macro avg       0.74      0.74      0.74      4559\n",
      "weighted avg       0.74      0.74      0.74      4559\n",
      "\n"
     ]
    }
   ],
   "metadata": {}
  },
  {
   "cell_type": "code",
   "execution_count": 59,
   "source": [
    "from xgboost import XGBClassifier\n",
    "\n",
    "xgb_cl = XGBClassifier()\n",
    "\n",
    "xgb_cl.fit(X_train, y_train)\n",
    "y_pred = xgb_cl.predict(X_test)\n",
    "\n",
    "print(classification_report(y_test, y_pred))\n"
   ],
   "outputs": [
    {
     "output_type": "stream",
     "name": "stdout",
     "text": [
      "              precision    recall  f1-score   support\n",
      "\n",
      "           0       0.74      0.71      0.73      2329\n",
      "           1       0.71      0.74      0.72      2230\n",
      "\n",
      "    accuracy                           0.72      4559\n",
      "   macro avg       0.72      0.72      0.72      4559\n",
      "weighted avg       0.73      0.72      0.72      4559\n",
      "\n"
     ]
    }
   ],
   "metadata": {}
  },
  {
   "cell_type": "code",
   "execution_count": null,
   "source": [],
   "outputs": [],
   "metadata": {}
  }
 ],
 "metadata": {
  "orig_nbformat": 4,
  "language_info": {
   "name": "python",
   "version": "3.9.13",
   "mimetype": "text/x-python",
   "codemirror_mode": {
    "name": "ipython",
    "version": 3
   },
   "pygments_lexer": "ipython3",
   "nbconvert_exporter": "python",
   "file_extension": ".py"
  },
  "kernelspec": {
   "name": "python3",
   "display_name": "Python 3.9.13 64-bit ('cad': conda)"
  },
  "interpreter": {
   "hash": "49574378497f446692c7e26f7d0f985f921d43351aeee8284e547a417bd9147b"
  }
 },
 "nbformat": 4,
 "nbformat_minor": 2
}