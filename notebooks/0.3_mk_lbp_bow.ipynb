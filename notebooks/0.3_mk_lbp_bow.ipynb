{
 "cells": [
  {
   "cell_type": "code",
   "execution_count": 1,
   "source": [
    "import os\n",
    "os.chdir(\"..\")\n"
   ],
   "outputs": [],
   "metadata": {}
  },
  {
   "cell_type": "code",
   "execution_count": 2,
   "source": [
    "!ls"
   ],
   "outputs": [
    {
     "output_type": "stream",
     "name": "stdout",
     "text": [
      "LICENSE             descriptors.pkl     \u001b[1m\u001b[36mnotebooks\u001b[m\u001b[m           \u001b[1m\u001b[36mskin_lesion_cad\u001b[m\u001b[m\n",
      "README.md           descriptors_all.pkl \u001b[1m\u001b[36mreferences\u001b[m\u001b[m\n",
      "bovw.pkl            \u001b[1m\u001b[36mdocs\u001b[m\u001b[m                \u001b[1m\u001b[36mreports\u001b[m\u001b[m\n",
      "\u001b[1m\u001b[36mdata\u001b[m\u001b[m                \u001b[1m\u001b[36mmodels\u001b[m\u001b[m              requirements.txt\n"
     ]
    }
   ],
   "metadata": {}
  },
  {
   "cell_type": "code",
   "execution_count": 3,
   "source": [
    "from skin_lesion_cad.data.BOVW import DenseDescriptor, BagofWords, LBPDescriptor\n",
    "import random\n",
    "from tqdm import tqdm\n",
    "from pathlib import Path\n",
    "import numpy as np\n",
    "import cv2\n",
    "from joblib import Parallel, delayed, parallel_backend\n",
    "from sklearn.pipeline import make_pipeline\n",
    "from sklearn.svm import SVC\n",
    "from sklearn.model_selection import train_test_split\n",
    "from sklearn.metrics import classification_report\n",
    "\n",
    "import matplotlib.pyplot as plt\n"
   ],
   "outputs": [],
   "metadata": {}
  },
  {
   "cell_type": "code",
   "execution_count": 46,
   "source": [
    "def get_chall2_class(path):\n",
    "    if \"bcc\" in str(path):\n",
    "        return \"bcc\"\n",
    "    elif \"mel\" in str(path):\n",
    "        return \"mel\"\n",
    "    elif \"scc\" in str(path):\n",
    "        return \"scc\"\n",
    "    else:\n",
    "        raise ValueError(\"class needs to be bcc, mel or scc\")\n"
   ],
   "outputs": [],
   "metadata": {}
  },
  {
   "cell_type": "code",
   "execution_count": 50,
   "source": [
    "# SAMPLE_SIZE = 1000\n",
    "\n",
    "chall = \"chall2\"\n",
    "train_path = Path(f\"data/processed/{chall}/train\")\n",
    "training_names = train_path.rglob(\"*_inpaint_0_5*\")\n",
    "\n",
    "# Get path to all images and save them in a list\n",
    "image_paths = [i for i in training_names]\n",
    "\n",
    "\n",
    "# Currently only sampling few images for quick testing\n",
    "# image_paths = [i for i in training_names]\n",
    "if chall==\"chall1\":\n",
    "    image_classes = [0 if (\"nevus\" in str(i)) else 1 for i in image_paths]\n",
    "elif chall==\"chall2\":\n",
    "    image_classes = [get_chall2_class(str(i)) for i in image_paths]\n",
    "mask_paths = [image_path.parent/\n",
    "              Path(image_path.name.replace(\"inpaint\",\"mask\")) for image_path in image_paths]\n",
    "\n",
    "\n",
    "# BRISK is a good replacement to SIFT. ORB also works but didn;t work well for this example\n",
    "\n",
    "brisk = cv2.BRISK_create(thresh=30, octaves=0)\n",
    "dense_brisk = DenseDescriptor(\n",
    "    descriptor=brisk, min_keypoints=100, max_keypoints=500, kp_size=25)\n",
    "lbp = LBPDescriptor(descriptor=brisk, min_keypoints=100, max_keypoints=500,kp_size=25,n_points=8,radius=3)\n"
   ],
   "outputs": [],
   "metadata": {}
  },
  {
   "cell_type": "code",
   "execution_count": 51,
   "source": [
    "image_paths[0]"
   ],
   "outputs": [
    {
     "output_type": "execute_result",
     "data": {
      "text/plain": [
       "PosixPath('data/processed/chall2/train/bcc/bcc01703_inpaint_0_5.png')"
      ]
     },
     "metadata": {},
     "execution_count": 51
    }
   ],
   "metadata": {}
  },
  {
   "cell_type": "code",
   "execution_count": 52,
   "source": [
    "def _load_and_extract_des(image_path, mask_path, descriptor):\n",
    "    im = cv2.imread(str(image_path))\n",
    "    im_gray = cv2.cvtColor(im, cv2.COLOR_BGR2GRAY)\n",
    "    mask = cv2.imread(str(mask_path))\n",
    "    kpts, des = descriptor.detectAndCompute(im_gray, mask)\n",
    "    return des\n",
    "\n",
    "\n",
    "\n",
    "des_list = [_load_and_extract_des(filename, mask_paths[i], lbp) for i, filename in enumerate(image_paths)]\n"
   ],
   "outputs": [
    {
     "output_type": "stream",
     "name": "stderr",
     "text": [
      "[Parallel(n_jobs=-1)]: Using backend ThreadingBackend with 8 concurrent workers.\n",
      "[Parallel(n_jobs=-1)]: Done   2 tasks      | elapsed:    0.2s\n",
      "[Parallel(n_jobs=-1)]: Done   9 tasks      | elapsed:    0.3s\n",
      "[Parallel(n_jobs=-1)]: Done  16 tasks      | elapsed:    0.4s\n",
      "[Parallel(n_jobs=-1)]: Done  25 tasks      | elapsed:    0.6s\n",
      "[Parallel(n_jobs=-1)]: Done  34 tasks      | elapsed:    0.8s\n",
      "[Parallel(n_jobs=-1)]: Done  45 tasks      | elapsed:    1.0s\n",
      "[Parallel(n_jobs=-1)]: Done  56 tasks      | elapsed:    1.3s\n",
      "[Parallel(n_jobs=-1)]: Done  69 tasks      | elapsed:    1.6s\n",
      "[Parallel(n_jobs=-1)]: Done  82 tasks      | elapsed:    1.9s\n",
      "[Parallel(n_jobs=-1)]: Done  97 tasks      | elapsed:    2.4s\n",
      "[Parallel(n_jobs=-1)]: Done 112 tasks      | elapsed:    2.8s\n",
      "[Parallel(n_jobs=-1)]: Done 129 tasks      | elapsed:    3.3s\n",
      "[Parallel(n_jobs=-1)]: Done 146 tasks      | elapsed:    3.6s\n",
      "[Parallel(n_jobs=-1)]: Done 165 tasks      | elapsed:    4.0s\n",
      "[Parallel(n_jobs=-1)]: Done 184 tasks      | elapsed:    4.5s\n",
      "[Parallel(n_jobs=-1)]: Done 205 tasks      | elapsed:    5.2s\n",
      "[Parallel(n_jobs=-1)]: Done 226 tasks      | elapsed:    5.7s\n",
      "[Parallel(n_jobs=-1)]: Done 249 tasks      | elapsed:    6.3s\n",
      "[Parallel(n_jobs=-1)]: Done 272 tasks      | elapsed:    6.8s\n",
      "[Parallel(n_jobs=-1)]: Done 297 tasks      | elapsed:    7.4s\n",
      "[Parallel(n_jobs=-1)]: Done 322 tasks      | elapsed:    8.0s\n",
      "[Parallel(n_jobs=-1)]: Done 349 tasks      | elapsed:    8.6s\n",
      "[Parallel(n_jobs=-1)]: Done 376 tasks      | elapsed:    9.3s\n",
      "[Parallel(n_jobs=-1)]: Done 405 tasks      | elapsed:   10.1s\n",
      "[Parallel(n_jobs=-1)]: Done 434 tasks      | elapsed:   10.7s\n",
      "[Parallel(n_jobs=-1)]: Done 465 tasks      | elapsed:   11.3s\n",
      "[Parallel(n_jobs=-1)]: Done 496 tasks      | elapsed:   12.1s\n",
      "[Parallel(n_jobs=-1)]: Done 529 tasks      | elapsed:   12.9s\n",
      "[Parallel(n_jobs=-1)]: Done 562 tasks      | elapsed:   13.6s\n",
      "[Parallel(n_jobs=-1)]: Done 597 tasks      | elapsed:   14.3s\n",
      "[Parallel(n_jobs=-1)]: Done 632 tasks      | elapsed:   15.1s\n",
      "[Parallel(n_jobs=-1)]: Done 669 tasks      | elapsed:   16.0s\n",
      "[Parallel(n_jobs=-1)]: Done 706 tasks      | elapsed:   16.8s\n",
      "[Parallel(n_jobs=-1)]: Done 745 tasks      | elapsed:   17.6s\n",
      "[Parallel(n_jobs=-1)]: Done 784 tasks      | elapsed:   18.3s\n",
      "[Parallel(n_jobs=-1)]: Done 825 tasks      | elapsed:   19.2s\n",
      "[Parallel(n_jobs=-1)]: Done 866 tasks      | elapsed:   20.0s\n",
      "[Parallel(n_jobs=-1)]: Done 909 tasks      | elapsed:   21.1s\n",
      "[Parallel(n_jobs=-1)]: Done 952 tasks      | elapsed:   22.0s\n",
      "[Parallel(n_jobs=-1)]: Done 997 tasks      | elapsed:   23.0s\n",
      "[Parallel(n_jobs=-1)]: Done 1042 tasks      | elapsed:   24.1s\n",
      "[Parallel(n_jobs=-1)]: Done 1089 tasks      | elapsed:   25.0s\n",
      "[Parallel(n_jobs=-1)]: Done 1136 tasks      | elapsed:   26.0s\n",
      "[Parallel(n_jobs=-1)]: Done 1185 tasks      | elapsed:   27.1s\n",
      "[Parallel(n_jobs=-1)]: Done 1234 tasks      | elapsed:   28.1s\n",
      "[Parallel(n_jobs=-1)]: Done 1285 tasks      | elapsed:   29.2s\n",
      "[Parallel(n_jobs=-1)]: Done 1336 tasks      | elapsed:   30.3s\n",
      "[Parallel(n_jobs=-1)]: Done 1389 tasks      | elapsed:   31.6s\n",
      "[Parallel(n_jobs=-1)]: Done 1442 tasks      | elapsed:   32.8s\n",
      "[Parallel(n_jobs=-1)]: Done 1497 tasks      | elapsed:   34.0s\n",
      "[Parallel(n_jobs=-1)]: Done 1552 tasks      | elapsed:   35.3s\n",
      "[Parallel(n_jobs=-1)]: Done 1609 tasks      | elapsed:   36.7s\n",
      "[Parallel(n_jobs=-1)]: Done 1666 tasks      | elapsed:   37.8s\n",
      "[Parallel(n_jobs=-1)]: Done 1725 tasks      | elapsed:   38.9s\n",
      "[Parallel(n_jobs=-1)]: Done 1784 tasks      | elapsed:   40.3s\n",
      "[Parallel(n_jobs=-1)]: Done 1845 tasks      | elapsed:   41.7s\n",
      "[Parallel(n_jobs=-1)]: Done 1906 tasks      | elapsed:   43.6s\n",
      "[Parallel(n_jobs=-1)]: Done 1969 tasks      | elapsed:   45.3s\n",
      "[Parallel(n_jobs=-1)]: Done 2032 tasks      | elapsed:   47.3s\n",
      "[Parallel(n_jobs=-1)]: Done 2097 tasks      | elapsed:   49.4s\n",
      "[Parallel(n_jobs=-1)]: Done 2162 tasks      | elapsed:   50.8s\n",
      "[Parallel(n_jobs=-1)]: Done 2229 tasks      | elapsed:   52.5s\n",
      "[Parallel(n_jobs=-1)]: Done 2296 tasks      | elapsed:   53.9s\n",
      "[Parallel(n_jobs=-1)]: Done 2365 tasks      | elapsed:   55.3s\n",
      "[Parallel(n_jobs=-1)]: Done 2434 tasks      | elapsed:   56.8s\n",
      "[Parallel(n_jobs=-1)]: Done 2505 tasks      | elapsed:   58.3s\n",
      "[Parallel(n_jobs=-1)]: Done 2576 tasks      | elapsed:   59.9s\n",
      "[Parallel(n_jobs=-1)]: Done 2649 tasks      | elapsed:  1.0min\n",
      "[Parallel(n_jobs=-1)]: Done 2722 tasks      | elapsed:  1.1min\n",
      "[Parallel(n_jobs=-1)]: Done 2797 tasks      | elapsed:  1.1min\n",
      "[Parallel(n_jobs=-1)]: Done 2872 tasks      | elapsed:  1.1min\n",
      "[Parallel(n_jobs=-1)]: Done 2949 tasks      | elapsed:  1.1min\n",
      "[Parallel(n_jobs=-1)]: Done 3026 tasks      | elapsed:  1.2min\n",
      "[Parallel(n_jobs=-1)]: Done 3105 tasks      | elapsed:  1.2min\n",
      "[Parallel(n_jobs=-1)]: Done 3184 tasks      | elapsed:  1.2min\n",
      "[Parallel(n_jobs=-1)]: Done 3265 tasks      | elapsed:  1.3min\n",
      "[Parallel(n_jobs=-1)]: Done 3346 tasks      | elapsed:  1.3min\n",
      "[Parallel(n_jobs=-1)]: Done 3429 tasks      | elapsed:  1.3min\n",
      "[Parallel(n_jobs=-1)]: Done 3512 tasks      | elapsed:  1.4min\n",
      "[Parallel(n_jobs=-1)]: Done 3597 tasks      | elapsed:  1.4min\n",
      "[Parallel(n_jobs=-1)]: Done 3682 tasks      | elapsed:  1.4min\n",
      "[Parallel(n_jobs=-1)]: Done 3769 tasks      | elapsed:  1.5min\n",
      "[Parallel(n_jobs=-1)]: Done 3856 tasks      | elapsed:  1.5min\n",
      "[Parallel(n_jobs=-1)]: Done 3945 tasks      | elapsed:  1.5min\n",
      "[Parallel(n_jobs=-1)]: Done 4034 tasks      | elapsed:  1.6min\n",
      "[Parallel(n_jobs=-1)]: Done 4125 tasks      | elapsed:  1.6min\n",
      "[Parallel(n_jobs=-1)]: Done 4216 tasks      | elapsed:  1.6min\n",
      "[Parallel(n_jobs=-1)]: Done 4309 tasks      | elapsed:  1.7min\n",
      "[Parallel(n_jobs=-1)]: Done 4402 tasks      | elapsed:  1.7min\n",
      "[Parallel(n_jobs=-1)]: Done 4497 tasks      | elapsed:  1.8min\n",
      "[Parallel(n_jobs=-1)]: Done 4592 tasks      | elapsed:  1.8min\n",
      "[Parallel(n_jobs=-1)]: Done 4689 tasks      | elapsed:  1.8min\n",
      "[Parallel(n_jobs=-1)]: Done 4786 tasks      | elapsed:  1.9min\n",
      "[Parallel(n_jobs=-1)]: Done 4885 tasks      | elapsed:  1.9min\n",
      "[Parallel(n_jobs=-1)]: Done 4984 tasks      | elapsed:  1.9min\n",
      "[Parallel(n_jobs=-1)]: Done 5082 out of 5082 | elapsed:  2.0min finished\n"
     ]
    }
   ],
   "metadata": {}
  },
  {
   "cell_type": "code",
   "execution_count": 77,
   "source": [
    "from sklearn.preprocessing import LabelEncoder\n",
    "bovw = BagofWords(n_words=10, n_jobs=-1, random_state=None)\n",
    "classifier = SVC(max_iter=10000)\n",
    "X_train, X_test, y_train, y_test = train_test_split(\n",
    "    des_list, image_classes, test_size=0.33, random_state=42)\n",
    "le = LabelEncoder()\n",
    "y_train = le.fit_transform(y_train)\n",
    "y_test = le.transform(y_test)\n"
   ],
   "outputs": [],
   "metadata": {}
  },
  {
   "cell_type": "code",
   "execution_count": 70,
   "source": [
    "X_train_preprocessed = bovw.fit_transform(X_train, y_train)\n",
    "X_test_preprocessed = bovw.transform(X_test)"
   ],
   "outputs": [],
   "metadata": {}
  },
  {
   "cell_type": "code",
   "execution_count": 72,
   "source": [
    "classifier.fit(X_train_preprocessed, y_train)\n",
    "y_pred = classifier.predict(X_test_preprocessed)"
   ],
   "outputs": [],
   "metadata": {}
  },
  {
   "cell_type": "code",
   "execution_count": 73,
   "source": [
    "print(classification_report(y_test, y_pred))\n"
   ],
   "outputs": [
    {
     "output_type": "stream",
     "name": "stdout",
     "text": [
      "              precision    recall  f1-score   support\n",
      "\n",
      "           0       0.64      0.52      0.57       689\n",
      "           1       0.64      0.82      0.72       871\n",
      "           2       0.00      0.00      0.00       118\n",
      "\n",
      "    accuracy                           0.64      1678\n",
      "   macro avg       0.42      0.44      0.43      1678\n",
      "weighted avg       0.59      0.64      0.61      1678\n",
      "\n"
     ]
    },
    {
     "output_type": "stream",
     "name": "stderr",
     "text": [
      "/Users/manasikattel/miniforge3/envs/cad/lib/python3.9/site-packages/sklearn/metrics/_classification.py:1334: UndefinedMetricWarning: Precision and F-score are ill-defined and being set to 0.0 in labels with no predicted samples. Use `zero_division` parameter to control this behavior.\n",
      "  _warn_prf(average, modifier, msg_start, len(result))\n",
      "/Users/manasikattel/miniforge3/envs/cad/lib/python3.9/site-packages/sklearn/metrics/_classification.py:1334: UndefinedMetricWarning: Precision and F-score are ill-defined and being set to 0.0 in labels with no predicted samples. Use `zero_division` parameter to control this behavior.\n",
      "  _warn_prf(average, modifier, msg_start, len(result))\n",
      "/Users/manasikattel/miniforge3/envs/cad/lib/python3.9/site-packages/sklearn/metrics/_classification.py:1334: UndefinedMetricWarning: Precision and F-score are ill-defined and being set to 0.0 in labels with no predicted samples. Use `zero_division` parameter to control this behavior.\n",
      "  _warn_prf(average, modifier, msg_start, len(result))\n"
     ]
    }
   ],
   "metadata": {}
  },
  {
   "cell_type": "code",
   "execution_count": 81,
   "source": [
    "from xgboost import XGBClassifier\n",
    "\n",
    "xgb_cl = XGBClassifier()\n",
    "\n",
    "xgb_cl.fit(X_train_preprocessed, y_train)\n",
    "y_pred = xgb_cl.predict(X_test_preprocessed)\n",
    "\n",
    "print(classification_report(y_test, y_pred))\n"
   ],
   "outputs": [
    {
     "output_type": "stream",
     "name": "stdout",
     "text": [
      "              precision    recall  f1-score   support\n",
      "\n",
      "           0       0.61      0.57      0.59       689\n",
      "           1       0.65      0.77      0.71       871\n",
      "           2       0.00      0.00      0.00       118\n",
      "\n",
      "    accuracy                           0.63      1678\n",
      "   macro avg       0.42      0.45      0.43      1678\n",
      "weighted avg       0.59      0.63      0.61      1678\n",
      "\n"
     ]
    }
   ],
   "metadata": {}
  },
  {
   "cell_type": "markdown",
   "source": [
    "# Whole image lbp"
   ],
   "metadata": {}
  },
  {
   "cell_type": "code",
   "execution_count": 82,
   "source": [
    "from skimage.feature import local_binary_pattern\n",
    "\n",
    "\n",
    "def lbph(image, n_points=24, radius=8, method=\"default\", eps=1e-7):\n",
    "\n",
    "    lbp = local_binary_pattern(\n",
    "        image, n_points, radius, method)\n",
    "    (hist, _) = np.histogram(lbp.ravel(),\n",
    "                            bins=np.arange(0, n_points + 3),\n",
    "                            range=(0, n_points + 2))\n",
    "    # normalize the histogram\n",
    "    hist = hist.astype(\"float\")\n",
    "    hist /= (hist.sum() + eps)\n",
    "    return hist\n"
   ],
   "outputs": [],
   "metadata": {}
  },
  {
   "cell_type": "code",
   "execution_count": 84,
   "source": [
    "def get_lbphfeat(image_path):\n",
    "    im = cv2.imread(str(image_path))\n",
    "    im_gray = cv2.cvtColor(im, cv2.COLOR_BGR2GRAY)\n",
    "    \n",
    "    return lbph(im_gray)\n",
    "\n",
    "lbp_feats = [get_lbphfeat(image_path) for image_path in tqdm(image_paths)]\n"
   ],
   "outputs": [
    {
     "output_type": "stream",
     "name": "stderr",
     "text": [
      "100%|██████████| 5082/5082 [03:03<00:00, 27.63it/s]\n"
     ]
    }
   ],
   "metadata": {}
  },
  {
   "cell_type": "code",
   "execution_count": 85,
   "source": [
    "from sklearn.preprocessing import StandardScaler\n",
    "X_train, X_test, y_train, y_test = train_test_split(\n",
    "    lbp_feats, image_classes, test_size=0.3, random_state=42)\n",
    "le = LabelEncoder()\n",
    "y_train = le.fit_transform(y_train)\n",
    "y_test = le.transform(y_test)\n",
    "scaler = StandardScaler()\n",
    "X_train = scaler.fit_transform(X_train)\n",
    "X_test = scaler.transform(X_test)\n"
   ],
   "outputs": [],
   "metadata": {}
  },
  {
   "cell_type": "code",
   "execution_count": 87,
   "source": [
    "svc = SVC(kernel='rbf', probability=True)\n",
    "svc.fit(X_train, y_train)\n",
    "\n",
    "y_pred = svc.predict(X_test)\n",
    "\n",
    "print(classification_report(y_test, y_pred))\n"
   ],
   "outputs": [
    {
     "output_type": "stream",
     "name": "stdout",
     "text": [
      "              precision    recall  f1-score   support\n",
      "\n",
      "           0       0.57      0.37      0.45       617\n",
      "           1       0.59      0.83      0.69       801\n",
      "           2       0.00      0.00      0.00       107\n",
      "\n",
      "    accuracy                           0.58      1525\n",
      "   macro avg       0.39      0.40      0.38      1525\n",
      "weighted avg       0.54      0.58      0.54      1525\n",
      "\n"
     ]
    },
    {
     "output_type": "stream",
     "name": "stderr",
     "text": [
      "/Users/manasikattel/miniforge3/envs/cad/lib/python3.9/site-packages/sklearn/metrics/_classification.py:1334: UndefinedMetricWarning: Precision and F-score are ill-defined and being set to 0.0 in labels with no predicted samples. Use `zero_division` parameter to control this behavior.\n",
      "  _warn_prf(average, modifier, msg_start, len(result))\n",
      "/Users/manasikattel/miniforge3/envs/cad/lib/python3.9/site-packages/sklearn/metrics/_classification.py:1334: UndefinedMetricWarning: Precision and F-score are ill-defined and being set to 0.0 in labels with no predicted samples. Use `zero_division` parameter to control this behavior.\n",
      "  _warn_prf(average, modifier, msg_start, len(result))\n",
      "/Users/manasikattel/miniforge3/envs/cad/lib/python3.9/site-packages/sklearn/metrics/_classification.py:1334: UndefinedMetricWarning: Precision and F-score are ill-defined and being set to 0.0 in labels with no predicted samples. Use `zero_division` parameter to control this behavior.\n",
      "  _warn_prf(average, modifier, msg_start, len(result))\n"
     ]
    }
   ],
   "metadata": {}
  },
  {
   "cell_type": "code",
   "execution_count": 89,
   "source": [
    "from xgboost import XGBClassifier\n",
    "\n",
    "xgb_cl = XGBClassifier()\n",
    "\n",
    "xgb_cl.fit(X_train, y_train)\n",
    "y_pred = xgb_cl.predict(X_test)\n",
    "\n",
    "print(classification_report(y_test, y_pred))\n"
   ],
   "outputs": [
    {
     "output_type": "stream",
     "name": "stdout",
     "text": [
      "              precision    recall  f1-score   support\n",
      "\n",
      "           0       0.52      0.47      0.50       617\n",
      "           1       0.60      0.72      0.65       801\n",
      "           2       0.00      0.00      0.00       107\n",
      "\n",
      "    accuracy                           0.57      1525\n",
      "   macro avg       0.37      0.40      0.38      1525\n",
      "weighted avg       0.53      0.57      0.54      1525\n",
      "\n"
     ]
    }
   ],
   "metadata": {}
  },
  {
   "cell_type": "code",
   "execution_count": null,
   "source": [],
   "outputs": [],
   "metadata": {}
  }
 ],
 "metadata": {
  "orig_nbformat": 4,
  "language_info": {
   "name": "python",
   "version": "3.9.13",
   "mimetype": "text/x-python",
   "codemirror_mode": {
    "name": "ipython",
    "version": 3
   },
   "pygments_lexer": "ipython3",
   "nbconvert_exporter": "python",
   "file_extension": ".py"
  },
  "kernelspec": {
   "name": "python3",
   "display_name": "Python 3.9.13 64-bit ('cad': conda)"
  },
  "interpreter": {
   "hash": "49574378497f446692c7e26f7d0f985f921d43351aeee8284e547a417bd9147b"
  }
 },
 "nbformat": 4,
 "nbformat_minor": 2
}