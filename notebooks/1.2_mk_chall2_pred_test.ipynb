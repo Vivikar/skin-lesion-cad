{
 "cells": [
  {
   "cell_type": "code",
   "execution_count": 1,
   "source": [
    "import os\n",
    "os.chdir(\"..\")\n"
   ],
   "outputs": [],
   "metadata": {}
  },
  {
   "cell_type": "code",
   "execution_count": 2,
   "source": [
    "\n",
    "from tqdm import tqdm\n",
    "from sklearn.svm import SVC\n",
    "from sklearn.model_selection import KFold, StratifiedKFold, train_test_split\n",
    "from sklearn.metrics import (accuracy_score, classification_report,\n",
    "                             cohen_kappa_score, confusion_matrix, f1_score,\n",
    "                             precision_score, balanced_accuracy_score)\n",
    "from sklearn.cluster import KMeans\n",
    "from sklearn.base import BaseEstimator, TransformerMixin\n",
    "from skin_lesion_cad.features.texture import get_glcm, glcm_features, lbph\n",
    "from skin_lesion_cad.features.colour import (ColorFeaturesDescriptor,\n",
    "                                             ColorFeaturesExtractor)\n",
    "from skin_lesion_cad.data.BOVW import (BagofWords, ColorDescriptor,\n",
    "                                       DenseDescriptor, DescriptorsTransformer,\n",
    "                                       LBPDescriptor)\n",
    "import seaborn as sns\n",
    "import scipy\n",
    "import pandas as pd\n",
    "import numpy as np\n",
    "import matplotlib.pyplot as plt\n",
    "import cv2\n",
    "from typing import Counter\n",
    "from pathlib import Path\n",
    "from multiprocessing.dummy import Pool\n",
    "import random\n"
   ],
   "outputs": [],
   "metadata": {}
  },
  {
   "cell_type": "code",
   "execution_count": 5,
   "source": [
    "merged_df_train = pd.read_pickle('merged_df_train.pkl')\n",
    "merged_df_val = pd.read_pickle('merged_df_val.pkl')\n",
    "merged_df_test = pd.read_pickle('merged_df_test.pkl')\n"
   ],
   "outputs": [],
   "metadata": {}
  },
  {
   "cell_type": "code",
   "execution_count": 8,
   "source": [
    "X_train = merged_df_train.drop(columns=['class'])\n",
    "X_test = merged_df_val.drop(columns=['class'])\n",
    "y_train = merged_df_train['class']\n",
    "y_test = merged_df_val['class']\n",
    "\n",
    "scaler = DescriptorsTransformer(None)\n",
    "X_train = scaler.fit_transform(X_train)\n",
    "X_test = scaler.transform(X_test)\n",
    "\n",
    "print(X_train.shape, X_test.shape)\n",
    "svc = SVC(kernel='rbf', C=1, random_state=42,\n",
    "          probability=False, class_weight='balanced')\n",
    "svc.fit(X_train, y_train)\n",
    "y_pred = svc.predict(X_test)\n",
    "y_pred_train = svc.predict(X_train)\n",
    "\n",
    "print(confusion_matrix(merged_df_val['class'], y_pred))\n",
    "print('Balanced accuracy', balanced_accuracy_score(\n",
    "    merged_df_train['class'], y_pred_train))\n",
    "print('Balanced accuracy', balanced_accuracy_score(\n",
    "    merged_df_val['class'], y_pred))\n",
    "print('Train kappa', cohen_kappa_score(merged_df_train['class'], y_pred_train))\n",
    "print('Validation kappa', cohen_kappa_score(merged_df_val['class'], y_pred))\n"
   ],
   "outputs": [
    {
     "output_type": "stream",
     "name": "stdout",
     "text": [
      "(5082, 442) (1270, 442)\n",
      "[[398  40  60]\n",
      " [ 77 555  46]\n",
      " [ 20  10  64]]\n",
      "Balanced accuracy 0.8876778108255493\n",
      "Balanced accuracy 0.7662106405916139\n",
      "Train kappa 0.7784174887982479\n",
      "Validation kappa 0.6582608325711004\n"
     ]
    }
   ],
   "metadata": {}
  },
  {
   "cell_type": "code",
   "execution_count": 10,
   "source": [
    "from sklearn.decomposition import PCA\n",
    "\n",
    "X_train = merged_df_train.drop(columns=['class'])\n",
    "X_test = merged_df_val.drop(columns=['class'])\n",
    "\n",
    "\n",
    "y_train = merged_df_train['class']\n",
    "y_test = merged_df_val['class']\n",
    "\n",
    "scaler = DescriptorsTransformer(None)\n",
    "X_train = scaler.fit_transform(X_train)\n",
    "X_test = scaler.transform(X_test)\n",
    "\n",
    "# Apply PCA\n",
    "pca = PCA(n_components=150)\n",
    "X_train_pca = pca.fit_transform(X_train)\n",
    "X_test_pca = pca.transform(X_test)\n",
    "\n",
    "\n",
    "print(X_train_pca.shape, X_test_pca.shape)\n",
    "\n",
    "svc.fit(X_train_pca, y_train)\n",
    "y_pred = svc.predict(X_test_pca)\n",
    "y_pred_train = svc.predict(X_train_pca)\n",
    "\n",
    "print(confusion_matrix(merged_df_val['class'], y_pred))\n",
    "print('Balanced accuracy', balanced_accuracy_score(\n",
    "    merged_df_train['class'], y_pred_train))\n",
    "print('Balanced accuracy', balanced_accuracy_score(\n",
    "    merged_df_val['class'], y_pred))\n",
    "print('Train kappa', cohen_kappa_score(merged_df_train['class'], y_pred_train))\n",
    "print('Validation kappa', cohen_kappa_score(merged_df_val['class'], y_pred))\n"
   ],
   "outputs": [
    {
     "output_type": "stream",
     "name": "stdout",
     "text": [
      "(5082, 150) (1270, 150)\n",
      "[[396  40  62]\n",
      " [ 77 550  51]\n",
      " [ 22   9  63]]\n",
      "Balanced accuracy 0.8801970672767526\n",
      "Balanced accuracy 0.7588676427923456\n",
      "Train kappa 0.7639367559282819\n",
      "Validation kappa 0.6487638334936909\n"
     ]
    }
   ],
   "metadata": {}
  },
  {
   "cell_type": "code",
   "execution_count": 11,
   "source": [
    "from imblearn.over_sampling import SMOTE, ADASYN\n",
    "from imblearn.over_sampling import SMOTE, ADASYN\n"
   ],
   "outputs": [],
   "metadata": {}
  },
  {
   "cell_type": "code",
   "execution_count": 12,
   "source": [
    "sm = SMOTE(random_state=42)\n",
    "X_res, y_res = sm.fit_resample(X_train, y_train)\n",
    "plt.subplot(1, 2, 1)\n",
    "merged_df_train['class'].plot.hist()\n",
    "# plt.show()\n",
    "plt.subplot(1, 2, 2)\n",
    "plt.hist(y_res)\n",
    "plt.show()\n"
   ],
   "outputs": [
    {
     "output_type": "display_data",
     "data": {
      "image/png": "[encoded data removed]",
      "text/plain": [
       "<Figure size 640x480 with 2 Axes>"
      ]
     },
     "metadata": {}
    }
   ],
   "metadata": {}
  },
  {
   "cell_type": "code",
   "execution_count": 13,
   "source": [
    "X_train = merged_df_train.drop(columns=['class'])\n",
    "X_test = merged_df_val.drop(columns=['class'])\n",
    "\n",
    "\n",
    "y_train = merged_df_train['class']\n",
    "y_test = merged_df_val['class']\n",
    "\n",
    "scaler = DescriptorsTransformer(None)\n",
    "X_train = scaler.fit_transform(X_train)\n",
    "X_test = scaler.transform(X_test)\n",
    "\n",
    "# Apply SMOTE\n",
    "sm = SMOTE(random_state=42, k_neighbors=5, n_jobs=-\n",
    "           1, sampling_strategy='not majority')\n",
    "X_train, y_train = sm.fit_resample(X_train, y_train)\n",
    "\n",
    "\n",
    "print(X_train.shape, X_test.shape)\n",
    "\n",
    "svc.fit(X_train, y_train)\n",
    "y_pred = svc.predict(X_test)\n",
    "y_pred_train = svc.predict(X_train)\n",
    "\n",
    "print(confusion_matrix(merged_df_val['class'], y_pred))\n",
    "print('Balanced train accuracy', balanced_accuracy_score(y_train, y_pred_train))\n",
    "print('Balanced accuracy', balanced_accuracy_score(\n",
    "    merged_df_val['class'], y_pred))\n",
    "print('Train kappa', cohen_kappa_score(y_train, y_pred_train))\n",
    "print('Validation kappa', cohen_kappa_score(merged_df_val['class'], y_pred))\n"
   ],
   "outputs": [
    {
     "output_type": "stream",
     "name": "stdout",
     "text": [
      "(8139, 442) (1270, 442)\n",
      "[[408  41  49]\n",
      " [ 66 581  31]\n",
      " [ 23  10  61]]\n",
      "Balanced train accuracy 0.9341442437645903\n",
      "Balanced accuracy 0.7750484773462771\n",
      "Train kappa 0.9012163656468853\n",
      "Validation kappa 0.6975025009635747\n"
     ]
    }
   ],
   "metadata": {}
  },
  {
   "cell_type": "code",
   "execution_count": null,
   "source": [],
   "outputs": [],
   "metadata": {}
  }
 ],
 "metadata": {
  "orig_nbformat": 4,
  "language_info": {
   "name": "python",
   "version": "3.9.13",
   "mimetype": "text/x-python",
   "codemirror_mode": {
    "name": "ipython",
    "version": 3
   },
   "pygments_lexer": "ipython3",
   "nbconvert_exporter": "python",
   "file_extension": ".py"
  },
  "kernelspec": {
   "name": "python3",
   "display_name": "Python 3.9.13 64-bit ('cad': conda)"
  },
  "interpreter": {
   "hash": "49574378497f446692c7e26f7d0f985f921d43351aeee8284e547a417bd9147b"
  }
 },
 "nbformat": 4,
 "nbformat_minor": 2
}