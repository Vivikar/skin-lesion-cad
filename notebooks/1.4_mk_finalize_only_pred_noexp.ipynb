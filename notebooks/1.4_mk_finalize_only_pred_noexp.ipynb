{
 "cells": [
  {
   "cell_type": "code",
   "execution_count": 1,
   "metadata": {},
   "outputs": [],
   "source": [
    "import os\n",
    "os.chdir(\"..\")\n"
   ]
  },
  {
   "cell_type": "code",
   "execution_count": 2,
   "metadata": {},
   "outputs": [],
   "source": [
    "from skin_lesion_cad.utils.data_utils import get_class\n",
    "from copy import deepcopy\n",
    "import numpy as np\n",
    "import pandas as pd\n",
    "import matplotlib as mpl\n",
    "import matplotlib.pyplot as plt\n",
    "import seaborn as sns\n",
    "import functools as ft\n",
    "from statsmodels.graphics.tsaplots import plot_acf, plot_pacf\n",
    "from sklearn.model_selection import GridSearchCV, RandomizedSearchCV, train_test_split\n",
    "from skopt import BayesSearchCV\n",
    "from sklearn.metrics import accuracy_score, f1_score, roc_auc_score, confusion_matrix, roc_curve\n",
    "import xgboost as xgb\n",
    "import time\n",
    "import warnings\n",
    "from pathlib import Path\n",
    "from sklearn.preprocessing import StandardScaler\n",
    "from sklearn.decomposition import PCA\n",
    "from sklearn.svm import SVC\n",
    "from sklearn.metrics import classification_report, confusion_matrix, roc_auc_score, roc_curve, auc, accuracy_score, f1_score\n",
    "from sklearn.ensemble import VotingClassifier\n",
    "from sklearn.model_selection import cross_val_score\n",
    "from tqdm import tqdm\n",
    "\n",
    "\n",
    "mpl.rcParams['figure.dpi'] = 200\n"
   ]
  },
  {
   "cell_type": "code",
   "execution_count": 3,
   "metadata": {},
   "outputs": [],
   "source": [
    "feature_dir = \"data/processed/features\"\n",
    "CHALLENGE = \"chall1\"\n"
   ]
  },
  {
   "cell_type": "code",
   "execution_count": 4,
   "metadata": {},
   "outputs": [],
   "source": [
    "\n",
    "def read_feats(color=\"raw\"):\n",
    "    save_path = Path(\"data/processed/features\")\n",
    "    \n",
    "    glcm_whole_image_df_train = pd.read_feather(\n",
    "        save_path/Path(f\"{CHALLENGE}_train_glcm_original_image.feather\"))\n",
    "    glcm_whole_image_df_train[\"image\"] = glcm_whole_image_df_train[\"image\"].apply(\n",
    "        lambda x: x.split(\"/\")[-1].split(\".\")[0])\n",
    "    \n",
    "    \n",
    "    lbp_whole_image_df_train = pd.read_feather(\n",
    "        save_path/Path(f\"{CHALLENGE}_train_lbp_original_image.feather\"))\n",
    "    lbp_whole_image_df_train[\"image\"] = lbp_whole_image_df_train[\"image\"].apply(\n",
    "        lambda x: x.split(\"/\")[-1].split(\".\")[0])\n",
    "    \n",
    "    shape_df_train = pd.read_feather(\n",
    "        save_path/Path(f\"{CHALLENGE}_train_shape.feather\"))\n",
    "    shape_df_train[\"image\"] = shape_df_train[\"image\"].apply(lambda x: x.split(\"/\")[-1].split(\".\")[0].split(\"_\")[0])\n",
    "    \n",
    "    color_df_raw_train = pd.read_feather(\n",
    "        save_path/Path(f\"{CHALLENGE}_train_color_raw.feather\"))\n",
    "    color_df_raw_train[\"image\"] = color_df_raw_train[\"image\"].apply(lambda x: x.split(\"/\")[-1].split(\".\")[0].split(\"_\")[0])\n",
    "    \n",
    "    color_df_ms_train = pd.read_feather(\n",
    "    save_path/Path(f\"{CHALLENGE}_train_color_meanshift.feather\"))\n",
    "    color_df_ms_train[\"image\"] = color_df_ms_train[\"image\"].apply(lambda x: x.split(\"/\")[-1].split(\".\")[0].split(\"_\")[0])\n",
    "\n",
    "    \n",
    "    \n",
    "    \n",
    "    glcm_whole_image_df_val = pd.read_feather(\n",
    "        save_path/Path(f\"{CHALLENGE}_val_glcm_original_image.feather\"))\n",
    "    glcm_whole_image_df_val[\"image\"] = glcm_whole_image_df_val[\"image\"].apply(\n",
    "        lambda x: x.split(\"/\")[-1].split(\".\")[0])\n",
    "    \n",
    "    \n",
    "    lbp_whole_image_df_val = pd.read_feather(\n",
    "        save_path/Path(f\"{CHALLENGE}_val_lbp_original_image.feather\"))\n",
    "    lbp_whole_image_df_val[\"image\"] = lbp_whole_image_df_val[\"image\"].apply(\n",
    "        lambda x: x.split(\"/\")[-1].split(\".\")[0])\n",
    "    \n",
    "    shape_df_val = pd.read_feather(\n",
    "        save_path/Path(f\"{CHALLENGE}_val_shape.feather\"))\n",
    "    shape_df_val[\"image\"] = shape_df_val[\"image\"].apply(lambda x: x.split(\"/\")[-1].split(\".\")[0].split(\"_\")[0])\n",
    "\n",
    "    \n",
    "    color_df_raw_val = pd.read_feather(\n",
    "        save_path/Path(f\"{CHALLENGE}_val_color_raw.feather\"))\n",
    "    color_df_raw_val[\"image\"] = color_df_raw_val[\"image\"].apply(lambda x: x.split(\"/\")[-1].split(\".\")[0].split(\"_\")[0])\n",
    "\n",
    "    color_df_ms_val = pd.read_feather(\n",
    "    save_path/Path(f\"{CHALLENGE}_val_color_meanshift.feather\"))\n",
    "    color_df_ms_val[\"image\"] = color_df_ms_val[\"image\"].apply(lambda x: x.split(\"/\")[-1].split(\".\")[0].split(\"_\")[0])\n",
    "\n",
    "    \n",
    "    \n",
    "    glcm_whole_image_df_test = pd.read_feather(\n",
    "        save_path/Path(f\"{CHALLENGE}_test_glcm_original_image.feather\"))\n",
    "    glcm_whole_image_df_test[\"image\"] = glcm_whole_image_df_test[\"image\"].apply(\n",
    "        lambda x: x.split(\"/\")[-1].split(\".\")[0])\n",
    "    \n",
    "    \n",
    "    lbp_whole_image_df_test = pd.read_feather(\n",
    "        save_path/Path(f\"{CHALLENGE}_test_lbp_original_image.feather\"))\n",
    "    lbp_whole_image_df_test[\"image\"] = lbp_whole_image_df_test[\"image\"].apply(\n",
    "        lambda x: x.split(\"/\")[-1].split(\".\")[0])\n",
    "\n",
    "    shape_df_test = pd.read_feather(\n",
    "        save_path/Path(f\"{CHALLENGE}_test_shape.feather\"))\n",
    "    shape_df_test[\"image\"] = shape_df_test[\"image\"].apply(lambda x: x.split(\"/\")[-1].split(\".\")[0].split(\"_\")[0])\n",
    "\n",
    "    \n",
    "    color_df_raw_test = pd.read_feather(\n",
    "        save_path/Path(f\"{CHALLENGE}_test_color_raw.feather\"))\n",
    "    color_df_raw_test[\"image\"] = color_df_raw_test[\"image\"].apply(lambda x: x.split(\"/\")[-1].split(\".\")[0].split(\"_\")[0])\n",
    "\n",
    "    color_df_ms_test = pd.read_feather(\n",
    "    save_path/Path(f\"{CHALLENGE}_test_color_meanshift.feather\"))\n",
    "    color_df_ms_test[\"image\"] = color_df_ms_test[\"image\"].apply(lambda x: x.split(\"/\")[-1].split(\".\")[0].split(\"_\")[0])\n",
    "\n",
    "    \n",
    "    if color==\"raw\":\n",
    "        dfs = [  # glcm_df_train, lbp_df_train,\n",
    "            color_df_raw_train,\n",
    "            glcm_whole_image_df_train, lbp_whole_image_df_train, shape_df_train]\n",
    "        all_feat_raw_train = ft.reduce(\n",
    "            lambda left, right: pd.merge(left, right, on='image'), dfs)\n",
    "\n",
    "        dfs = [  # glcm_df_val, lbp_df_val,\n",
    "            color_df_raw_val,\n",
    "            glcm_whole_image_df_val, lbp_whole_image_df_val, shape_df_val]\n",
    "        all_feat_raw_val = ft.reduce(\n",
    "            lambda left, right: pd.merge(left, right, on='image'), dfs)\n",
    "\n",
    "        dfs = [  # glcm_df_val, lbp_df_val,\n",
    "            color_df_raw_test,\n",
    "            glcm_whole_image_df_test, lbp_whole_image_df_test, shape_df_test]\n",
    "        all_feat_raw_test = ft.reduce(\n",
    "            lambda left, right: pd.merge(left, right, on='image'), dfs)\n",
    "        return all_feat_raw_train, all_feat_raw_val, all_feat_raw_test\n",
    "\n",
    "    elif color==\"meanshift\":\n",
    "        dfs = [  # glcm_df_train, lbp_df_train,\n",
    "            color_df_ms_train,\n",
    "            glcm_whole_image_df_train, lbp_whole_image_df_train, shape_df_train]\n",
    "        all_feat_raw_train = ft.reduce(\n",
    "            lambda left, right: pd.merge(left, right, on='image'), dfs)\n",
    "\n",
    "        dfs = [  # glcm_df_val, lbp_df_val,\n",
    "            color_df_ms_val,\n",
    "            glcm_whole_image_df_val, lbp_whole_image_df_val, shape_df_val]\n",
    "        all_feat_raw_val = ft.reduce(\n",
    "            lambda left, right: pd.merge(left, right, on='image'), dfs)\n",
    "\n",
    "        dfs = [  # glcm_df_val, lbp_df_val,\n",
    "            color_df_ms_test,\n",
    "            glcm_whole_image_df_test, lbp_whole_image_df_test, shape_df_test]\n",
    "        all_feat_raw_test = ft.reduce(\n",
    "            lambda left, right: pd.merge(left, right, on='image'), dfs)\n",
    "        return all_feat_raw_train, all_feat_raw_val, all_feat_raw_test\n",
    "\n"
   ]
  },
  {
   "cell_type": "code",
   "execution_count": 5,
   "metadata": {},
   "outputs": [],
   "source": [
    "all_feat_train, all_feat_val, all_feat_test = read_feats()\n"
   ]
  },
  {
   "cell_type": "code",
   "execution_count": 25,
   "metadata": {},
   "outputs": [],
   "source": [
    "all_feat_train.to_feather(\"chall1_all_feat_train_final.csv\")\n",
    "all_feat_val.to_feather(\"chall1_all_feat_val_final.csv\")"
   ]
  },
  {
   "cell_type": "code",
   "execution_count": 6,
   "metadata": {},
   "outputs": [
    {
     "data": {
      "text/plain": [
       "((15195, 359), (3796, 359), (6340, 359))"
      ]
     },
     "execution_count": 6,
     "metadata": {},
     "output_type": "execute_result"
    }
   ],
   "source": [
    "all_feat_train.shape, all_feat_val.shape, all_feat_test.shape\n"
   ]
  },
  {
   "cell_type": "code",
   "execution_count": 7,
   "metadata": {},
   "outputs": [],
   "source": [
    "all_feat_Train = pd.concat([all_feat_train, all_feat_val])\n"
   ]
  },
  {
   "cell_type": "code",
   "execution_count": 8,
   "metadata": {},
   "outputs": [],
   "source": [
    "X_train = all_feat_Train.drop(columns='image')\n",
    "y_train = all_feat_Train['image'].apply(get_class, chall=CHALLENGE)\n",
    "X_test = all_feat_test.drop(columns='image')\n"
   ]
  },
  {
   "cell_type": "code",
   "execution_count": 9,
   "metadata": {},
   "outputs": [],
   "source": [
    "X_train[np.isnan(X_train)] = 0\n",
    "X_train[np.isinf(X_train)] = 0\n",
    "\n",
    "X_test[np.isnan(X_test)] = 0\n",
    "X_test[np.isinf(X_test)] = 0\n",
    "\n",
    "scaler = StandardScaler()\n",
    "X_train = scaler.fit_transform(X_train)\n",
    "X_test = scaler.transform(X_test)\n",
    "\n",
    "pca = PCA(n_components=150)\n",
    "X_train_pca = pca.fit_transform(X_train)\n",
    "X_test_pca = pca.transform(X_test)\n"
   ]
  },
  {
   "cell_type": "code",
   "execution_count": 10,
   "metadata": {},
   "outputs": [],
   "source": [
    "xgb_params = {'base_score': 0.5,\n",
    "              'booster': 'gbtree',\n",
    "              'callbacks': None,\n",
    "              'colsample_bylevel': 1,\n",
    "              'colsample_bynode': 1,\n",
    "              'colsample_bytree': 1,\n",
    "              'early_stopping_rounds': None,\n",
    "              'enable_categorical': False,\n",
    "              'eval_metric': 'auc',\n",
    "              'gamma': 0.4,\n",
    "              'gpu_id': -1,\n",
    "              'grow_policy': 'lossguide',\n",
    "              'importance_type': None,\n",
    "              'interaction_constraints': '',\n",
    "              'learning_rate': 0.15,\n",
    "              'max_bin': 256,\n",
    "              'max_cat_to_onehot': 4,\n",
    "              'max_delta_step': 0,\n",
    "              'max_depth': 10,\n",
    "              'max_leaves': 0,\n",
    "              'min_child_weight': 1,\n",
    "              'monotone_constraints': '()',\n",
    "              'n_estimators': 100,\n",
    "              'n_jobs': 0,\n",
    "              'num_parallel_tree': 1,\n",
    "              'objective': 'binary:logistic',\n",
    "              'predictor': 'auto',\n",
    "              'random_state': 0,\n",
    "              'reg_alpha': 1.6,\n",
    "              'reg_lambda': 3.2,\n",
    "              'sampling_method': 'uniform',\n",
    "              'scale_pos_weight': 1,\n",
    "              'subsample': 1,\n",
    "              'tree_method': 'hist',\n",
    "              'use_label_encoder': False,\n",
    "              'validate_parameters': 1,\n",
    "              'verbosity': None}"
   ]
  },
  {
   "cell_type": "code",
   "execution_count": 11,
   "metadata": {},
   "outputs": [
    {
     "name": "stderr",
     "output_type": "stream",
     "text": [
      "1it [12:07, 727.66s/it]"
     ]
    },
    {
     "name": "stdout",
     "output_type": "stream",
     "text": [
      "Accuracy: 0.8380 (+/- 0.0068) [SVM]\n"
     ]
    },
    {
     "name": "stderr",
     "output_type": "stream",
     "text": [
      "2it [13:04, 332.83s/it]"
     ]
    },
    {
     "name": "stdout",
     "output_type": "stream",
     "text": [
      "Accuracy: 0.8288 (+/- 0.0058) [XGB]\n"
     ]
    },
    {
     "name": "stderr",
     "output_type": "stream",
     "text": [
      "3it [27:33, 551.30s/it]"
     ]
    },
    {
     "name": "stdout",
     "output_type": "stream",
     "text": [
      "Accuracy: 0.8410 (+/- 0.0066) [Ensemble]\n"
     ]
    },
    {
     "name": "stderr",
     "output_type": "stream",
     "text": [
      "\n"
     ]
    }
   ],
   "source": [
    "from sklearn.ensemble import VotingClassifier\n",
    "from sklearn.model_selection import cross_val_score\n",
    "from tqdm import tqdm\n",
    "clf1 = SVC(kernel='rbf', probability=True,\n",
    "           class_weight='balanced', C=100, gamma=0.001)\n",
    "clf2 = xgb.XGBClassifier(**xgb_params)\n",
    "eclf = VotingClassifier(\n",
    "    estimators=[('svm', clf1), ('xgb', clf2)], voting='soft')\n",
    "for clf, label in tqdm(zip([clf1, clf2, eclf], ['SVM', 'XGB', 'Ensemble'])):\n",
    "    scores = cross_val_score(clf, X_train_pca, y_train,\n",
    "                             scoring='balanced_accuracy', cv=5)\n",
    "    print(\"Accuracy: %0.4f (+/- %0.4f) [%s]\" %\n",
    "          (scores.mean(), scores.std(), label))\n"
   ]
  },
  {
   "cell_type": "code",
   "execution_count": 12,
   "metadata": {},
   "outputs": [],
   "source": [
    "eclf.fit(X_train_pca,y_train)\n",
    "pred = eclf.predict(X_test_pca)"
   ]
  },
  {
   "cell_type": "code",
   "execution_count": 17,
   "metadata": {},
   "outputs": [],
   "source": [
    "clf1.fit(X_train_pca,y_train)\n",
    "pred_svm = clf1.predict(X_test_pca)"
   ]
  },
  {
   "cell_type": "code",
   "execution_count": 14,
   "metadata": {},
   "outputs": [],
   "source": [
    "pred_name = all_feat_test[\"image\"].apply(lambda x: x.split(\"/\")[-1].split(\"_\")[0])"
   ]
  },
  {
   "cell_type": "code",
   "execution_count": 15,
   "metadata": {},
   "outputs": [],
   "source": [
    "pred_df = pd.DataFrame(pred, pred_name, columns=[\"pred\"]).reset_index(drop=False)"
   ]
  },
  {
   "cell_type": "code",
   "execution_count": 23,
   "metadata": {},
   "outputs": [
    {
     "data": {
      "text/html": [
       "<div>\n",
       "<style scoped>\n",
       "    .dataframe tbody tr th:only-of-type {\n",
       "        vertical-align: middle;\n",
       "    }\n",
       "\n",
       "    .dataframe tbody tr th {\n",
       "        vertical-align: top;\n",
       "    }\n",
       "\n",
       "    .dataframe thead th {\n",
       "        text-align: right;\n",
       "    }\n",
       "</style>\n",
       "<table border=\"1\" class=\"dataframe\">\n",
       "  <thead>\n",
       "    <tr style=\"text-align: right;\">\n",
       "      <th></th>\n",
       "      <th>image</th>\n",
       "      <th>pred_xgb+svm</th>\n",
       "      <th>pred_svm</th>\n",
       "    </tr>\n",
       "  </thead>\n",
       "  <tbody>\n",
       "    <tr>\n",
       "      <th>0</th>\n",
       "      <td>xxx03908</td>\n",
       "      <td>0</td>\n",
       "      <td>0</td>\n",
       "    </tr>\n",
       "    <tr>\n",
       "      <th>1</th>\n",
       "      <td>xxx05677</td>\n",
       "      <td>1</td>\n",
       "      <td>1</td>\n",
       "    </tr>\n",
       "    <tr>\n",
       "      <th>2</th>\n",
       "      <td>xxx02725</td>\n",
       "      <td>0</td>\n",
       "      <td>0</td>\n",
       "    </tr>\n",
       "    <tr>\n",
       "      <th>3</th>\n",
       "      <td>xxx02891</td>\n",
       "      <td>1</td>\n",
       "      <td>1</td>\n",
       "    </tr>\n",
       "    <tr>\n",
       "      <th>4</th>\n",
       "      <td>xxx01938</td>\n",
       "      <td>0</td>\n",
       "      <td>0</td>\n",
       "    </tr>\n",
       "    <tr>\n",
       "      <th>...</th>\n",
       "      <td>...</td>\n",
       "      <td>...</td>\n",
       "      <td>...</td>\n",
       "    </tr>\n",
       "    <tr>\n",
       "      <th>6335</th>\n",
       "      <td>xxx01129</td>\n",
       "      <td>1</td>\n",
       "      <td>1</td>\n",
       "    </tr>\n",
       "    <tr>\n",
       "      <th>6336</th>\n",
       "      <td>xxx02360</td>\n",
       "      <td>1</td>\n",
       "      <td>1</td>\n",
       "    </tr>\n",
       "    <tr>\n",
       "      <th>6337</th>\n",
       "      <td>xxx02080</td>\n",
       "      <td>1</td>\n",
       "      <td>0</td>\n",
       "    </tr>\n",
       "    <tr>\n",
       "      <th>6338</th>\n",
       "      <td>xxx03119</td>\n",
       "      <td>1</td>\n",
       "      <td>1</td>\n",
       "    </tr>\n",
       "    <tr>\n",
       "      <th>6339</th>\n",
       "      <td>xxx00350</td>\n",
       "      <td>1</td>\n",
       "      <td>1</td>\n",
       "    </tr>\n",
       "  </tbody>\n",
       "</table>\n",
       "<p>6340 rows × 3 columns</p>\n",
       "</div>"
      ],
      "text/plain": [
       "         image  pred_xgb+svm  pred_svm\n",
       "0     xxx03908             0         0\n",
       "1     xxx05677             1         1\n",
       "2     xxx02725             0         0\n",
       "3     xxx02891             1         1\n",
       "4     xxx01938             0         0\n",
       "...        ...           ...       ...\n",
       "6335  xxx01129             1         1\n",
       "6336  xxx02360             1         1\n",
       "6337  xxx02080             1         0\n",
       "6338  xxx03119             1         1\n",
       "6339  xxx00350             1         1\n",
       "\n",
       "[6340 rows x 3 columns]"
      ]
     },
     "execution_count": 23,
     "metadata": {},
     "output_type": "execute_result"
    }
   ],
   "source": [
    "pred_df.rename(columns={\"pred\":\"pred_xgb+svm\"})"
   ]
  },
  {
   "cell_type": "code",
   "execution_count": 24,
   "metadata": {},
   "outputs": [],
   "source": [
    "pred_df.to_csv(\"chall1_pred_updated_test_set.csv\")"
   ]
  },
  {
   "cell_type": "code",
   "execution_count": 19,
   "metadata": {},
   "outputs": [],
   "source": [
    "pred_df['pred_svm'] = pred_svm"
   ]
  },
  {
   "cell_type": "code",
   "execution_count": 21,
   "metadata": {},
   "outputs": [
    {
     "data": {
      "text/plain": [
       "0.9487381703470031"
      ]
     },
     "execution_count": 21,
     "metadata": {},
     "output_type": "execute_result"
    }
   ],
   "source": [
    "accuracy_score(pred_df['pred'], pred_df['pred_svm'])"
   ]
  }
 ],
 "metadata": {
  "interpreter": {
   "hash": "49574378497f446692c7e26f7d0f985f921d43351aeee8284e547a417bd9147b"
  },
  "kernelspec": {
   "display_name": "Python 3 (ipykernel)",
   "language": "python",
   "name": "python3"
  },
  "language_info": {
   "codemirror_mode": {
    "name": "ipython",
    "version": 3
   },
   "file_extension": ".py",
   "mimetype": "text/x-python",
   "name": "python",
   "nbconvert_exporter": "python",
   "pygments_lexer": "ipython3",
   "version": "3.9.13"
  }
 },
 "nbformat": 4,
 "nbformat_minor": 4
}
