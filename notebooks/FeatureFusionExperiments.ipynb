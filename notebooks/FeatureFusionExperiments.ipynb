{
 "cells": [
  {
   "cell_type": "code",
   "execution_count": 1,
   "metadata": {},
   "outputs": [
    {
     "name": "stderr",
     "output_type": "stream",
     "text": [
      "Intel(R) Extension for Scikit-learn* enabled (https://github.com/intel/scikit-learn-intelex)\n"
     ]
    }
   ],
   "source": [
    "import cpuinfo\n",
    "if \"Intel\" in cpuinfo.get_cpu_info()['brand_raw']:\n",
    "    from sklearnex import patch_sklearn\n",
    "    patch_sklearn()"
   ]
  },
  {
   "cell_type": "code",
   "execution_count": 2,
   "metadata": {},
   "outputs": [
    {
     "name": "stderr",
     "output_type": "stream",
     "text": [
      "Intel(R) Extension for Scikit-learn* enabled (https://github.com/intel/scikit-learn-intelex)\n"
     ]
    }
   ],
   "source": [
    "import os\n",
    "os.chdir(\"..\")\n",
    "\n",
    "import random\n",
    "from tqdm import tqdm\n",
    "from pathlib import Path\n",
    "import numpy as np\n",
    "import cv2\n",
    "from joblib import Parallel, delayed, parallel_backend\n",
    "from sklearn.pipeline import make_pipeline\n",
    "from sklearn.preprocessing import StandardScaler\n",
    "from sklearn.feature_extraction.text import TfidfTransformer\n",
    "\n",
    "from sklearn.svm import SVC\n",
    "from sklearn.model_selection import train_test_split\n",
    "from sklearn.cluster import KMeans\n",
    "from sklearn.metrics import classification_report, accuracy_score, confusion_matrix, f1_score\n",
    "from sklearn.model_selection import StratifiedShuffleSplit, StratifiedGroupKFold, StratifiedKFold\n",
    "from multiprocessing.dummy import Pool\n",
    "import pandas as pd\n",
    "\n",
    "from skin_lesion_cad.data.BOVW import DenseDescriptor, BagofWords, ColorDescriptor, LBPDescriptor\n",
    "from skin_lesion_cad.features.colour import ColorFeaturesDescriptor\n",
    "\n",
    "import matplotlib.pyplot as plt\n",
    "\n",
    "from scipy.stats import truncnorm\n",
    "import seaborn as sns"
   ]
  },
  {
   "cell_type": "markdown",
   "metadata": {},
   "source": [
    "### Sampling Data (CHANGE TO USE ALL)"
   ]
  },
  {
   "cell_type": "code",
   "execution_count": 3,
   "metadata": {},
   "outputs": [],
   "source": [
    "SAMPLE_SIZE = 50\n",
    "root_path = Path().resolve()\n",
    "\n",
    "chall1 = root_path/\"data/processed/chall2/train\"\n",
    "mel_imgs = list((chall1/'mel').glob(\"*inpaint_0_5.png\"))\n",
    "bcc_imgs = list((chall1/'bcc').glob(\"*inpaint_0_5.png\"))\n",
    "scc_imgs = list((chall1/'scc').glob(\"*inpaint_0_5.png\"))\n",
    "\n",
    "test_imgs = np.concatenate([mel_imgs, bcc_imgs, scc_imgs])\n",
    "# test_imgs = pd.read_pickle(\"test_imgs.pkl\")\n",
    "\n",
    "brisk = cv2.BRISK_create(thresh=30, octaves=0)\n",
    "\n",
    "\n",
    "color_spaces = {'bgr':cv2.COLOR_RGB2BGR, 'hsv':cv2.COLOR_RGB2HSV, 'YCrCb':cv2.COLOR_RGB2YCrCb}\n",
    "mshift_params = {'sp': 10, 'sr': 15} # spatial and color range radius\n",
    "\n",
    "\n",
    "dense_brisk_color = ColorDescriptor(brisk, color_spaces, meanshift=mshift_params,\n",
    "                                    min_keypoints=100, max_keypoints=500,\n",
    "                                    kp_size=25)\n",
    "\n",
    "dense_brick_texture = LBPDescriptor(brisk, min_keypoints=100, max_keypoints=500)\n",
    "\n",
    "strf_split = StratifiedShuffleSplit(n_splits=5, random_state=42)\n"
   ]
  },
  {
   "cell_type": "code",
   "execution_count": 4,
   "metadata": {},
   "outputs": [],
   "source": [
    "def BoW_cross_validation(descriptors, img_classes, n_splits=5, show_result=True):\n",
    "    split_results = []\n",
    "    for train_idxs, test_idxs in strf_split.split(descriptors, img_classes):\n",
    "        split_result = {}\n",
    "        X_train = [descriptors[i] for i in train_idxs]\n",
    "        y_train = [img_classes[i] for i in train_idxs]\n",
    "        X_test = [descriptors[i] for i in test_idxs]\n",
    "        y_test = [img_classes[i] for i in test_idxs]\n",
    "        \n",
    "        \n",
    "        bovw = BagofWords(n_words=100, n_jobs=-1, random_state=None)\n",
    "        classifier = SVC(kernel='rbf', C=1, gamma=0.1, probability=True, class_weight='balanced')\n",
    "\n",
    "        X_train_preprocessed = bovw.fit_transform(X_train,y_train) \n",
    "        X_test_preprocessed = bovw.transform(X_test)\n",
    "\n",
    "        classifier.fit(X_train_preprocessed,y_train)\n",
    "        y_pred = classifier.predict(X_test_preprocessed)\n",
    "\n",
    "        split_result['y_test'] = y_test\n",
    "        split_result['y_pred'] = y_pred\n",
    "        split_result['accuracy'] = accuracy_score(y_test, y_pred)\n",
    "        split_result['f1'] = f1_score(y_test, y_pred, average='weighted', zero_division=0)\n",
    "        split_result['confusion_matrix'] = confusion_matrix(y_test, y_pred)\n",
    "        split_result['classification_report'] = classification_report(y_test, y_pred, zero_division=0)\n",
    "        \n",
    "        split_results.append(split_result)\n",
    "        \n",
    "    if show_result:\n",
    "        accs = [s['accuracy'] for s in split_results]\n",
    "        f1s = [s['f1'] for s in split_results]\n",
    "\n",
    "        print('Mean accuracy: ', np.mean(accs))\n",
    "        print('Mean f1: ', np.mean(f1s))\n",
    "        sns.boxplot(pd.DataFrame([accs, f1s], index=['accuracy', 'f1']).T)\n",
    "        plt.show()\n",
    "    return split_results"
   ]
  },
  {
   "cell_type": "markdown",
   "metadata": {},
   "source": [
    "### Baseline BoW"
   ]
  },
  {
   "cell_type": "markdown",
   "metadata": {},
   "source": [
    "##### Pure BoW of Texture - LBP"
   ]
  },
  {
   "cell_type": "code",
   "execution_count": 5,
   "metadata": {},
   "outputs": [
    {
     "name": "stderr",
     "output_type": "stream",
     "text": [
      "100%|██████████| 5082/5082 [11:24<00:00,  7.42it/s]\n"
     ]
    }
   ],
   "source": [
    "def _load_and_extract_des_texture(x):\n",
    "    image_path, descriptor = x\n",
    "    im = cv2.imread(str(image_path), cv2.IMREAD_GRAYSCALE)\n",
    "    mask = cv2.imread(str(image_path).replace('inpaint', 'mask'))\n",
    "    if 'bcc' in str(image_path):\n",
    "        img_cls = 0\n",
    "    elif 'mel' in str(image_path):\n",
    "        img_cls = 1\n",
    "    else:\n",
    "        img_cls = 2\n",
    "    kpts, des = descriptor.detectAndCompute(im, mask)\n",
    "    return (des, img_cls, image_path)\n",
    "\n",
    "descriptors = []\n",
    "img_classes = []\n",
    "img_paths = []\n",
    "\n",
    "with Pool(8) as pool:\n",
    "    for (des, img_cls, ipath) in tqdm(pool.imap(_load_and_extract_des_texture,\n",
    "                                       zip(test_imgs,\n",
    "                                           [dense_brick_texture]*len(test_imgs))), total=len(test_imgs)):\n",
    "        descriptors.append(des)\n",
    "        img_classes.append(img_cls)\n",
    "        img_paths.append(ipath)"
   ]
  },
  {
   "cell_type": "code",
   "execution_count": 6,
   "metadata": {},
   "outputs": [
    {
     "name": "stdout",
     "output_type": "stream",
     "text": [
      "Mean accuracy:  0.6640471512770137\n",
      "Mean f1:  0.6310226290228493\n"
     ]
    },
    {
     "data": {
      "image/png": "[encoded data removed]",
      "text/plain": [
       "<Figure size 640x480 with 1 Axes>"
      ]
     },
     "metadata": {},
     "output_type": "display_data"
    }
   ],
   "source": [
    "res_texture = BoW_cross_validation(descriptors, img_classes, n_splits=5, show_result=True)\n",
    "pd.to_pickle((descriptors, img_classes, img_paths, res_texture), 'descriptors_texture.pkl')"
   ]
  },
  {
   "cell_type": "markdown",
   "metadata": {},
   "source": [
    "##### Pure BoW of Color"
   ]
  },
  {
   "cell_type": "code",
   "execution_count": 7,
   "metadata": {},
   "outputs": [
    {
     "name": "stderr",
     "output_type": "stream",
     "text": [
      " 32%|███▏      | 1633/5082 [29:19<1:04:00,  1.11s/it]/media/vzalevskyi/DATA/ProjectsData/skin-lesion-cad/skin_lesion_cad/features/colour.py:83: RuntimeWarning: Precision loss occurred in moment calculation due to catastrophic cancellation. This occurs when the data are nearly identical. Results may be unreliable.\n",
      "  skew(pixels),\n",
      "/media/vzalevskyi/DATA/ProjectsData/skin-lesion-cad/skin_lesion_cad/features/colour.py:84: RuntimeWarning: Precision loss occurred in moment calculation due to catastrophic cancellation. This occurs when the data are nearly identical. Results may be unreliable.\n",
      "  kurtosis(pixels),\n",
      "/home/vzalevskyi/anaconda3/envs/cad/lib/python3.10/site-packages/scipy/stats/_entropy.py:77: RuntimeWarning: invalid value encountered in divide\n",
      "  pk = 1.0*pk / np.sum(pk, axis=axis, keepdims=True)\n",
      "100%|██████████| 5082/5082 [1:23:34<00:00,  1.01it/s]  \n"
     ]
    }
   ],
   "source": [
    "def _load_and_extract_des(x):\n",
    "    image_path, descriptor = x\n",
    "    im = cv2.imread(str(image_path))\n",
    "    mask = cv2.imread(str(image_path).replace('inpaint', 'mask'))\n",
    "    if 'bcc' in str(image_path):\n",
    "        img_cls = 0\n",
    "    elif 'mel' in str(image_path):\n",
    "        img_cls = 1\n",
    "    else:\n",
    "        img_cls = 2\n",
    "    kpts, des = descriptor.detectAndCompute(im, mask)\n",
    "    return (des, img_cls, image_path)\n",
    "\n",
    "descriptors_color = []\n",
    "img_classes_color = []\n",
    "ipaths_color = []\n",
    "\n",
    "with Pool(8) as pool:\n",
    "    for (des, img_cls, ipath) in tqdm(pool.imap(_load_and_extract_des,\n",
    "                                       zip(test_imgs,\n",
    "                                           [dense_brisk_color]*len(test_imgs))), total=len(test_imgs)):\n",
    "        descriptors_color.append(des)\n",
    "        img_classes_color.append(img_cls)\n",
    "        ipaths_color.append(ipath)"
   ]
  },
  {
   "cell_type": "code",
   "execution_count": 8,
   "metadata": {},
   "outputs": [
    {
     "name": "stdout",
     "output_type": "stream",
     "text": [
      "Mean accuracy:  0.7214145383104126\n",
      "Mean f1:  0.6933309259284373\n"
     ]
    },
    {
     "data": {
      "image/png": "[encoded data removed]",
      "text/plain": [
       "<Figure size 640x480 with 1 Axes>"
      ]
     },
     "metadata": {},
     "output_type": "display_data"
    }
   ],
   "source": [
    "res_color = BoW_cross_validation(descriptors_color, img_classes_color, n_splits=5, show_result=True)\n",
    "pd.to_pickle((descriptors_color, img_classes_color, ipaths_color, res_color), 'descriptors_color.pkl')"
   ]
  },
  {
   "cell_type": "markdown",
   "metadata": {},
   "source": [
    "### For BoW try texture features (GLCM) extracting only from centered bbox"
   ]
  },
  {
   "cell_type": "code",
   "execution_count": 9,
   "metadata": {},
   "outputs": [
    {
     "name": "stderr",
     "output_type": "stream",
     "text": [
      "100%|██████████| 5082/5082 [10:03<00:00,  8.42it/s]\n"
     ]
    }
   ],
   "source": [
    "def _load_and_extract_des_texture(x):\n",
    "    image_path, descriptor = x\n",
    "    im = cv2.imread(str(image_path), cv2.IMREAD_GRAYSCALE)\n",
    "    mask = np.zeros_like(im)\n",
    "    # draw circle in the centre of the image\n",
    "    mask = cv2.circle(mask, (im.shape[1]//2, im.shape[0]//2), 100, 255, -1)\n",
    "    \n",
    "    if 'bcc' in str(image_path):\n",
    "        img_cls = 0\n",
    "    elif 'mel' in str(image_path):\n",
    "        img_cls = 1\n",
    "    else:\n",
    "        img_cls = 2\n",
    "    kpts, des = descriptor.detectAndCompute(im, mask)\n",
    "    return (des, img_cls, image_path)\n",
    "\n",
    "descriptors = []\n",
    "img_classes = []\n",
    "img_paths = []\n",
    "\n",
    "with Pool(8) as pool:\n",
    "    for (des, img_cls, ipath) in tqdm(pool.imap(_load_and_extract_des_texture,\n",
    "                                       zip(test_imgs,\n",
    "                                           [dense_brick_texture]*len(test_imgs))), total=len(test_imgs)):\n",
    "        descriptors.append(des)\n",
    "        img_classes.append(img_cls)\n",
    "        img_paths.append(ipath)"
   ]
  },
  {
   "cell_type": "code",
   "execution_count": 10,
   "metadata": {},
   "outputs": [
    {
     "name": "stdout",
     "output_type": "stream",
     "text": [
      "Mean accuracy:  0.6667976424361493\n",
      "Mean f1:  0.6345669476871422\n"
     ]
    },
    {
     "data": {
      "image/png": "[encoded data removed]",
      "text/plain": [
       "<Figure size 640x480 with 1 Axes>"
      ]
     },
     "metadata": {},
     "output_type": "display_data"
    }
   ],
   "source": [
    "res_texture = BoW_cross_validation(descriptors, img_classes, n_splits=5, show_result=True)\n",
    "pd.to_pickle((descriptors, img_classes, img_paths, res_texture), 'descriptors_texture_circle100.pkl')"
   ]
  },
  {
   "cell_type": "code",
   "execution_count": 11,
   "metadata": {},
   "outputs": [
    {
     "name": "stderr",
     "output_type": "stream",
     "text": [
      " 26%|██▌       | 1314/5082 [23:10<45:31,  1.38it/s]  /media/vzalevskyi/DATA/ProjectsData/skin-lesion-cad/skin_lesion_cad/features/colour.py:83: RuntimeWarning: Precision loss occurred in moment calculation due to catastrophic cancellation. This occurs when the data are nearly identical. Results may be unreliable.\n",
      "  skew(pixels),\n",
      "/media/vzalevskyi/DATA/ProjectsData/skin-lesion-cad/skin_lesion_cad/features/colour.py:84: RuntimeWarning: Precision loss occurred in moment calculation due to catastrophic cancellation. This occurs when the data are nearly identical. Results may be unreliable.\n",
      "  kurtosis(pixels),\n",
      "100%|██████████| 5082/5082 [1:24:41<00:00,  1.00it/s]  \n"
     ]
    }
   ],
   "source": [
    "def _load_and_extract_des(x):\n",
    "    image_path, descriptor = x\n",
    "    im = cv2.imread(str(image_path))\n",
    "    mask = np.zeros_like(im)\n",
    "    # draw circle in the centre of the image\n",
    "    mask = cv2.circle(mask, (im.shape[1]//2, im.shape[0]//2), 100, 255, -1)\n",
    "    \n",
    "    if 'bcc' in str(image_path):\n",
    "        img_cls = 0\n",
    "    elif 'mel' in str(image_path):\n",
    "        img_cls = 1\n",
    "    else:\n",
    "        img_cls = 2\n",
    "    kpts, des = descriptor.detectAndCompute(im, mask)\n",
    "    return (des, img_cls, image_path)\n",
    "\n",
    "descriptors_color = []\n",
    "img_classes_color = []\n",
    "ipaths_color = []\n",
    "\n",
    "with Pool(8) as pool:\n",
    "    for (des, img_cls, ipath) in tqdm(pool.imap(_load_and_extract_des,\n",
    "                                       zip(test_imgs,\n",
    "                                           [dense_brisk_color]*len(test_imgs))), total=len(test_imgs)):\n",
    "        descriptors_color.append(des)\n",
    "        img_classes_color.append(img_cls)\n",
    "        ipaths_color.append(ipath)"
   ]
  },
  {
   "cell_type": "code",
   "execution_count": 12,
   "metadata": {},
   "outputs": [
    {
     "name": "stdout",
     "output_type": "stream",
     "text": [
      "Mean accuracy:  0.7292730844793713\n",
      "Mean f1:  0.7019856597407699\n"
     ]
    },
    {
     "data": {
      "image/png": "[encoded data removed]",
      "text/plain": [
       "<Figure size 640x480 with 1 Axes>"
      ]
     },
     "metadata": {},
     "output_type": "display_data"
    }
   ],
   "source": [
    "res_color = BoW_cross_validation(descriptors_color, img_classes_color, n_splits=5, show_result=True)\n",
    "pd.to_pickle((descriptors_color, img_classes_color, ipaths_color, res_color), 'descriptors_color_circle100.pkl')"
   ]
  },
  {
   "cell_type": "markdown",
   "metadata": {},
   "source": [
    "### Try sampling points for BoW using Gaussian with the mean on the image centre instead of uniform across the image"
   ]
  },
  {
   "cell_type": "code",
   "execution_count": 13,
   "metadata": {},
   "outputs": [],
   "source": [
    "dense_brisk_color = ColorDescriptor(brisk, color_spaces, meanshift=mshift_params,\n",
    "                              min_keypoints=100, max_keypoints=500,\n",
    "                              kp_size=25, sample_method='gaussian')\n",
    "\n",
    "dense_brick_texture = LBPDescriptor(brisk, min_keypoints=100, max_keypoints=500,\n",
    "                                    sample_method='gaussian')"
   ]
  },
  {
   "cell_type": "code",
   "execution_count": 14,
   "metadata": {},
   "outputs": [
    {
     "name": "stderr",
     "output_type": "stream",
     "text": [
      "100%|██████████| 5082/5082 [10:14<00:00,  8.27it/s]\n"
     ]
    }
   ],
   "source": [
    "def _load_and_extract_des_texture(x):\n",
    "    image_path, descriptor = x\n",
    "    im = cv2.imread(str(image_path), cv2.IMREAD_GRAYSCALE)\n",
    "    # mask = np.zeros_like(im)\n",
    "    # draw circle in the centre of the image\n",
    "    mask = None\n",
    "    \n",
    "    if 'bcc' in str(image_path):\n",
    "        img_cls = 0\n",
    "    elif 'mel' in str(image_path):\n",
    "        img_cls = 1\n",
    "    else:\n",
    "        img_cls = 2\n",
    "    kpts, des = descriptor.detectAndCompute(im, mask)\n",
    "    return (des, img_cls, image_path)\n",
    "\n",
    "descriptors = []\n",
    "img_classes = []\n",
    "img_paths = []\n",
    "\n",
    "with Pool(8) as pool:\n",
    "    for (des, img_cls, ipath) in tqdm(pool.imap(_load_and_extract_des_texture,\n",
    "                                       zip(test_imgs,\n",
    "                                           [dense_brick_texture]*len(test_imgs))), total=len(test_imgs)):\n",
    "        descriptors.append(des)\n",
    "        img_classes.append(img_cls)\n",
    "        img_paths.append(ipath)"
   ]
  },
  {
   "cell_type": "code",
   "execution_count": 15,
   "metadata": {},
   "outputs": [
    {
     "name": "stdout",
     "output_type": "stream",
     "text": [
      "Mean accuracy:  0.6754420432220039\n",
      "Mean f1:  0.6437440976654198\n"
     ]
    },
    {
     "data": {
      "image/png": "[encoded data removed]",
      "text/plain": [
       "<Figure size 640x480 with 1 Axes>"
      ]
     },
     "metadata": {},
     "output_type": "display_data"
    }
   ],
   "source": [
    "res_texture = BoW_cross_validation(descriptors, img_classes, n_splits=5, show_result=True)\n",
    "pd.to_pickle((descriptors, img_classes, img_paths, res_texture), 'descriptors_texture_gauss.pkl')"
   ]
  },
  {
   "cell_type": "code",
   "execution_count": 16,
   "metadata": {},
   "outputs": [
    {
     "name": "stderr",
     "output_type": "stream",
     "text": [
      "  4%|▎         | 188/5082 [03:56<2:40:44,  1.97s/it]/home/vzalevskyi/anaconda3/envs/cad/lib/python3.10/site-packages/scipy/stats/_entropy.py:77: RuntimeWarning: invalid value encountered in divide\n",
      "  pk = 1.0*pk / np.sum(pk, axis=axis, keepdims=True)\n",
      "/media/vzalevskyi/DATA/ProjectsData/skin-lesion-cad/skin_lesion_cad/features/colour.py:83: RuntimeWarning: Precision loss occurred in moment calculation due to catastrophic cancellation. This occurs when the data are nearly identical. Results may be unreliable.\n",
      "  skew(pixels),\n",
      "/media/vzalevskyi/DATA/ProjectsData/skin-lesion-cad/skin_lesion_cad/features/colour.py:84: RuntimeWarning: Precision loss occurred in moment calculation due to catastrophic cancellation. This occurs when the data are nearly identical. Results may be unreliable.\n",
      "  kurtosis(pixels),\n",
      "100%|██████████| 5082/5082 [1:25:40<00:00,  1.01s/it]  \n"
     ]
    }
   ],
   "source": [
    "def _load_and_extract_des(x):\n",
    "    image_path, descriptor = x\n",
    "    im = cv2.imread(str(image_path))\n",
    "    \n",
    "    mask = None\n",
    "    \n",
    "    if 'bcc' in str(image_path):\n",
    "        img_cls = 0\n",
    "    elif 'mel' in str(image_path):\n",
    "        img_cls = 1\n",
    "    else:\n",
    "        img_cls = 2\n",
    "    kpts, des = descriptor.detectAndCompute(im, mask)\n",
    "    return (des, img_cls, image_path)\n",
    "\n",
    "descriptors_color = []\n",
    "img_classes_color = []\n",
    "ipaths_color = []\n",
    "\n",
    "with Pool(8) as pool:\n",
    "    for (des, img_cls, ipath) in tqdm(pool.imap(_load_and_extract_des,\n",
    "                                       zip(test_imgs,\n",
    "                                           [dense_brisk_color]*len(test_imgs))), total=len(test_imgs)):\n",
    "        descriptors_color.append(des)\n",
    "        img_classes_color.append(img_cls)\n",
    "        ipaths_color.append(ipath)"
   ]
  },
  {
   "cell_type": "code",
   "execution_count": 17,
   "metadata": {},
   "outputs": [
    {
     "name": "stdout",
     "output_type": "stream",
     "text": [
      "Mean accuracy:  0.7335952848722986\n",
      "Mean f1:  0.7054598047036531\n"
     ]
    },
    {
     "data": {
      "image/png": "[encoded data removed]",
      "text/plain": [
       "<Figure size 640x480 with 1 Axes>"
      ]
     },
     "metadata": {},
     "output_type": "display_data"
    }
   ],
   "source": [
    "res_color = BoW_cross_validation(descriptors_color, img_classes_color, n_splits=5, show_result=True)\n",
    "pd.to_pickle((descriptors_color, img_classes_color, ipaths_color, res_color), 'descriptors_color_gauss.pkl')"
   ]
  },
  {
   "cell_type": "markdown",
   "metadata": {},
   "source": [
    "## 2. Fuse color and texture features (image wise, no BoW)\n",
    "    - Probability fusion\n",
    "    - Feature fusion"
   ]
  },
  {
   "cell_type": "markdown",
   "metadata": {},
   "source": []
  },
  {
   "cell_type": "code",
   "execution_count": 18,
   "metadata": {},
   "outputs": [],
   "source": [
    "from skin_lesion_cad.features.texture import  get_glcm\n",
    "\n",
    "from sklearn.preprocessing import StandardScaler, LabelEncoder\n",
    "from sklearn.svm import SVC\n",
    "from sklearn.metrics import classification_report, confusion_matrix, roc_auc_score, roc_curve, auc, accuracy_score, f1_score\n",
    "from sklearn import preprocessing\n",
    "from sklearn.utils import resample, shuffle\n",
    "from sklearn.model_selection import cross_val_score, cross_validate\n",
    "from sklearn.pipeline import Pipeline"
   ]
  },
  {
   "cell_type": "code",
   "execution_count": 19,
   "metadata": {},
   "outputs": [
    {
     "name": "stderr",
     "output_type": "stream",
     "text": [
      "100%|██████████| 5082/5082 [03:30<00:00, 24.19it/s]\n",
      "100%|██████████| 7/7 [00:02<00:00,  2.77it/s]\n"
     ]
    }
   ],
   "source": [
    "glcm_f = get_glcm(np.unique(test_imgs))\n",
    "glcm_f['class'] = glcm_f['image_0'].apply(lambda x: x.split('/')[-1][:3]).values\n",
    "glcm_f['class'] = glcm_f['class'].replace({'bcc': 0, 'mel': 1, 'scc': 2})\n",
    "glcm_f['name'] = glcm_f['image_0'].apply(lambda x: x.split('/')[-1].split('_')[0]).values\n",
    "glcm_f = glcm_f.set_index('name')"
   ]
  },
  {
   "cell_type": "markdown",
   "metadata": {},
   "source": [
    "### Pure GLCM features "
   ]
  },
  {
   "cell_type": "code",
   "execution_count": 20,
   "metadata": {},
   "outputs": [],
   "source": [
    "text_X = glcm_f.drop(columns=['image_0', 'class'])\n",
    "text_y = glcm_f['class'].values"
   ]
  },
  {
   "cell_type": "code",
   "execution_count": 21,
   "metadata": {},
   "outputs": [],
   "source": [
    "pipe = Pipeline([('scaler', StandardScaler()), ('svc', SVC(kernel='rbf', class_weight='balanced'))])"
   ]
  },
  {
   "cell_type": "code",
   "execution_count": 22,
   "metadata": {},
   "outputs": [
    {
     "name": "stdout",
     "output_type": "stream",
     "text": [
      "Mean f1 score: 0.6446283965105291\n",
      "{'fit_time': array([0.84287429, 0.7248888 , 0.9257369 , 0.77079892, 0.92784286]), 'score_time': array([0.02459121, 0.02977991, 0.01263928, 0.02016687, 0.01688766]), 'test_f1_weighted': array([0.64959426, 0.64444561, 0.63151137, 0.64120198, 0.65638876]), 'train_f1_weighted': array([0.65248226, 0.65811975, 0.65895157, 0.65126963, 0.65008521])}\n"
     ]
    },
    {
     "data": {
      "image/png": "[encoded data removed]",
      "text/plain": [
       "<Figure size 640x480 with 1 Axes>"
      ]
     },
     "metadata": {},
     "output_type": "display_data"
    }
   ],
   "source": [
    "texture_scores = cross_validate(pipe,\n",
    "                                text_X, text_y,\n",
    "                                cv=StratifiedKFold(n_splits=5, shuffle=True, random_state=42),\n",
    "                                scoring=['f1_weighted'], n_jobs=-1,\n",
    "                                return_estimator=False,\n",
    "                                return_train_score=True)\n",
    "\n",
    "sns.boxplot(texture_scores['test_f1_weighted'])\n",
    "print('Mean f1 score:', np.mean(texture_scores['test_f1_weighted']))\n",
    "print(texture_scores)"
   ]
  },
  {
   "cell_type": "markdown",
   "metadata": {},
   "source": [
    "### Pure color features"
   ]
  },
  {
   "cell_type": "code",
   "execution_count": 23,
   "metadata": {},
   "outputs": [
    {
     "name": "stdout",
     "output_type": "stream",
     "text": [
      "\n",
      "Analyzing features for raw\n"
     ]
    },
    {
     "data": {
      "text/html": [
       "<div>\n",
       "<style scoped>\n",
       "    .dataframe tbody tr th:only-of-type {\n",
       "        vertical-align: middle;\n",
       "    }\n",
       "\n",
       "    .dataframe tbody tr th {\n",
       "        vertical-align: top;\n",
       "    }\n",
       "\n",
       "    .dataframe thead th {\n",
       "        text-align: right;\n",
       "    }\n",
       "</style>\n",
       "<table border=\"1\" class=\"dataframe\">\n",
       "  <thead>\n",
       "    <tr style=\"text-align: right;\">\n",
       "      <th></th>\n",
       "      <th>bgr_b_mean</th>\n",
       "      <th>bgr_b_std</th>\n",
       "      <th>bgr_b_skew</th>\n",
       "      <th>bgr_b_kurt</th>\n",
       "      <th>bgr_b_max</th>\n",
       "      <th>bgr_b_min</th>\n",
       "      <th>bgr_b_entrp</th>\n",
       "      <th>bgr_b_unq</th>\n",
       "      <th>bgr_g_mean</th>\n",
       "      <th>bgr_g_std</th>\n",
       "      <th>...</th>\n",
       "      <th>YCrCb_C_unq</th>\n",
       "      <th>YCrCb_r_mean</th>\n",
       "      <th>YCrCb_r_std</th>\n",
       "      <th>YCrCb_r_skew</th>\n",
       "      <th>YCrCb_r_kurt</th>\n",
       "      <th>YCrCb_r_max</th>\n",
       "      <th>YCrCb_r_min</th>\n",
       "      <th>YCrCb_r_entrp</th>\n",
       "      <th>YCrCb_r_unq</th>\n",
       "      <th>class</th>\n",
       "    </tr>\n",
       "    <tr>\n",
       "      <th>name</th>\n",
       "      <th></th>\n",
       "      <th></th>\n",
       "      <th></th>\n",
       "      <th></th>\n",
       "      <th></th>\n",
       "      <th></th>\n",
       "      <th></th>\n",
       "      <th></th>\n",
       "      <th></th>\n",
       "      <th></th>\n",
       "      <th></th>\n",
       "      <th></th>\n",
       "      <th></th>\n",
       "      <th></th>\n",
       "      <th></th>\n",
       "      <th></th>\n",
       "      <th></th>\n",
       "      <th></th>\n",
       "      <th></th>\n",
       "      <th></th>\n",
       "      <th></th>\n",
       "    </tr>\n",
       "  </thead>\n",
       "  <tbody>\n",
       "    <tr>\n",
       "      <th>bcc00001</th>\n",
       "      <td>173.945435</td>\n",
       "      <td>10.597287</td>\n",
       "      <td>-2.697558</td>\n",
       "      <td>11.596371</td>\n",
       "      <td>206.0</td>\n",
       "      <td>84.0</td>\n",
       "      <td>12.474669</td>\n",
       "      <td>123</td>\n",
       "      <td>153.459549</td>\n",
       "      <td>16.038431</td>\n",
       "      <td>...</td>\n",
       "      <td>3969</td>\n",
       "      <td>11.583411</td>\n",
       "      <td>6.117791</td>\n",
       "      <td>0.301657</td>\n",
       "      <td>-0.417882</td>\n",
       "      <td>34.298828</td>\n",
       "      <td>-8.675714</td>\n",
       "      <td>-inf</td>\n",
       "      <td>3969</td>\n",
       "      <td>0</td>\n",
       "    </tr>\n",
       "    <tr>\n",
       "      <th>bcc00002</th>\n",
       "      <td>35.787140</td>\n",
       "      <td>53.451935</td>\n",
       "      <td>0.976201</td>\n",
       "      <td>-0.871779</td>\n",
       "      <td>145.0</td>\n",
       "      <td>0.0</td>\n",
       "      <td>11.355463</td>\n",
       "      <td>146</td>\n",
       "      <td>33.906147</td>\n",
       "      <td>51.502922</td>\n",
       "      <td>...</td>\n",
       "      <td>5717</td>\n",
       "      <td>0.823033</td>\n",
       "      <td>3.209846</td>\n",
       "      <td>2.457493</td>\n",
       "      <td>16.213585</td>\n",
       "      <td>28.839308</td>\n",
       "      <td>-14.509736</td>\n",
       "      <td>-inf</td>\n",
       "      <td>5700</td>\n",
       "      <td>0</td>\n",
       "    </tr>\n",
       "    <tr>\n",
       "      <th>bcc00003</th>\n",
       "      <td>162.768723</td>\n",
       "      <td>10.034433</td>\n",
       "      <td>-2.130192</td>\n",
       "      <td>6.014011</td>\n",
       "      <td>183.0</td>\n",
       "      <td>96.0</td>\n",
       "      <td>12.474655</td>\n",
       "      <td>85</td>\n",
       "      <td>103.532433</td>\n",
       "      <td>15.076412</td>\n",
       "      <td>...</td>\n",
       "      <td>3571</td>\n",
       "      <td>32.141727</td>\n",
       "      <td>3.426851</td>\n",
       "      <td>0.593374</td>\n",
       "      <td>0.534732</td>\n",
       "      <td>50.151745</td>\n",
       "      <td>17.845823</td>\n",
       "      <td>12.471048</td>\n",
       "      <td>3263</td>\n",
       "      <td>0</td>\n",
       "    </tr>\n",
       "    <tr>\n",
       "      <th>bcc00004</th>\n",
       "      <td>68.577240</td>\n",
       "      <td>99.770226</td>\n",
       "      <td>0.857715</td>\n",
       "      <td>-1.203371</td>\n",
       "      <td>238.0</td>\n",
       "      <td>0.0</td>\n",
       "      <td>11.392195</td>\n",
       "      <td>239</td>\n",
       "      <td>52.333580</td>\n",
       "      <td>76.564606</td>\n",
       "      <td>...</td>\n",
       "      <td>6836</td>\n",
       "      <td>9.414767</td>\n",
       "      <td>13.684149</td>\n",
       "      <td>1.125763</td>\n",
       "      <td>-0.272595</td>\n",
       "      <td>59.851978</td>\n",
       "      <td>-0.499408</td>\n",
       "      <td>-inf</td>\n",
       "      <td>6834</td>\n",
       "      <td>0</td>\n",
       "    </tr>\n",
       "    <tr>\n",
       "      <th>bcc00005</th>\n",
       "      <td>122.940521</td>\n",
       "      <td>100.063133</td>\n",
       "      <td>-0.249532</td>\n",
       "      <td>-1.865982</td>\n",
       "      <td>230.0</td>\n",
       "      <td>0.0</td>\n",
       "      <td>12.021663</td>\n",
       "      <td>231</td>\n",
       "      <td>118.051697</td>\n",
       "      <td>96.469452</td>\n",
       "      <td>...</td>\n",
       "      <td>3925</td>\n",
       "      <td>3.399568</td>\n",
       "      <td>5.604658</td>\n",
       "      <td>1.715246</td>\n",
       "      <td>2.540194</td>\n",
       "      <td>30.301199</td>\n",
       "      <td>-8.344652</td>\n",
       "      <td>-inf</td>\n",
       "      <td>3925</td>\n",
       "      <td>0</td>\n",
       "    </tr>\n",
       "    <tr>\n",
       "      <th>...</th>\n",
       "      <td>...</td>\n",
       "      <td>...</td>\n",
       "      <td>...</td>\n",
       "      <td>...</td>\n",
       "      <td>...</td>\n",
       "      <td>...</td>\n",
       "      <td>...</td>\n",
       "      <td>...</td>\n",
       "      <td>...</td>\n",
       "      <td>...</td>\n",
       "      <td>...</td>\n",
       "      <td>...</td>\n",
       "      <td>...</td>\n",
       "      <td>...</td>\n",
       "      <td>...</td>\n",
       "      <td>...</td>\n",
       "      <td>...</td>\n",
       "      <td>...</td>\n",
       "      <td>...</td>\n",
       "      <td>...</td>\n",
       "      <td>...</td>\n",
       "    </tr>\n",
       "    <tr>\n",
       "      <th>scc00372</th>\n",
       "      <td>173.701965</td>\n",
       "      <td>46.859707</td>\n",
       "      <td>-2.214540</td>\n",
       "      <td>5.005815</td>\n",
       "      <td>227.0</td>\n",
       "      <td>0.0</td>\n",
       "      <td>12.421574</td>\n",
       "      <td>228</td>\n",
       "      <td>115.816170</td>\n",
       "      <td>36.996120</td>\n",
       "      <td>...</td>\n",
       "      <td>5618</td>\n",
       "      <td>28.467009</td>\n",
       "      <td>8.854438</td>\n",
       "      <td>-0.816060</td>\n",
       "      <td>2.677067</td>\n",
       "      <td>57.135189</td>\n",
       "      <td>-0.499408</td>\n",
       "      <td>-inf</td>\n",
       "      <td>5617</td>\n",
       "      <td>2</td>\n",
       "    </tr>\n",
       "    <tr>\n",
       "      <th>scc00373</th>\n",
       "      <td>105.880669</td>\n",
       "      <td>82.956131</td>\n",
       "      <td>-0.295667</td>\n",
       "      <td>-1.746753</td>\n",
       "      <td>206.0</td>\n",
       "      <td>0.0</td>\n",
       "      <td>12.041123</td>\n",
       "      <td>207</td>\n",
       "      <td>94.817429</td>\n",
       "      <td>73.815422</td>\n",
       "      <td>...</td>\n",
       "      <td>5623</td>\n",
       "      <td>5.140180</td>\n",
       "      <td>6.829775</td>\n",
       "      <td>0.993957</td>\n",
       "      <td>0.190351</td>\n",
       "      <td>32.081745</td>\n",
       "      <td>-12.916433</td>\n",
       "      <td>-inf</td>\n",
       "      <td>5622</td>\n",
       "      <td>2</td>\n",
       "    </tr>\n",
       "    <tr>\n",
       "      <th>scc00374</th>\n",
       "      <td>187.460068</td>\n",
       "      <td>14.803250</td>\n",
       "      <td>-1.434498</td>\n",
       "      <td>2.456302</td>\n",
       "      <td>212.0</td>\n",
       "      <td>90.0</td>\n",
       "      <td>11.116625</td>\n",
       "      <td>113</td>\n",
       "      <td>159.424210</td>\n",
       "      <td>26.224405</td>\n",
       "      <td>...</td>\n",
       "      <td>2896</td>\n",
       "      <td>13.974027</td>\n",
       "      <td>6.754467</td>\n",
       "      <td>1.047934</td>\n",
       "      <td>0.340478</td>\n",
       "      <td>37.478092</td>\n",
       "      <td>3.473410</td>\n",
       "      <td>11.012215</td>\n",
       "      <td>2896</td>\n",
       "      <td>2</td>\n",
       "    </tr>\n",
       "    <tr>\n",
       "      <th>scc00375</th>\n",
       "      <td>63.414040</td>\n",
       "      <td>90.726669</td>\n",
       "      <td>0.841303</td>\n",
       "      <td>-1.221095</td>\n",
       "      <td>225.0</td>\n",
       "      <td>0.0</td>\n",
       "      <td>11.424456</td>\n",
       "      <td>226</td>\n",
       "      <td>53.112865</td>\n",
       "      <td>79.068199</td>\n",
       "      <td>...</td>\n",
       "      <td>5378</td>\n",
       "      <td>5.433171</td>\n",
       "      <td>10.815096</td>\n",
       "      <td>2.573756</td>\n",
       "      <td>6.574150</td>\n",
       "      <td>59.958576</td>\n",
       "      <td>-8.694329</td>\n",
       "      <td>-inf</td>\n",
       "      <td>5358</td>\n",
       "      <td>2</td>\n",
       "    </tr>\n",
       "    <tr>\n",
       "      <th>scc00376</th>\n",
       "      <td>191.969131</td>\n",
       "      <td>23.415836</td>\n",
       "      <td>-2.110992</td>\n",
       "      <td>6.365026</td>\n",
       "      <td>244.0</td>\n",
       "      <td>43.0</td>\n",
       "      <td>11.111546</td>\n",
       "      <td>197</td>\n",
       "      <td>141.516739</td>\n",
       "      <td>34.297195</td>\n",
       "      <td>...</td>\n",
       "      <td>4073</td>\n",
       "      <td>24.681751</td>\n",
       "      <td>6.681771</td>\n",
       "      <td>1.130440</td>\n",
       "      <td>0.762852</td>\n",
       "      <td>52.281967</td>\n",
       "      <td>-0.573856</td>\n",
       "      <td>-inf</td>\n",
       "      <td>3747</td>\n",
       "      <td>2</td>\n",
       "    </tr>\n",
       "  </tbody>\n",
       "</table>\n",
       "<p>5082 rows × 97 columns</p>\n",
       "</div>"
      ],
      "text/plain": [
       "          bgr_b_mean   bgr_b_std  bgr_b_skew  bgr_b_kurt  bgr_b_max  \\\n",
       "name                                                                  \n",
       "bcc00001  173.945435   10.597287   -2.697558   11.596371      206.0   \n",
       "bcc00002   35.787140   53.451935    0.976201   -0.871779      145.0   \n",
       "bcc00003  162.768723   10.034433   -2.130192    6.014011      183.0   \n",
       "bcc00004   68.577240   99.770226    0.857715   -1.203371      238.0   \n",
       "bcc00005  122.940521  100.063133   -0.249532   -1.865982      230.0   \n",
       "...              ...         ...         ...         ...        ...   \n",
       "scc00372  173.701965   46.859707   -2.214540    5.005815      227.0   \n",
       "scc00373  105.880669   82.956131   -0.295667   -1.746753      206.0   \n",
       "scc00374  187.460068   14.803250   -1.434498    2.456302      212.0   \n",
       "scc00375   63.414040   90.726669    0.841303   -1.221095      225.0   \n",
       "scc00376  191.969131   23.415836   -2.110992    6.365026      244.0   \n",
       "\n",
       "          bgr_b_min  bgr_b_entrp  bgr_b_unq  bgr_g_mean  bgr_g_std  ...  \\\n",
       "name                                                                ...   \n",
       "bcc00001       84.0    12.474669        123  153.459549  16.038431  ...   \n",
       "bcc00002        0.0    11.355463        146   33.906147  51.502922  ...   \n",
       "bcc00003       96.0    12.474655         85  103.532433  15.076412  ...   \n",
       "bcc00004        0.0    11.392195        239   52.333580  76.564606  ...   \n",
       "bcc00005        0.0    12.021663        231  118.051697  96.469452  ...   \n",
       "...             ...          ...        ...         ...        ...  ...   \n",
       "scc00372        0.0    12.421574        228  115.816170  36.996120  ...   \n",
       "scc00373        0.0    12.041123        207   94.817429  73.815422  ...   \n",
       "scc00374       90.0    11.116625        113  159.424210  26.224405  ...   \n",
       "scc00375        0.0    11.424456        226   53.112865  79.068199  ...   \n",
       "scc00376       43.0    11.111546        197  141.516739  34.297195  ...   \n",
       "\n",
       "          YCrCb_C_unq  YCrCb_r_mean  YCrCb_r_std  YCrCb_r_skew  YCrCb_r_kurt  \\\n",
       "name                                                                           \n",
       "bcc00001         3969     11.583411     6.117791      0.301657     -0.417882   \n",
       "bcc00002         5717      0.823033     3.209846      2.457493     16.213585   \n",
       "bcc00003         3571     32.141727     3.426851      0.593374      0.534732   \n",
       "bcc00004         6836      9.414767    13.684149      1.125763     -0.272595   \n",
       "bcc00005         3925      3.399568     5.604658      1.715246      2.540194   \n",
       "...               ...           ...          ...           ...           ...   \n",
       "scc00372         5618     28.467009     8.854438     -0.816060      2.677067   \n",
       "scc00373         5623      5.140180     6.829775      0.993957      0.190351   \n",
       "scc00374         2896     13.974027     6.754467      1.047934      0.340478   \n",
       "scc00375         5378      5.433171    10.815096      2.573756      6.574150   \n",
       "scc00376         4073     24.681751     6.681771      1.130440      0.762852   \n",
       "\n",
       "          YCrCb_r_max  YCrCb_r_min  YCrCb_r_entrp  YCrCb_r_unq  class  \n",
       "name                                                                   \n",
       "bcc00001    34.298828    -8.675714           -inf         3969      0  \n",
       "bcc00002    28.839308   -14.509736           -inf         5700      0  \n",
       "bcc00003    50.151745    17.845823      12.471048         3263      0  \n",
       "bcc00004    59.851978    -0.499408           -inf         6834      0  \n",
       "bcc00005    30.301199    -8.344652           -inf         3925      0  \n",
       "...               ...          ...            ...          ...    ...  \n",
       "scc00372    57.135189    -0.499408           -inf         5617      2  \n",
       "scc00373    32.081745   -12.916433           -inf         5622      2  \n",
       "scc00374    37.478092     3.473410      11.012215         2896      2  \n",
       "scc00375    59.958576    -8.694329           -inf         5358      2  \n",
       "scc00376    52.281967    -0.573856           -inf         3747      2  \n",
       "\n",
       "[5082 rows x 97 columns]"
      ]
     },
     "execution_count": 23,
     "metadata": {},
     "output_type": "execute_result"
    }
   ],
   "source": [
    "proc_data = Path().resolve() / 'data/processed'\n",
    "chl = 'chall2'\n",
    "mode = 'train'\n",
    "feat_type = 'raw'\n",
    "\n",
    "\n",
    "test_path = proc_data / f'{chl}/{mode}'\n",
    "print('\\nAnalyzing features for', feat_type)\n",
    "\n",
    "bcc_data = pd.read_feather(test_path / f'bcc_color_features_{feat_type}_full_image.feather').set_index('name')\n",
    "bcc_data['class'] = 0\n",
    "\n",
    "mel_data = pd.read_feather(test_path/ f'mel_color_features_{feat_type}_full_image.feather').set_index('name')\n",
    "mel_data['class'] = 1\n",
    "\n",
    "scc_data = pd.read_feather(test_path/ f'scc_color_features_{feat_type}_full_image.feather').set_index('name')\n",
    "scc_data['class'] = 2\n",
    "\n",
    "data = pd.concat([scc_data, bcc_data, mel_data])\n",
    "\n",
    "current_test_data = data.loc[[str(x.name).split('_')[0] for x in np.unique(test_imgs)]]\n",
    "current_test_data"
   ]
  },
  {
   "cell_type": "code",
   "execution_count": 24,
   "metadata": {},
   "outputs": [],
   "source": [
    "all_X = current_test_data.drop(columns=['class']).values\n",
    "all_y = current_test_data['class'].values\n",
    "\n",
    "\n",
    "all_X[np.isnan(all_X)] = 0\n",
    "all_X[np.isinf(all_X)] = 0"
   ]
  },
  {
   "cell_type": "code",
   "execution_count": 25,
   "metadata": {},
   "outputs": [
    {
     "name": "stdout",
     "output_type": "stream",
     "text": [
      "Mean f1 score: 0.7721050084485447\n",
      "{'fit_time': array([0.28086305, 0.52313876, 0.57607579, 0.58146191, 0.33014584]), 'score_time': array([0.01058531, 0.03139186, 0.03384972, 0.03307915, 0.01400208]), 'test_f1_weighted': array([0.76631605, 0.76348652, 0.75732836, 0.79408834, 0.77930576]), 'train_f1_weighted': array([0.80255765, 0.80580143, 0.80931873, 0.80342571, 0.80670456])}\n"
     ]
    },
    {
     "data": {
      "image/png": "[encoded data removed]",
      "text/plain": [
       "<Figure size 640x480 with 1 Axes>"
      ]
     },
     "metadata": {},
     "output_type": "display_data"
    }
   ],
   "source": [
    "color_scores = cross_validate(pipe,\n",
    "                                all_X, all_y,\n",
    "                                cv=StratifiedKFold(n_splits=5, shuffle=True, random_state=42),\n",
    "                                scoring=['f1_weighted'], n_jobs=-1,\n",
    "                                return_estimator=False,\n",
    "                                return_train_score=True)\n",
    "\n",
    "sns.boxplot(color_scores['test_f1_weighted'])\n",
    "print('Mean f1 score:', np.mean(color_scores['test_f1_weighted']))\n",
    "print(color_scores)"
   ]
  },
  {
   "cell_type": "markdown",
   "metadata": {},
   "source": [
    "### Probability fusion"
   ]
  },
  {
   "cell_type": "code",
   "execution_count": 26,
   "metadata": {},
   "outputs": [],
   "source": [
    "# res = {'f1_wieghted':[], 'accuracy':[], 'confusion_matrix':[]}\n",
    "\n",
    "# for train_idxs, test_indexes in StratifiedShuffleSplit(n_splits=5, random_state=42).split(all_X, all_y):\n",
    "\n",
    "#     batch_res = {}\n",
    "#     # test_indexes = np.random.choice((current_test_data.index.values), size=20, replace=False)\n",
    "\n",
    "#     train_glcm = glcm_f.iloc[train_idxs].sample(frac=1)\n",
    "#     test_glcm = glcm_f.iloc[test_indexes]\n",
    "\n",
    "#     train_color = current_test_data.iloc[train_idxs].sample(frac=1)\n",
    "#     test_color = current_test_data.iloc[test_indexes]\n",
    "\n",
    "#     X_train_color = train_color.drop(columns=[ 'class']).values\n",
    "#     y_train_color = train_color['class'].values\n",
    "\n",
    "#     X_test_color = test_color.drop(columns=['class']).values\n",
    "#     y_test_color = test_color['class'].values\n",
    "\n",
    "\n",
    "#     X_train_color[np.isnan(X_train_color)] = 0\n",
    "#     X_train_color[np.isinf(X_train_color)] = 0\n",
    "#     X_test_color[np.isnan(X_test_color)] = 0\n",
    "#     X_test_color[np.isinf(X_test_color)] = 0\n",
    "\n",
    "#     scaler_color = StandardScaler()\n",
    "#     X_train_color = scaler_color.fit_transform(X_train_color)\n",
    "#     X_test_color = scaler_color.transform(X_test_color)\n",
    "\n",
    "#     svc_color = SVC(kernel='rbf', probability=True)\n",
    "#     svc_color.fit(X_train_color, y_train_color)\n",
    "\n",
    "#     y_test_color_pred = svc_color.predict_proba(X_test_color)\n",
    "#     y_train_color_pred = svc_color.predict_proba(X_train_color)\n",
    "    \n",
    "    \n",
    "#     svc_glcm = SVC(kernel='rbf', probability=True)\n",
    "#     svc_glcm.fit(X_train, y_train_color)\n",
    "    \n",
    "#     y_train_glcm_pred = svc_glcm.predict_proba(X_train_color)\n",
    "#     y_test_glcm_pred = svc_glcm.predict_proba(X_test_color)\n",
    "    \n",
    "#     train = np.hstack([y_train_color_pred, y_train_glcm_pred])\n",
    "#     test = np.hstack([y_test_color_pred, y_test_glcm_pred])\n",
    "\n",
    "#     svc_fused = SVC(kernel='rbf', probability=True)\n",
    "#     svc_fused.fit(train, y_train_color)\n",
    "\n",
    "#     y_test_fused = svc_fused.predict(test)\n",
    "    \n",
    "#     res['f1_wieghted'] = f1_score(y_test_color, y_test_fused, average='weighted')\n",
    "#     res['accuracy'] = accuracy_score(y_test_color, y_test_fused)\n",
    "#     res['confusion_matrix'] = confusion_matrix(y_test_color, y_test_fused)"
   ]
  },
  {
   "cell_type": "markdown",
   "metadata": {},
   "source": [
    "### Feature fusions"
   ]
  },
  {
   "cell_type": "code",
   "execution_count": 27,
   "metadata": {},
   "outputs": [
    {
     "data": {
      "text/html": [
       "<div>\n",
       "<style scoped>\n",
       "    .dataframe tbody tr th:only-of-type {\n",
       "        vertical-align: middle;\n",
       "    }\n",
       "\n",
       "    .dataframe tbody tr th {\n",
       "        vertical-align: top;\n",
       "    }\n",
       "\n",
       "    .dataframe thead th {\n",
       "        text-align: right;\n",
       "    }\n",
       "</style>\n",
       "<table border=\"1\" class=\"dataframe\">\n",
       "  <thead>\n",
       "    <tr style=\"text-align: right;\">\n",
       "      <th></th>\n",
       "      <th>contrast_0</th>\n",
       "      <th>contrast_1</th>\n",
       "      <th>contrast_2</th>\n",
       "      <th>contrast_3</th>\n",
       "      <th>contrast_4</th>\n",
       "      <th>contrast_5</th>\n",
       "      <th>contrast_6</th>\n",
       "      <th>contrast_7</th>\n",
       "      <th>dissimilarity_0</th>\n",
       "      <th>dissimilarity_1</th>\n",
       "      <th>...</th>\n",
       "      <th>YCrCb_C_entrp</th>\n",
       "      <th>YCrCb_C_unq</th>\n",
       "      <th>YCrCb_r_mean</th>\n",
       "      <th>YCrCb_r_std</th>\n",
       "      <th>YCrCb_r_skew</th>\n",
       "      <th>YCrCb_r_kurt</th>\n",
       "      <th>YCrCb_r_max</th>\n",
       "      <th>YCrCb_r_min</th>\n",
       "      <th>YCrCb_r_entrp</th>\n",
       "      <th>YCrCb_r_unq</th>\n",
       "    </tr>\n",
       "    <tr>\n",
       "      <th>name</th>\n",
       "      <th></th>\n",
       "      <th></th>\n",
       "      <th></th>\n",
       "      <th></th>\n",
       "      <th></th>\n",
       "      <th></th>\n",
       "      <th></th>\n",
       "      <th></th>\n",
       "      <th></th>\n",
       "      <th></th>\n",
       "      <th></th>\n",
       "      <th></th>\n",
       "      <th></th>\n",
       "      <th></th>\n",
       "      <th></th>\n",
       "      <th></th>\n",
       "      <th></th>\n",
       "      <th></th>\n",
       "      <th></th>\n",
       "      <th></th>\n",
       "      <th></th>\n",
       "    </tr>\n",
       "  </thead>\n",
       "  <tbody>\n",
       "    <tr>\n",
       "      <th>bcc01191</th>\n",
       "      <td>12.950881</td>\n",
       "      <td>7.712145</td>\n",
       "      <td>12.407606</td>\n",
       "      <td>7.576227</td>\n",
       "      <td>52.207463</td>\n",
       "      <td>62.736933</td>\n",
       "      <td>51.706492</td>\n",
       "      <td>65.52938</td>\n",
       "      <td>2.450712</td>\n",
       "      <td>1.844321</td>\n",
       "      <td>...</td>\n",
       "      <td>-inf</td>\n",
       "      <td>3825</td>\n",
       "      <td>5.521041</td>\n",
       "      <td>6.281279</td>\n",
       "      <td>0.84437</td>\n",
       "      <td>0.188058</td>\n",
       "      <td>37.946777</td>\n",
       "      <td>-8.344652</td>\n",
       "      <td>-inf</td>\n",
       "      <td>3825</td>\n",
       "    </tr>\n",
       "  </tbody>\n",
       "</table>\n",
       "<p>1 rows × 144 columns</p>\n",
       "</div>"
      ],
      "text/plain": [
       "          contrast_0  contrast_1  contrast_2  contrast_3  contrast_4  \\\n",
       "name                                                                   \n",
       "bcc01191   12.950881    7.712145   12.407606    7.576227   52.207463   \n",
       "\n",
       "          contrast_5  contrast_6  contrast_7  dissimilarity_0  \\\n",
       "name                                                            \n",
       "bcc01191   62.736933   51.706492    65.52938         2.450712   \n",
       "\n",
       "          dissimilarity_1  ...  YCrCb_C_entrp  YCrCb_C_unq  YCrCb_r_mean  \\\n",
       "name                       ...                                             \n",
       "bcc01191         1.844321  ...           -inf         3825      5.521041   \n",
       "\n",
       "          YCrCb_r_std  YCrCb_r_skew  YCrCb_r_kurt  YCrCb_r_max  YCrCb_r_min  \\\n",
       "name                                                                          \n",
       "bcc01191     6.281279       0.84437      0.188058    37.946777    -8.344652   \n",
       "\n",
       "          YCrCb_r_entrp  YCrCb_r_unq  \n",
       "name                                  \n",
       "bcc01191           -inf         3825  \n",
       "\n",
       "[1 rows x 144 columns]"
      ]
     },
     "execution_count": 27,
     "metadata": {},
     "output_type": "execute_result"
    }
   ],
   "source": [
    "merged_data = glcm_f.join(current_test_data.drop(columns=['class']), how='inner')\n",
    "\n",
    "all_X = merged_data.drop(columns=['class', 'image_0']).values\n",
    "all_y = merged_data['class'].values\n",
    "\n",
    "merged_data.drop(columns=['class', 'image_0']).sample()"
   ]
  },
  {
   "cell_type": "code",
   "execution_count": 28,
   "metadata": {},
   "outputs": [
    {
     "name": "stdout",
     "output_type": "stream",
     "text": [
      "Mean f1 score: 0.7712372551526357\n",
      "{'fit_time': array([0.80330849, 0.67357135, 0.21521568, 0.69166875, 0.74010324]), 'score_time': array([0.05298805, 0.02293444, 0.00888586, 0.03230834, 0.05815196]), 'test_f1_weighted': array([0.77044127, 0.75894097, 0.75909016, 0.78401212, 0.78370175]), 'train_f1_weighted': array([0.80820386, 0.80509954, 0.81362342, 0.80476557, 0.81084161])}\n"
     ]
    },
    {
     "data": {
      "image/png": "[encoded data removed]",
      "text/plain": [
       "<Figure size 640x480 with 1 Axes>"
      ]
     },
     "metadata": {},
     "output_type": "display_data"
    }
   ],
   "source": [
    "all_X[np.isnan(all_X)] = 0\n",
    "all_X[np.isinf(all_X)] = 0\n",
    "\n",
    "color_scores = cross_validate(pipe,\n",
    "                                all_X, all_y,\n",
    "                                cv=StratifiedKFold(n_splits=5, shuffle=True, random_state=42),\n",
    "                                scoring=['f1_weighted'], n_jobs=-1,\n",
    "                                return_estimator=False,\n",
    "                                return_train_score=True)\n",
    "\n",
    "sns.boxplot(color_scores['test_f1_weighted'])\n",
    "print('Mean f1 score:', np.mean(color_scores['test_f1_weighted']))\n",
    "print(color_scores)"
   ]
  },
  {
   "cell_type": "markdown",
   "metadata": {},
   "source": []
  }
 ],
 "metadata": {
  "kernelspec": {
   "display_name": "Python 3.10.6 ('cad')",
   "language": "python",
   "name": "python3"
  },
  "language_info": {
   "codemirror_mode": {
    "name": "ipython",
    "version": 3
   },
   "file_extension": ".py",
   "mimetype": "text/x-python",
   "name": "python",
   "nbconvert_exporter": "python",
   "pygments_lexer": "ipython3",
   "version": "3.10.6"
  },
  "orig_nbformat": 4,
  "vscode": {
   "interpreter": {
    "hash": "c7c1e7ac575f79c2164305233ce3fe90eb4721145d6f5cc5b66dd624d52a700d"
   }
  }
 },
 "nbformat": 4,
 "nbformat_minor": 2
}
