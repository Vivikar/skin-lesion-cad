{
 "cells": [
  {
   "cell_type": "code",
   "execution_count": 1,
   "metadata": {},
   "outputs": [
    {
     "name": "stderr",
     "output_type": "stream",
     "text": [
      "Intel(R) Extension for Scikit-learn* enabled (https://github.com/intel/scikit-learn-intelex)\n"
     ]
    }
   ],
   "source": [
    "import os\n",
    "os.chdir(\"..\")"
   ],
   "outputs": [],
   "metadata": {}
  },
  {
   "cell_type": "code",
   "execution_count": 2,
   "source": [
    "from skin_lesion_cad.data.BOVW import DenseDescriptor, BagofWords\n",
    "import random\n",
    "from tqdm import tqdm\n",
    "from pathlib import Path\n",
    "import numpy as np\n",
    "import cv2\n",
    "from joblib import Parallel, delayed, parallel_backend\n",
    "from sklearn.pipeline import make_pipeline\n",
    "from sklearn.svm import SVC\n",
    "from sklearn.model_selection import train_test_split\n",
    "from sklearn.metrics import classification_report\n",
    "\n",
    "import matplotlib.pyplot as plt"
   ]
  },
  {
   "cell_type": "code",
   "execution_count": 3,
   "source": [
    "from skin_lesion_cad.data.BOVW import DenseDescriptor, ColorDescriptor, ColorFeaturesExtractorDescriptor, BagofWords\n",
    "from skin_lesion_cad.features.colour import ColorFeaturesExtractorDescriptor\n"
   ]
  },
  {
   "cell_type": "markdown",
   "metadata": {},
   "source": [
    "1. Test which K-means is faster (OpenCV, sklearn-intelx, sklearn, minibatch-sklearn)\n",
    "2. Add Color Features Descriptor and extract features for the binary classification problem\n",
    "3. Check which dense or dense+brick keypoints are better for the binary classification problem and 3class\n",
    "4. Check if tf-idf is better than the simple histogram"
   ]
  },
  {
   "cell_type": "code",
   "execution_count": 5,
   "metadata": {},
   "outputs": [],
   "source": [
    "SAMPLE_SIZE = 50\n",
    "\n",
    "train_path = Path('data/raw/chall1/train')\n",
    "training_names = train_path.rglob(\"*.jpg\")\n",
    "\n",
    "# Get path to all images and save them in a list\n",
    "image_paths = random.sample([i for i in training_names], SAMPLE_SIZE)\n",
    "\n",
    "\n",
    "# Currently only sampling few images for quick testing\n",
    "image_paths = [i for i in training_names]\n",
    "image_classes = [0 if (\"nevus\" in str(i)) else 1 for i in image_paths]\n",
    "mask_paths = [Path(str(image_path.parent).replace(\"raw\", \"processed\")) /\n",
    "              Path(image_path.stem+\"_mask_1_0.png\") for image_path in image_paths]\n",
    "\n",
    "images = [() for i in image_paths]\n",
    "# BRISK is a good replacement to SIFT. ORB also works but didn;t work well for this example\n",
    "\n",
    "brisk = cv2.BRISK_create(thresh=30, octaves=0)\n",
    "dense_brisk = DenseDescriptor(descriptor=brisk, minKeypoints=20)\n"
   ],
   "outputs": [],
   "metadata": {}
  },
  {
   "cell_type": "code",
   "execution_count": 4,
   "source": [
    "def _load_and_extract_des(image_path, mask_path, descriptor):\n",
    "    im = cv2.imread(str(image_path))\n",
    "    mask = cv2.imread(str(mask_path))\n",
    "    kpts, des = descriptor.detectAndCompute(im, mask)\n",
    "    return des\n",
    "\n",
    "with parallel_backend('threading', n_jobs=-1):\n",
    "    des_list = Parallel(verbose=10)(\n",
    "        delayed(_load_and_extract_des)(filename, mask_paths[i], dense_brisk) for i, filename in enumerate(image_paths)\n",
    "    )\n"
   ],
   "outputs": [
    {
     "output_type": "stream",
     "name": "stderr",
     "text": [
      "[Parallel(n_jobs=-1)]: Using backend ThreadingBackend with 8 concurrent workers.\n",
      "[Parallel(n_jobs=-1)]: Done   2 tasks      | elapsed:    0.1s\n",
      "[Parallel(n_jobs=-1)]: Done   9 tasks      | elapsed:    3.5s\n",
      "[Parallel(n_jobs=-1)]: Done  16 tasks      | elapsed:    5.4s\n",
      "[Parallel(n_jobs=-1)]: Done  25 tasks      | elapsed:    8.2s\n",
      "[Parallel(n_jobs=-1)]: Done  34 tasks      | elapsed:   10.8s\n",
      "[Parallel(n_jobs=-1)]: Done  45 tasks      | elapsed:  1.0min\n",
      "[Parallel(n_jobs=-1)]: Done  56 tasks      | elapsed:  1.9min\n",
      "[Parallel(n_jobs=-1)]: Done  69 tasks      | elapsed:  2.6min\n",
      "[Parallel(n_jobs=-1)]: Done  82 tasks      | elapsed:  3.1min\n",
      "[Parallel(n_jobs=-1)]: Done  97 tasks      | elapsed:  4.2min\n",
      "[Parallel(n_jobs=-1)]: Done 112 tasks      | elapsed:  5.1min\n"
     ]
    }
   ],
   "metadata": {}
  },
  {
   "cell_type": "code",
   "execution_count": 6,
   "metadata": {},
   "outputs": [],
   "source": [
    "def _load_and_extract_des(image_path):\n",
    "    img_class = 0 if (\"nevus\" in str(image_path)) else 1\n",
    "    im = cv2.imread(str(image_path))\n",
    "    mask = cv2.imread(str(image_path).replace('inpaint', 'mask'), cv2.IMREAD_GRAYSCALE)\n",
    "    kpts, des = dense_brisk.detectAndCompute(im, mask)\n",
    "    return des, img_class"
   ]
  },
  {
   "cell_type": "code",
   "execution_count": 7,
   "metadata": {},
   "outputs": [
    {
     "name": "stderr",
     "output_type": "stream",
     "text": [
      "100%|██████████| 50/50 [00:03<00:00, 13.42it/s]\n"
     ]
    }
   ],
   "source": [
    "des_list = []\n",
    "img_labels = []\n",
    "with mp.Pool(8) as pool:\n",
    "    for (res, res_label) in tqdm(pool.imap(_load_and_extract_des, image_paths), total=len(image_paths)):\n",
    "        des_list.append(res)\n",
    "        img_labels.append(res_label)\n",
    "        "
   ]
  },
  {
   "cell_type": "code",
   "execution_count": 8,
   "metadata": {},
   "outputs": [
    {
     "data": {
      "text/plain": [
       "(array([43.,  0.,  0.,  2.,  1.,  1.,  0.,  1.,  0.,  2.]),\n",
       " array([ 85. , 126.5, 168. , 209.5, 251. , 292.5, 334. , 375.5, 417. ,\n",
       "        458.5, 500. ]),\n",
       " <BarContainer object of 10 artists>)"
      ]
     },
     "execution_count": 8,
     "metadata": {},
     "output_type": "execute_result"
    },
    {
     "data": {
      "image/png": "[encoded data removed]",
      "text/plain": [
       "<Figure size 432x288 with 1 Axes>"
      ]
     },
     "metadata": {
      "needs_background": "light"
     },
     "output_type": "display_data"
    }
   ],
   "source": [
    "plt.hist([len(x) for x in des_list])"
   ]
  },
  {
   "cell_type": "code",
   "execution_count": 9,
   "metadata": {},
   "outputs": [],
   "source": [
    "# pd.to_pickle((des_list, img_labels), 'data/processed/descriptors.pkl')\n",
    "# des_list, img_labels = pd.read_pickle('data/processed/descriptors.pkl')"
   ]
  },
  {
   "cell_type": "code",
   "execution_count": 10,
   "metadata": {},
   "outputs": [
    {
     "data": {
      "text/plain": [
       "(array([0, 1]), array([27, 23]))"
      ]
     },
     "execution_count": 10,
     "metadata": {},
     "output_type": "execute_result"
    }
   ],
   "source": [
    "np.unique(img_labels, return_counts=True)"
   ]
  },
  {
   "cell_type": "code",
   "execution_count": 11,
   "metadata": {},
   "outputs": [],
   "source": [
    "bovw = BagofWords(n_words=10, n_jobs=-1, random_state=None)\n",
    "classifier = SVC(max_iter=10000)\n"
   ]
  },
  {
   "cell_type": "code",
   "execution_count": 12,
   "metadata": {},
   "outputs": [],
   "source": [
    "X_train, X_test, y_train, y_test = train_test_split(des_list, img_labels, test_size=0.33, random_state=42)"
   ]
  },
  {
   "cell_type": "code",
   "execution_count": 13,
   "metadata": {},
   "outputs": [],
   "source": [
    "# X_train[np.isnan(X_train)] = 0\n",
    "# X_train[np.isinf(X_train)] = 0\n",
    "\n",
    "# X_test[np.isnan(X_test)] = 0\n",
    "# X_test[np.isinf(X_test)] = 0\n",
    "\n",
    "\n",
    "# scaler = StandardScaler()\n",
    "# X_train = scaler.fit_transform(X_train)\n",
    "# X_test = scaler.transform(X_test)"
   ]
  },
  {
   "cell_type": "code",
   "execution_count": 14,
   "metadata": {},
   "outputs": [
    {
     "name": "stderr",
     "output_type": "stream",
     "text": [
      "Intel(R) Extension for Scikit-learn* enabled (https://github.com/intel/scikit-learn-intelex)\n",
      "Intel(R) Extension for Scikit-learn* enabled (https://github.com/intel/scikit-learn-intelex)\n",
      "Intel(R) Extension for Scikit-learn* enabled (https://github.com/intel/scikit-learn-intelex)\n",
      "Intel(R) Extension for Scikit-learn* enabled (https://github.com/intel/scikit-learn-intelex)\n",
      "Intel(R) Extension for Scikit-learn* enabled (https://github.com/intel/scikit-learn-intelex)\n",
      "Intel(R) Extension for Scikit-learn* enabled (https://github.com/intel/scikit-learn-intelex)\n",
      "Intel(R) Extension for Scikit-learn* enabled (https://github.com/intel/scikit-learn-intelex)\n",
      "Intel(R) Extension for Scikit-learn* enabled (https://github.com/intel/scikit-learn-intelex)\n"
     ]
    }
   ],
   "source": [
    "X_train_preprocessed = bovw.fit_transform(X_train,y_train)\n",
    "X_test_preprocessed = bovw.transform(X_test)"
   ]
  },
  {
   "cell_type": "code",
   "execution_count": 15,
   "metadata": {},
   "outputs": [],
   "source": [
    "classifier.fit(X_train_preprocessed,y_train)\n",
    "y_pred = classifier.predict(X_test_preprocessed)"
   ]
  },
  {
   "cell_type": "code",
   "execution_count": null,
   "source": [
    "print(classification_report(y_test, y_pred))\n"
   ],
   "outputs": [],
   "metadata": {}
  }
 ],
 "metadata": {
  "kernelspec": {
   "display_name": "Python 3.8.13 ('cad_skin')",
   "language": "python",
   "name": "python3"
  },
  "language_info": {
   "codemirror_mode": {
    "name": "ipython",
    "version": 3
   },
   "file_extension": ".py",
   "mimetype": "text/x-python",
   "name": "python",
   "nbconvert_exporter": "python",
   "pygments_lexer": "ipython3",
   "version": "3.8.13"
  },
  "orig_nbformat": 4,
  "vscode": {
   "interpreter": {
    "hash": "735b9718484a57dc78095ffa6e1f74efe296eb4c99769f22b50283e4bb984135"
   }
  }
 },
 "nbformat": 4,
 "nbformat_minor": 2
}
