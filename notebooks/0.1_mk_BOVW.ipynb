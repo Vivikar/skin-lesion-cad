{
 "cells": [
  {
   "cell_type": "code",
   "execution_count": 1,
   "source": [
    "import os\n",
    "os.chdir(\"..\")"
   ],
   "outputs": [],
   "metadata": {}
  },
  {
   "cell_type": "code",
   "execution_count": 2,
   "source": [
    "from skin_lesion_cad.data.BOVW import DenseDescriptor, BagofWords\n",
    "import random\n",
    "from tqdm import tqdm\n",
    "from pathlib import Path\n",
    "import numpy as np\n",
    "import cv2\n",
    "from joblib import Parallel, delayed, parallel_backend\n",
    "from sklearn.pipeline import make_pipeline\n",
    "from sklearn.svm import SVC\n",
    "from sklearn.model_selection import train_test_split\n",
    "from sklearn.metrics import classification_report\n",
    "\n",
    "import matplotlib.pyplot as plt"
   ],
   "outputs": [],
   "metadata": {}
  },
  {
   "cell_type": "code",
   "execution_count": 5,
   "source": [
    "from skin_lesion_cad.data.BOVW import DenseDescriptor, ColorDescriptor, BagofWords\n",
    "from skin_lesion_cad.features.colour import ColorFeaturesExtractor\n"
   ],
   "outputs": [],
   "metadata": {}
  },
  {
   "cell_type": "markdown",
   "source": [
    "1. Test which K-means is faster (OpenCV, sklearn-intelx, sklearn, minibatch-sklearn)\n",
    "2. Add Color Features Descriptor and extract features for the binary classification problem\n",
    "3. Check which dense or dense+brick keypoints are better for the binary classification problem and 3class\n",
    "4. Check if tf-idf is better than the simple histogram"
   ],
   "metadata": {}
  },
  {
   "cell_type": "code",
   "execution_count": 31,
   "source": [
    "training_names = Path('data/processed/chall1/train').rglob(\"*_inpaint_0*\")\n"
   ],
   "outputs": [],
   "metadata": {}
  },
  {
   "cell_type": "code",
   "execution_count": 32,
   "source": [
    "SAMPLE_SIZE = 50\n",
    "\n",
    "train_path = Path('data/raw/chall1/train')\n",
    "training_names = train_path.rglob(\"*.jpg\")\n",
    "\n",
    "# Get path to all images and save them in a list\n",
    "image_paths = random.sample([i for i in training_names], SAMPLE_SIZE)\n",
    "\n",
    "\n",
    "# Currently only sampling few images for quick testing\n",
    "image_paths = [i for i in training_names]\n",
    "image_classes = [0 if (\"nevus\" in str(i)) else 1 for i in image_paths]\n",
    "mask_paths = [Path(str(image_path.parent).replace(\"raw\", \"processed\")) /\n",
    "              Path(image_path.stem+\"_mask_1_0.png\") for image_path in image_paths]\n",
    "\n",
    "images = [() for i in image_paths]\n",
    "# BRISK is a good replacement to SIFT. ORB also works but didn;t work well for this example\n",
    "\n",
    "brisk = cv2.BRISK_create(thresh=30, octaves=0)\n",
    "dense_brisk = DenseDescriptor(descriptor=brisk, minKeypoints=20)\n"
   ],
   "outputs": [],
   "metadata": {}
  },
  {
   "cell_type": "code",
   "execution_count": 33,
   "source": [
    "def _load_and_extract_des(image_path, mask_path, descriptor):\n",
    "    im = cv2.imread(str(image_path))\n",
    "    mask = cv2.imread(str(mask_path))\n",
    "    kpts, des = descriptor.detectAndCompute(im, mask)\n",
    "    return des\n",
    "\n",
    "with parallel_backend('threading', n_jobs=-1):\n",
    "    des_list = Parallel(verbose=10)(\n",
    "        delayed(_load_and_extract_des)(filename, mask_paths[i], dense_brisk) for i, filename in enumerate(image_paths)\n",
    "    )\n"
   ],
   "outputs": [
    {
     "output_type": "stream",
     "name": "stderr",
     "text": [
      "[Parallel(n_jobs=-1)]: Using backend ThreadingBackend with 8 concurrent workers.\n",
      "[Parallel(n_jobs=-1)]: Done   2 tasks      | elapsed:    0.0s\n",
      "[Parallel(n_jobs=-1)]: Done   9 tasks      | elapsed:    0.1s\n",
      "[Parallel(n_jobs=-1)]: Done  16 tasks      | elapsed:    0.1s\n",
      "[Parallel(n_jobs=-1)]: Done  25 tasks      | elapsed:    0.3s\n",
      "[Parallel(n_jobs=-1)]: Done  34 tasks      | elapsed:    0.3s\n",
      "[Parallel(n_jobs=-1)]: Done  45 tasks      | elapsed:    0.4s\n",
      "[Parallel(n_jobs=-1)]: Done  56 tasks      | elapsed:    0.6s\n",
      "[Parallel(n_jobs=-1)]: Done  69 tasks      | elapsed:    0.7s\n",
      "[Parallel(n_jobs=-1)]: Done  82 tasks      | elapsed:    0.8s\n",
      "[Parallel(n_jobs=-1)]: Done  97 tasks      | elapsed:    0.9s\n",
      "[Parallel(n_jobs=-1)]: Done 112 tasks      | elapsed:    1.0s\n",
      "[Parallel(n_jobs=-1)]: Done 129 tasks      | elapsed:    1.1s\n",
      "[Parallel(n_jobs=-1)]: Done 146 tasks      | elapsed:    1.4s\n",
      "[Parallel(n_jobs=-1)]: Done 165 tasks      | elapsed:    1.5s\n",
      "[Parallel(n_jobs=-1)]: Done 184 tasks      | elapsed:    1.7s\n",
      "[Parallel(n_jobs=-1)]: Done 205 tasks      | elapsed:    1.9s\n",
      "[Parallel(n_jobs=-1)]: Done 226 tasks      | elapsed:    2.1s\n",
      "[Parallel(n_jobs=-1)]: Done 249 tasks      | elapsed:    2.3s\n",
      "[Parallel(n_jobs=-1)]: Done 272 tasks      | elapsed:    2.5s\n",
      "[Parallel(n_jobs=-1)]: Done 297 tasks      | elapsed:    2.7s\n",
      "[Parallel(n_jobs=-1)]: Done 322 tasks      | elapsed:    3.0s\n",
      "[Parallel(n_jobs=-1)]: Done 349 tasks      | elapsed:    3.3s\n",
      "[Parallel(n_jobs=-1)]: Done 376 tasks      | elapsed:    3.6s\n",
      "[Parallel(n_jobs=-1)]: Done 405 tasks      | elapsed:    4.0s\n",
      "[Parallel(n_jobs=-1)]: Done 434 tasks      | elapsed:    4.2s\n",
      "[Parallel(n_jobs=-1)]: Done 465 tasks      | elapsed:    4.5s\n",
      "[Parallel(n_jobs=-1)]: Done 496 tasks      | elapsed:    4.9s\n",
      "[Parallel(n_jobs=-1)]: Done 529 tasks      | elapsed:    5.2s\n",
      "[Parallel(n_jobs=-1)]: Done 562 tasks      | elapsed:    5.5s\n",
      "[Parallel(n_jobs=-1)]: Done 597 tasks      | elapsed:    5.8s\n",
      "[Parallel(n_jobs=-1)]: Done 632 tasks      | elapsed:    6.1s\n",
      "[Parallel(n_jobs=-1)]: Done 669 tasks      | elapsed:    6.6s\n",
      "[Parallel(n_jobs=-1)]: Done 706 tasks      | elapsed:    6.9s\n",
      "[Parallel(n_jobs=-1)]: Done 745 tasks      | elapsed:    7.3s\n",
      "[Parallel(n_jobs=-1)]: Done 784 tasks      | elapsed:    7.7s\n",
      "[Parallel(n_jobs=-1)]: Done 825 tasks      | elapsed:    8.1s\n",
      "[Parallel(n_jobs=-1)]: Done 866 tasks      | elapsed:    8.5s\n",
      "[Parallel(n_jobs=-1)]: Done 909 tasks      | elapsed:    9.0s\n",
      "[Parallel(n_jobs=-1)]: Done 952 tasks      | elapsed:    9.4s\n",
      "[Parallel(n_jobs=-1)]: Done 997 tasks      | elapsed:    9.9s\n",
      "[Parallel(n_jobs=-1)]: Done 1042 tasks      | elapsed:   10.4s\n",
      "[Parallel(n_jobs=-1)]: Done 1089 tasks      | elapsed:   10.8s\n",
      "[Parallel(n_jobs=-1)]: Done 1136 tasks      | elapsed:   11.4s\n",
      "[Parallel(n_jobs=-1)]: Done 1185 tasks      | elapsed:   11.7s\n",
      "[Parallel(n_jobs=-1)]: Done 1234 tasks      | elapsed:   12.2s\n",
      "[Parallel(n_jobs=-1)]: Done 1285 tasks      | elapsed:   12.6s\n",
      "[Parallel(n_jobs=-1)]: Done 1336 tasks      | elapsed:   13.0s\n",
      "[Parallel(n_jobs=-1)]: Done 1389 tasks      | elapsed:   13.6s\n",
      "[Parallel(n_jobs=-1)]: Done 1442 tasks      | elapsed:   14.1s\n",
      "[Parallel(n_jobs=-1)]: Done 1497 tasks      | elapsed:   14.6s\n",
      "[Parallel(n_jobs=-1)]: Done 1552 tasks      | elapsed:   15.2s\n",
      "[Parallel(n_jobs=-1)]: Done 1609 tasks      | elapsed:   15.8s\n",
      "[Parallel(n_jobs=-1)]: Done 1666 tasks      | elapsed:   16.3s\n",
      "[Parallel(n_jobs=-1)]: Done 1725 tasks      | elapsed:   16.9s\n",
      "[Parallel(n_jobs=-1)]: Done 1784 tasks      | elapsed:   17.4s\n",
      "[Parallel(n_jobs=-1)]: Done 1845 tasks      | elapsed:   18.0s\n",
      "[Parallel(n_jobs=-1)]: Done 1906 tasks      | elapsed:   18.5s\n",
      "[Parallel(n_jobs=-1)]: Done 1969 tasks      | elapsed:   19.3s\n",
      "[Parallel(n_jobs=-1)]: Done 2032 tasks      | elapsed:   19.9s\n",
      "[Parallel(n_jobs=-1)]: Done 2097 tasks      | elapsed:   20.5s\n",
      "[Parallel(n_jobs=-1)]: Done 2162 tasks      | elapsed:   21.1s\n",
      "[Parallel(n_jobs=-1)]: Done 2229 tasks      | elapsed:   21.9s\n",
      "[Parallel(n_jobs=-1)]: Done 2296 tasks      | elapsed:   22.5s\n",
      "[Parallel(n_jobs=-1)]: Done 2365 tasks      | elapsed:   23.1s\n",
      "[Parallel(n_jobs=-1)]: Done 2434 tasks      | elapsed:   23.9s\n",
      "[Parallel(n_jobs=-1)]: Done 2505 tasks      | elapsed:   24.6s\n",
      "[Parallel(n_jobs=-1)]: Done 2576 tasks      | elapsed:   25.2s\n",
      "[Parallel(n_jobs=-1)]: Done 2649 tasks      | elapsed:   26.0s\n",
      "[Parallel(n_jobs=-1)]: Done 2722 tasks      | elapsed:   26.7s\n",
      "[Parallel(n_jobs=-1)]: Done 2797 tasks      | elapsed:   27.5s\n",
      "[Parallel(n_jobs=-1)]: Done 2872 tasks      | elapsed:   28.0s\n",
      "[Parallel(n_jobs=-1)]: Done 2949 tasks      | elapsed:   28.8s\n",
      "[Parallel(n_jobs=-1)]: Done 3026 tasks      | elapsed:   29.7s\n",
      "[Parallel(n_jobs=-1)]: Done 3105 tasks      | elapsed:   30.5s\n",
      "[Parallel(n_jobs=-1)]: Done 3184 tasks      | elapsed:   31.2s\n",
      "[Parallel(n_jobs=-1)]: Done 3265 tasks      | elapsed:   32.0s\n",
      "[Parallel(n_jobs=-1)]: Done 3346 tasks      | elapsed:   32.9s\n",
      "[Parallel(n_jobs=-1)]: Done 3429 tasks      | elapsed:   33.8s\n",
      "[Parallel(n_jobs=-1)]: Done 3512 tasks      | elapsed:   34.7s\n",
      "[Parallel(n_jobs=-1)]: Done 3597 tasks      | elapsed:   35.5s\n",
      "[Parallel(n_jobs=-1)]: Done 3682 tasks      | elapsed:   36.5s\n",
      "[Parallel(n_jobs=-1)]: Done 3769 tasks      | elapsed:   37.3s\n",
      "[Parallel(n_jobs=-1)]: Done 3856 tasks      | elapsed:   38.2s\n",
      "[Parallel(n_jobs=-1)]: Done 3945 tasks      | elapsed:   39.2s\n",
      "[Parallel(n_jobs=-1)]: Done 4034 tasks      | elapsed:   40.0s\n",
      "[Parallel(n_jobs=-1)]: Done 4125 tasks      | elapsed:   40.8s\n",
      "[Parallel(n_jobs=-1)]: Done 4216 tasks      | elapsed:   41.6s\n",
      "[Parallel(n_jobs=-1)]: Done 4309 tasks      | elapsed:   42.4s\n",
      "[Parallel(n_jobs=-1)]: Done 4402 tasks      | elapsed:   43.4s\n",
      "[Parallel(n_jobs=-1)]: Done 4497 tasks      | elapsed:   44.4s\n",
      "[Parallel(n_jobs=-1)]: Done 4592 tasks      | elapsed:   45.6s\n",
      "[Parallel(n_jobs=-1)]: Done 4689 tasks      | elapsed:   46.7s\n",
      "[Parallel(n_jobs=-1)]: Done 4786 tasks      | elapsed:   47.4s\n",
      "[Parallel(n_jobs=-1)]: Done 4885 tasks      | elapsed:   48.3s\n",
      "[Parallel(n_jobs=-1)]: Done 4984 tasks      | elapsed:   49.3s\n",
      "[Parallel(n_jobs=-1)]: Done 5085 tasks      | elapsed:   50.4s\n",
      "[Parallel(n_jobs=-1)]: Done 5186 tasks      | elapsed:   51.5s\n",
      "[Parallel(n_jobs=-1)]: Done 5289 tasks      | elapsed:   52.5s\n",
      "[Parallel(n_jobs=-1)]: Done 5392 tasks      | elapsed:   53.6s\n",
      "[Parallel(n_jobs=-1)]: Done 5497 tasks      | elapsed:   54.8s\n",
      "[Parallel(n_jobs=-1)]: Done 5602 tasks      | elapsed:   55.9s\n",
      "[Parallel(n_jobs=-1)]: Done 5709 tasks      | elapsed:   56.8s\n",
      "[Parallel(n_jobs=-1)]: Done 5816 tasks      | elapsed:   58.1s\n",
      "[Parallel(n_jobs=-1)]: Done 5925 tasks      | elapsed:   59.1s\n",
      "[Parallel(n_jobs=-1)]: Done 6034 tasks      | elapsed:  1.0min\n",
      "[Parallel(n_jobs=-1)]: Done 6145 tasks      | elapsed:  1.0min\n",
      "[Parallel(n_jobs=-1)]: Done 6256 tasks      | elapsed:  1.0min\n",
      "[Parallel(n_jobs=-1)]: Done 6369 tasks      | elapsed:  1.1min\n",
      "[Parallel(n_jobs=-1)]: Done 6482 tasks      | elapsed:  1.1min\n",
      "[Parallel(n_jobs=-1)]: Done 6597 tasks      | elapsed:  1.1min\n",
      "[Parallel(n_jobs=-1)]: Done 6712 tasks      | elapsed:  1.1min\n",
      "[Parallel(n_jobs=-1)]: Done 6829 tasks      | elapsed:  1.1min\n",
      "[Parallel(n_jobs=-1)]: Done 6946 tasks      | elapsed:  1.2min\n",
      "[Parallel(n_jobs=-1)]: Done 7065 tasks      | elapsed:  1.2min\n",
      "[Parallel(n_jobs=-1)]: Done 7184 tasks      | elapsed:  1.2min\n",
      "[Parallel(n_jobs=-1)]: Done 7305 tasks      | elapsed:  1.2min\n",
      "[Parallel(n_jobs=-1)]: Done 7426 tasks      | elapsed:  1.2min\n",
      "[Parallel(n_jobs=-1)]: Done 7549 tasks      | elapsed:  1.3min\n",
      "[Parallel(n_jobs=-1)]: Done 7672 tasks      | elapsed:  1.3min\n",
      "[Parallel(n_jobs=-1)]: Done 7797 tasks      | elapsed:  1.3min\n",
      "[Parallel(n_jobs=-1)]: Done 7922 tasks      | elapsed:  1.3min\n",
      "[Parallel(n_jobs=-1)]: Done 8049 tasks      | elapsed:  1.3min\n",
      "[Parallel(n_jobs=-1)]: Done 8176 tasks      | elapsed:  1.3min\n",
      "[Parallel(n_jobs=-1)]: Done 8305 tasks      | elapsed:  1.4min\n",
      "[Parallel(n_jobs=-1)]: Done 8434 tasks      | elapsed:  1.4min\n",
      "[Parallel(n_jobs=-1)]: Done 8565 tasks      | elapsed:  1.4min\n",
      "[Parallel(n_jobs=-1)]: Done 8696 tasks      | elapsed:  1.4min\n",
      "[Parallel(n_jobs=-1)]: Done 8829 tasks      | elapsed:  1.4min\n",
      "[Parallel(n_jobs=-1)]: Done 8962 tasks      | elapsed:  1.4min\n",
      "[Parallel(n_jobs=-1)]: Done 9097 tasks      | elapsed:  1.5min\n",
      "[Parallel(n_jobs=-1)]: Done 9232 tasks      | elapsed:  1.5min\n",
      "[Parallel(n_jobs=-1)]: Done 9369 tasks      | elapsed:  1.5min\n",
      "[Parallel(n_jobs=-1)]: Done 9506 tasks      | elapsed:  1.5min\n",
      "[Parallel(n_jobs=-1)]: Done 9645 tasks      | elapsed:  1.5min\n",
      "[Parallel(n_jobs=-1)]: Done 9784 tasks      | elapsed:  1.6min\n",
      "[Parallel(n_jobs=-1)]: Done 9925 tasks      | elapsed:  1.6min\n",
      "[Parallel(n_jobs=-1)]: Done 10066 tasks      | elapsed:  1.6min\n",
      "[Parallel(n_jobs=-1)]: Done 10209 tasks      | elapsed:  1.6min\n",
      "[Parallel(n_jobs=-1)]: Done 10352 tasks      | elapsed:  1.6min\n",
      "[Parallel(n_jobs=-1)]: Done 10497 tasks      | elapsed:  1.6min\n",
      "[Parallel(n_jobs=-1)]: Done 10642 tasks      | elapsed:  1.7min\n",
      "[Parallel(n_jobs=-1)]: Done 10789 tasks      | elapsed:  1.7min\n",
      "[Parallel(n_jobs=-1)]: Done 10936 tasks      | elapsed:  1.7min\n",
      "[Parallel(n_jobs=-1)]: Done 11085 tasks      | elapsed:  1.7min\n",
      "[Parallel(n_jobs=-1)]: Done 11234 tasks      | elapsed:  1.7min\n",
      "[Parallel(n_jobs=-1)]: Done 11385 tasks      | elapsed:  1.8min\n",
      "[Parallel(n_jobs=-1)]: Done 11536 tasks      | elapsed:  1.8min\n",
      "[Parallel(n_jobs=-1)]: Done 11689 tasks      | elapsed:  1.8min\n",
      "[Parallel(n_jobs=-1)]: Done 11842 tasks      | elapsed:  1.8min\n",
      "[Parallel(n_jobs=-1)]: Done 11997 tasks      | elapsed:  1.8min\n",
      "[Parallel(n_jobs=-1)]: Done 12152 tasks      | elapsed:  1.9min\n",
      "[Parallel(n_jobs=-1)]: Done 12309 tasks      | elapsed:  1.9min\n",
      "[Parallel(n_jobs=-1)]: Done 12466 tasks      | elapsed:  1.9min\n",
      "[Parallel(n_jobs=-1)]: Done 12625 tasks      | elapsed:  1.9min\n",
      "[Parallel(n_jobs=-1)]: Done 12784 tasks      | elapsed:  1.9min\n",
      "[Parallel(n_jobs=-1)]: Done 12945 tasks      | elapsed:  2.0min\n",
      "[Parallel(n_jobs=-1)]: Done 13106 tasks      | elapsed:  2.0min\n",
      "[Parallel(n_jobs=-1)]: Done 13269 tasks      | elapsed:  2.0min\n",
      "[Parallel(n_jobs=-1)]: Done 13432 tasks      | elapsed:  2.0min\n",
      "[Parallel(n_jobs=-1)]: Done 13597 tasks      | elapsed:  2.0min\n",
      "[Parallel(n_jobs=-1)]: Done 13762 tasks      | elapsed:  2.1min\n",
      "[Parallel(n_jobs=-1)]: Done 13929 tasks      | elapsed:  2.1min\n",
      "[Parallel(n_jobs=-1)]: Done 14096 tasks      | elapsed:  2.1min\n",
      "[Parallel(n_jobs=-1)]: Done 14265 tasks      | elapsed:  2.1min\n",
      "[Parallel(n_jobs=-1)]: Done 14434 tasks      | elapsed:  2.2min\n",
      "[Parallel(n_jobs=-1)]: Done 14605 tasks      | elapsed:  2.2min\n",
      "[Parallel(n_jobs=-1)]: Done 14776 tasks      | elapsed:  2.2min\n",
      "[Parallel(n_jobs=-1)]: Done 14949 tasks      | elapsed:  2.2min\n",
      "[Parallel(n_jobs=-1)]: Done 15122 tasks      | elapsed:  2.2min\n",
      "[Parallel(n_jobs=-1)]: Done 15195 out of 15195 | elapsed:  2.3min finished\n"
     ]
    }
   ],
   "metadata": {}
  },
  {
   "cell_type": "code",
   "execution_count": 34,
   "source": [
    "def _load_and_extract_des(image_path):\n",
    "    img_class = 0 if (\"nevus\" in str(image_path)) else 1\n",
    "    im = cv2.imread(str(image_path))\n",
    "    mask = cv2.imread(str(image_path).replace('inpaint', 'mask'), cv2.IMREAD_GRAYSCALE)\n",
    "    kpts, des = dense_brisk.detectAndCompute(im, mask)\n",
    "    return des, img_class"
   ],
   "outputs": [],
   "metadata": {}
  },
  {
   "cell_type": "code",
   "execution_count": 36,
   "source": [
    "des_list = []\n",
    "img_labels = []\n",
    "# with mp.Pool(8) as pool:\n",
    "for image_path in tqdm(image_paths):\n",
    "    (res, res_label) = _load_and_extract_des(image_path)\n",
    "    des_list.append(res)\n",
    "    img_labels.append(res_label)\n",
    "        "
   ],
   "outputs": [
    {
     "output_type": "stream",
     "name": "stderr",
     "text": [
      "100%|██████████| 15195/15195 [02:35<00:00, 97.86it/s] \n"
     ]
    }
   ],
   "metadata": {}
  },
  {
   "cell_type": "code",
   "execution_count": 8,
   "source": [
    "plt.hist([len(x) for x in des_list])"
   ],
   "outputs": [
    {
     "output_type": "execute_result",
     "data": {
      "text/plain": [
       "(array([43.,  0.,  0.,  2.,  1.,  1.,  0.,  1.,  0.,  2.]),\n",
       " array([ 85. , 126.5, 168. , 209.5, 251. , 292.5, 334. , 375.5, 417. ,\n",
       "        458.5, 500. ]),\n",
       " <BarContainer object of 10 artists>)"
      ]
     },
     "metadata": {},
     "execution_count": 8
    },
    {
     "output_type": "display_data",
     "data": {
      "image/png": "[encoded data removed]",
      "text/plain": [
       "<Figure size 432x288 with 1 Axes>"
      ]
     },
     "metadata": {
      "needs_background": "light"
     }
    }
   ],
   "metadata": {}
  },
  {
   "cell_type": "code",
   "execution_count": 9,
   "source": [
    "# pd.to_pickle((des_list, img_labels), 'data/processed/descriptors.pkl')\n",
    "# des_list, img_labels = pd.read_pickle('data/processed/descriptors.pkl')"
   ],
   "outputs": [],
   "metadata": {}
  },
  {
   "cell_type": "code",
   "execution_count": 37,
   "source": [
    "np.unique(img_labels, return_counts=True)"
   ],
   "outputs": [
    {
     "output_type": "execute_result",
     "data": {
      "text/plain": [
       "(array([0, 1]), array([7725, 7470]))"
      ]
     },
     "metadata": {},
     "execution_count": 37
    }
   ],
   "metadata": {}
  },
  {
   "cell_type": "code",
   "execution_count": 38,
   "source": [
    "bovw = BagofWords(n_words=10, n_jobs=-1, random_state=None)\n",
    "classifier = SVC(max_iter=10000)\n"
   ],
   "outputs": [],
   "metadata": {}
  },
  {
   "cell_type": "code",
   "execution_count": 39,
   "source": [
    "X_train, X_test, y_train, y_test = train_test_split(des_list, img_labels, test_size=0.33, random_state=42)"
   ],
   "outputs": [],
   "metadata": {}
  },
  {
   "cell_type": "code",
   "execution_count": 40,
   "source": [
    "# X_train[np.isnan(X_train)] = 0\n",
    "# X_train[np.isinf(X_train)] = 0\n",
    "\n",
    "# X_test[np.isnan(X_test)] = 0\n",
    "# X_test[np.isinf(X_test)] = 0\n",
    "\n",
    "\n",
    "# scaler = StandardScaler()\n",
    "# X_train = scaler.fit_transform(X_train)\n",
    "# X_test = scaler.transform(X_test)"
   ],
   "outputs": [],
   "metadata": {}
  },
  {
   "cell_type": "code",
   "execution_count": 41,
   "source": [
    "X_train_preprocessed = bovw.fit_transform(X_train,y_train)\n",
    "X_test_preprocessed = bovw.transform(X_test)"
   ],
   "outputs": [],
   "metadata": {}
  },
  {
   "cell_type": "code",
   "execution_count": 42,
   "source": [
    "classifier.fit(X_train_preprocessed,y_train)\n",
    "y_pred = classifier.predict(X_test_preprocessed)"
   ],
   "outputs": [
    {
     "output_type": "stream",
     "name": "stderr",
     "text": [
      "/Users/manasikattel/miniforge3/envs/cad/lib/python3.9/site-packages/sklearn/svm/_base.py:301: ConvergenceWarning: Solver terminated early (max_iter=10000).  Consider pre-processing your data with StandardScaler or MinMaxScaler.\n",
      "  warnings.warn(\n"
     ]
    }
   ],
   "metadata": {}
  },
  {
   "cell_type": "code",
   "execution_count": 43,
   "source": [
    "print(classification_report(y_test, y_pred))\n"
   ],
   "outputs": [
    {
     "output_type": "stream",
     "name": "stdout",
     "text": [
      "              precision    recall  f1-score   support\n",
      "\n",
      "           0       0.68      0.67      0.67      2564\n",
      "           1       0.66      0.67      0.67      2451\n",
      "\n",
      "    accuracy                           0.67      5015\n",
      "   macro avg       0.67      0.67      0.67      5015\n",
      "weighted avg       0.67      0.67      0.67      5015\n",
      "\n"
     ]
    }
   ],
   "metadata": {}
  },
  {
   "cell_type": "code",
   "execution_count": null,
   "source": [],
   "outputs": [],
   "metadata": {}
  }
 ],
 "metadata": {
  "kernelspec": {
   "name": "python3",
   "display_name": "Python 3.9.13 64-bit ('cad': conda)"
  },
  "language_info": {
   "codemirror_mode": {
    "name": "ipython",
    "version": 3
   },
   "file_extension": ".py",
   "mimetype": "text/x-python",
   "name": "python",
   "nbconvert_exporter": "python",
   "pygments_lexer": "ipython3",
   "version": "3.9.13"
  },
  "orig_nbformat": 4,
  "vscode": {
   "interpreter": {
    "hash": "735b9718484a57dc78095ffa6e1f74efe296eb4c99769f22b50283e4bb984135"
   }
  },
  "interpreter": {
   "hash": "49574378497f446692c7e26f7d0f985f921d43351aeee8284e547a417bd9147b"
  }
 },
 "nbformat": 4,
 "nbformat_minor": 2
}