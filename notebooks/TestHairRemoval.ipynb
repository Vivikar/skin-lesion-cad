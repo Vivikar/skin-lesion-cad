{
 "cells": [
  {
   "cell_type": "code",
   "execution_count": 3,
   "metadata": {},
   "outputs": [],
   "source": [
    "from tqdm import tqdm\n",
    "import os\n",
    "import sys\n",
    "import os\n",
    "os.chdir(\"..\")\n",
    "\n",
    "from skin_lesion_cad.visualization.utils import simple_im_show, simple_im_show2\n",
    "from skin_lesion_cad.utils.hair_removal import  HairRemoval\n",
    "\n",
    "from pathlib import Path\n",
    "import matplotlib.pyplot as plt\n",
    "import numpy as np\n",
    "import cv2\n"
   ]
  },
  {
   "cell_type": "code",
   "execution_count": 5,
   "metadata": {},
   "outputs": [],
   "source": [
    "test_images = ['nev00196.jpg', 'nev05913.jpg','nev06446.jpg','nev06467.jpg','mel01439.jpg','nev00294.jpg','ack00317.jpg','bcc00695.jpg','bkl00106.jpg','bkl00140.jpg','bkl00286.jpg','bkl00407.jpg','bkl01086.jpg','bkl01423.jpg','bkl01465.jpg','nev0283.jpg','nev04994.jpg','nev06965.jpg','nev07054.jpg','nev07068.jpg','nev07520.jpg','bcc00064.jpg','bcc00695.jpg','bkl00140.jpg','bkl00286.jpg','bkl00391.jpg','bkl00407.jpg','bkl00936.jpg','bkl01086.jpg','bkl01423.jpg','bkl01465.jpg','mel01953.jpg','mel02047.jpg','mel02558.jpg','mel02697.jpg','nev00170.jpg','nev00373.jpg']"
   ]
  },
  {
   "cell_type": "code",
   "execution_count": 6,
   "metadata": {},
   "outputs": [],
   "source": [
    "ch1_path = Path('/home/vzalevskyi/uni/MAIA_Semester_3/cad/skin-lesion-cad/data/raw/chall1')\n",
    "ch2_path = Path('/home/vzalevskyi/uni/MAIA_Semester_3/cad/skin-lesion-cad/data/raw/chall2')\n",
    "\n",
    "nevus_path = ch1_path/'train/nevus'\n",
    "random_nevus_img = np.random.choice(list(nevus_path.glob('*')), size=50)\n",
    "\n",
    "other_path = ch1_path/'train/others'\n",
    "random_other_img = np.random.choice(list(other_path.glob('*')), size=50)"
   ]
  },
  {
   "cell_type": "code",
   "execution_count": 7,
   "metadata": {},
   "outputs": [],
   "source": [
    "RAND_IMGS = 15\n",
    "nevus_path = ch1_path/'train/nevus'\n",
    "# random_nevus_img = np.random.choice(list(nevus_path.glob('*')), size=RAND_IMGS)\n",
    "\n",
    "other_path = ch1_path/'train/others'\n",
    "# random_other_img = np.random.choice(list(other_path.glob('*')), size=RAND_IMGS)\n",
    "\n",
    "test_images = [nevus_path/t if t[:3] == 'nev' else other_path/t for t in test_images]\n",
    "test_images = [t for t in test_images if t.exists()]"
   ]
  },
  {
   "cell_type": "code",
   "execution_count": 9,
   "metadata": {},
   "outputs": [
    {
     "name": "stderr",
     "output_type": "stream",
     "text": [
      " 26%|██▋       | 36/136 [01:08<03:11,  1.92s/it]\n"
     ]
    },
    {
     "ename": "KeyboardInterrupt",
     "evalue": "",
     "output_type": "error",
     "traceback": [
      "\u001b[0;31m---------------------------------------------------------------------------\u001b[0m",
      "\u001b[0;31mKeyboardInterrupt\u001b[0m                         Traceback (most recent call last)",
      "\u001b[1;32m/home/vzalevskyi/uni/MAIA_Semester_3/cad/skin-lesion-cad/notebooks/TestHairRemoval.ipynb Cell 5\u001b[0m in \u001b[0;36m<cell line: 3>\u001b[0;34m()\u001b[0m\n\u001b[1;32m      <a href='vscode-notebook-cell:/home/vzalevskyi/uni/MAIA_Semester_3/cad/skin-lesion-cad/notebooks/TestHairRemoval.ipynb#W4sZmlsZQ%3D%3D?line=8'>9</a>\u001b[0m hr_channel_gray \u001b[39m=\u001b[39m cv2\u001b[39m.\u001b[39mcreateCLAHE(clipLimit\u001b[39m=\u001b[39m\u001b[39m2.0\u001b[39m,tileGridSize\u001b[39m=\u001b[39m(\u001b[39m8\u001b[39m,\u001b[39m8\u001b[39m))\u001b[39m.\u001b[39mapply(cv2\u001b[39m.\u001b[39mcvtColor(test_image, cv2\u001b[39m.\u001b[39mCOLOR_RGB2GRAY))\n\u001b[1;32m     <a href='vscode-notebook-cell:/home/vzalevskyi/uni/MAIA_Semester_3/cad/skin-lesion-cad/notebooks/TestHairRemoval.ipynb#W4sZmlsZQ%3D%3D?line=10'>11</a>\u001b[0m hair_mask \u001b[39m=\u001b[39m hr1\u001b[39m.\u001b[39mget_hair_mask(hr_channel_gray)\n\u001b[0;32m---> <a href='vscode-notebook-cell:/home/vzalevskyi/uni/MAIA_Semester_3/cad/skin-lesion-cad/notebooks/TestHairRemoval.ipynb#W4sZmlsZQ%3D%3D?line=11'>12</a>\u001b[0m inpainted_img \u001b[39m=\u001b[39m cv2\u001b[39m.\u001b[39;49minpaint(test_image_bgr, hair_mask, \u001b[39m3\u001b[39;49m, cv2\u001b[39m.\u001b[39;49mINPAINT_TELEA)\n\u001b[1;32m     <a href='vscode-notebook-cell:/home/vzalevskyi/uni/MAIA_Semester_3/cad/skin-lesion-cad/notebooks/TestHairRemoval.ipynb#W4sZmlsZQ%3D%3D?line=13'>14</a>\u001b[0m fig, axs \u001b[39m=\u001b[39m plt\u001b[39m.\u001b[39msubplots(\u001b[39m2\u001b[39m,\u001b[39m2\u001b[39m,figsize\u001b[39m=\u001b[39m(\u001b[39m30\u001b[39m, \u001b[39m30\u001b[39m))\n\u001b[1;32m     <a href='vscode-notebook-cell:/home/vzalevskyi/uni/MAIA_Semester_3/cad/skin-lesion-cad/notebooks/TestHairRemoval.ipynb#W4sZmlsZQ%3D%3D?line=14'>15</a>\u001b[0m axs[\u001b[39m0\u001b[39m, \u001b[39m0\u001b[39m]\u001b[39m.\u001b[39mimshow(test_image_bgr)\n",
      "\u001b[0;31mKeyboardInterrupt\u001b[0m: "
     ]
    }
   ],
   "source": [
    "hr1 = HairRemoval()\n",
    "\n",
    "for fn in tqdm(list(random_other_img) + list(random_nevus_img) + test_images):\n",
    "    \n",
    "    # hair removal needs single channel image, so we transform our images \n",
    "    # to grayscale and apply CLAHE for contrast enhancement\n",
    "    test_image = cv2.imread(str(fn))    \n",
    "    test_image_bgr = cv2.cvtColor(test_image, cv2.COLOR_RGB2BGR)\n",
    "    hr_channel_gray = cv2.createCLAHE(clipLimit=2.0,tileGridSize=(8,8)).apply(cv2.cvtColor(test_image, cv2.COLOR_RGB2GRAY))\n",
    "\n",
    "    hair_mask = hr1.get_hair_mask(hr_channel_gray)\n",
    "    inpainted_img = cv2.inpaint(test_image_bgr, hair_mask, 3, cv2.INPAINT_TELEA)\n",
    "\n",
    "    fig, axs = plt.subplots(2,2,figsize=(30, 30))\n",
    "    axs[0, 0].imshow(test_image_bgr)\n",
    "    axs[0, 0].axis('off')\n",
    "    axs[1, 0].imshow(inpainted_img)\n",
    "    axs[1, 0].axis('off')\n",
    "\n",
    "    axs[0, 1].imshow(hair_mask, cmap='gray')\n",
    "    axs[0, 1].axis('off')\n",
    "    axs[1, 1].imshow(hair_mask, cmap='gray')\n",
    "    axs[1, 1].axis('off')\n",
    "\n",
    "    \n",
    "    plt.tight_layout()\n",
    "    plt.savefig(f\"/home/vzalevskyi/uni/MAIA_Semester_3/cad/skin-lesion-cad/notebooks/test_results/{fn.name}1.jpg\")\n",
    "    plt.close(fig)"
   ]
  },
  {
   "cell_type": "markdown",
   "metadata": {},
   "source": []
  }
 ],
 "metadata": {
  "kernelspec": {
   "display_name": "Python 3.10.6 ('cad')",
   "language": "python",
   "name": "python3"
  },
  "language_info": {
   "codemirror_mode": {
    "name": "ipython",
    "version": 3
   },
   "file_extension": ".py",
   "mimetype": "text/x-python",
   "name": "python",
   "nbconvert_exporter": "python",
   "pygments_lexer": "ipython3",
   "version": "3.10.6"
  },
  "orig_nbformat": 4,
  "vscode": {
   "interpreter": {
    "hash": "c7c1e7ac575f79c2164305233ce3fe90eb4721145d6f5cc5b66dd624d52a700d"
   }
  }
 },
 "nbformat": 4,
 "nbformat_minor": 2
}
