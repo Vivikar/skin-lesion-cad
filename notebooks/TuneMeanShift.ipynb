{
 "cells": [
  {
   "cell_type": "code",
   "execution_count": 1,
   "metadata": {},
   "outputs": [
    {
     "name": "stderr",
     "output_type": "stream",
     "text": [
      "Intel(R) Extension for Scikit-learn* enabled (https://github.com/intel/scikit-learn-intelex)\n"
     ]
    }
   ],
   "source": [
    "from sklearnex import patch_sklearn\n",
    "patch_sklearn()"
   ]
  },
  {
   "cell_type": "code",
   "execution_count": 2,
   "metadata": {},
   "outputs": [],
   "source": [
    "import os\n",
    "import sys\n",
    "sys.path.append(os.path.abspath('../'))\n",
    "from tqdm import tqdm\n",
    "from pathlib import Path\n",
    "from collections import Counter\n",
    "import multiprocessing as mp\n",
    "\n",
    "import cv2\n",
    "import numpy as np\n",
    "import pandas as pd\n",
    "import matplotlib.pyplot as plt\n",
    "from statsmodels.tsa import stattools\n",
    "from scipy.stats import entropy, skew, kurtosis\n",
    "\n",
    "from sklearn.pipeline import Pipeline\n",
    "from sklearn.preprocessing import StandardScaler\n",
    "from sklearn.model_selection import train_test_split, cross_validate, GridSearchCV\n",
    "from skin_lesion_cad.features.colour import ColorFeaturesExtractor\n",
    "\n",
    "from sklearn.svm import SVC\n",
    "\n",
    "from sklearn.base import TransformerMixin, BaseEstimator\n"
   ]
  },
  {
   "cell_type": "code",
   "execution_count": 3,
   "metadata": {},
   "outputs": [],
   "source": [
    "def process_img(x):\n",
    "    img_path, cfe = x\n",
    "    img = cv2.imread(str(img_path))\n",
    "    img = cv2.medianBlur(img, 3)\n",
    "    \n",
    "    mask = cv2.imread(str(img_path).replace('inpaint', 'mask'), cv2.IMREAD_GRAYSCALE)\n",
    "\n",
    "    img_name = img_path.name.split('_')[0]\n",
    "    imf_fearures = cfe.extract_masked(img, mask)\n",
    "    imf_fearures['name'] = img_name\n",
    "    return imf_fearures"
   ]
  },
  {
   "cell_type": "code",
   "execution_count": 4,
   "metadata": {},
   "outputs": [],
   "source": [
    "class ColorTransformer(BaseEstimator, TransformerMixin):\n",
    "    def __init__(self):\n",
    "        self.scaler = StandardScaler()\n",
    "    def fit(self, X, y=None):\n",
    "        X[np.isnan(X)] = 0\n",
    "        X[np.isinf(X)] = 0\n",
    "        return self.scaler.fit(X)\n",
    "    def transform(self, X, y=None):\n",
    "        X[np.isnan(X)] = 0\n",
    "        X[np.isinf(X)] = 0\n",
    "        return self.scaler.transform(X)"
   ]
  },
  {
   "cell_type": "code",
   "execution_count": 5,
   "metadata": {},
   "outputs": [],
   "source": [
    "proc_data = Path().resolve().parent / 'data/processed'\n",
    "\n",
    "color_spaces = {'bgr':cv2.COLOR_RGB2BGR, 'hsv':cv2.COLOR_RGB2HSV, 'YCrCb':cv2.COLOR_RGB2YCrCb}"
   ]
  },
  {
   "cell_type": "code",
   "execution_count": 6,
   "metadata": {},
   "outputs": [
    {
     "data": {
      "text/plain": [
       "Counter({1: 2569, 0: 2431})"
      ]
     },
     "execution_count": 6,
     "metadata": {},
     "output_type": "execute_result"
    }
   ],
   "source": [
    "chl = 'chall1'\n",
    "mode = 'train'\n",
    "\n",
    "test_path = proc_data / f'{chl}/{mode}'\n",
    "\n",
    "np.random.seed(42)\n",
    "all_imgs = np.random.choice(list(test_path.glob('**/*inpaint_0_5*')), size=5000)\n",
    "Counter([1 if 'nevus' in str(x) else 0 for x in all_imgs])"
   ]
  },
  {
   "cell_type": "code",
   "execution_count": 7,
   "metadata": {},
   "outputs": [],
   "source": [
    "gird = [{'sp': 10, 'sr': 15}, #initial one\n",
    "        {'sp': 5, 'sr': 15},\n",
    "        {'sp': 15, 'sr': 15},\n",
    "        {'sp': 20, 'sr': 15},\n",
    "        {'sp': 30, 'sr': 15},\n",
    "        {'sp': 10, 'sr': 10},\n",
    "        {'sp': 10, 'sr': 5},\n",
    "        {'sp': 10, 'sr': 20},\n",
    "        {'sp': 20, 'sr': 30},\n",
    "        {'sp': 5, 'sr': 8},\n",
    "        ] # spatial and color range radius"
   ]
  },
  {
   "cell_type": "code",
   "execution_count": 8,
   "metadata": {},
   "outputs": [
    {
     "name": "stderr",
     "output_type": "stream",
     "text": [
      " 80%|████████  | 8/10 [1:15:41<17:38, 529.03s/it]/media/vzalevskyi/DATA/ProjectsData/skin-lesion-cad/skin_lesion_cad/features/colour.py:38: RuntimeWarning: Precision loss occurred in moment calculation due to catastrophic cancellation. This occurs when the data are nearly identical. Results may be unreliable.\n",
      "  res[f'{clrsp}_{clrsp[clrsp_idx]}_skew'] = skew(pixels)\n",
      "/media/vzalevskyi/DATA/ProjectsData/skin-lesion-cad/skin_lesion_cad/features/colour.py:39: RuntimeWarning: Precision loss occurred in moment calculation due to catastrophic cancellation. This occurs when the data are nearly identical. Results may be unreliable.\n",
      "  res[f'{clrsp}_{clrsp[clrsp_idx]}_kurt'] = kurtosis(pixels)\n",
      "/media/vzalevskyi/DATA/ProjectsData/skin-lesion-cad/skin_lesion_cad/features/colour.py:38: RuntimeWarning: Precision loss occurred in moment calculation due to catastrophic cancellation. This occurs when the data are nearly identical. Results may be unreliable.\n",
      "  res[f'{clrsp}_{clrsp[clrsp_idx]}_skew'] = skew(pixels)\n",
      "/media/vzalevskyi/DATA/ProjectsData/skin-lesion-cad/skin_lesion_cad/features/colour.py:39: RuntimeWarning: Precision loss occurred in moment calculation due to catastrophic cancellation. This occurs when the data are nearly identical. Results may be unreliable.\n",
      "  res[f'{clrsp}_{clrsp[clrsp_idx]}_kurt'] = kurtosis(pixels)\n",
      "100%|██████████| 10/10 [1:24:15<00:00, 505.54s/it]\n"
     ]
    }
   ],
   "source": [
    "grid_search_results = []\n",
    "\n",
    "for mshift_params in tqdm(gird): \n",
    "\n",
    "    cfe = ColorFeaturesExtractor(color_spaces, mshift_params)\n",
    "    dfs = []\n",
    "\n",
    "    candidates_features = []\n",
    "    with mp.Pool(8) as pool:\n",
    "        for result in pool.imap(process_img, zip(all_imgs, [cfe]*len(all_imgs))):\n",
    "            candidates_features.append(result)\n",
    "            \n",
    "    dfs.append(pd.DataFrame(candidates_features))\n",
    "\n",
    "    dfs = pd.concat(dfs)\n",
    "    dfs['class'] = [0 if 'nev' in x else 1 for x in dfs['name']]\n",
    "\n",
    "\n",
    "    pipe = Pipeline([('scaler', ColorTransformer()), ('svc', SVC())])\n",
    "\n",
    "    X = dfs.drop(columns=['name', 'class']).values\n",
    "    y = dfs['class'].values\n",
    "\n",
    "    cv_results = cross_validate(pipe, X, y, cv=5, scoring=['accuracy', 'roc_auc'], n_jobs=8, return_train_score=True)\n",
    "\n",
    "    res = {'mshift_params':mshift_params,\n",
    "        'train_acc':cv_results['train_accuracy'].mean(),\n",
    "        'test_acc':cv_results['test_accuracy'].mean(),\n",
    "        'train_roc_auc':cv_results['train_roc_auc'].mean(),\n",
    "        'test_roc_auc':cv_results['test_roc_auc'].mean()}\n",
    "\n",
    "    grid_search_results.append(res)"
   ]
  },
  {
   "cell_type": "code",
   "execution_count": 10,
   "metadata": {},
   "outputs": [
    {
     "data": {
      "text/html": [
       "<div>\n",
       "<style scoped>\n",
       "    .dataframe tbody tr th:only-of-type {\n",
       "        vertical-align: middle;\n",
       "    }\n",
       "\n",
       "    .dataframe tbody tr th {\n",
       "        vertical-align: top;\n",
       "    }\n",
       "\n",
       "    .dataframe thead th {\n",
       "        text-align: right;\n",
       "    }\n",
       "</style>\n",
       "<table border=\"1\" class=\"dataframe\">\n",
       "  <thead>\n",
       "    <tr style=\"text-align: right;\">\n",
       "      <th></th>\n",
       "      <th>mshift_params</th>\n",
       "      <th>train_acc</th>\n",
       "      <th>test_acc</th>\n",
       "      <th>train_roc_auc</th>\n",
       "      <th>test_roc_auc</th>\n",
       "    </tr>\n",
       "  </thead>\n",
       "  <tbody>\n",
       "    <tr>\n",
       "      <th>9</th>\n",
       "      <td>{'sp': 5, 'sr': 8}</td>\n",
       "      <td>0.81200</td>\n",
       "      <td>0.7758</td>\n",
       "      <td>0.892049</td>\n",
       "      <td>0.854345</td>\n",
       "    </tr>\n",
       "    <tr>\n",
       "      <th>5</th>\n",
       "      <td>{'sp': 10, 'sr': 10}</td>\n",
       "      <td>0.81125</td>\n",
       "      <td>0.7734</td>\n",
       "      <td>0.890606</td>\n",
       "      <td>0.852845</td>\n",
       "    </tr>\n",
       "    <tr>\n",
       "      <th>6</th>\n",
       "      <td>{'sp': 10, 'sr': 5}</td>\n",
       "      <td>0.81245</td>\n",
       "      <td>0.7728</td>\n",
       "      <td>0.893073</td>\n",
       "      <td>0.854433</td>\n",
       "    </tr>\n",
       "    <tr>\n",
       "      <th>3</th>\n",
       "      <td>{'sp': 20, 'sr': 15}</td>\n",
       "      <td>0.80585</td>\n",
       "      <td>0.7716</td>\n",
       "      <td>0.888181</td>\n",
       "      <td>0.850934</td>\n",
       "    </tr>\n",
       "    <tr>\n",
       "      <th>1</th>\n",
       "      <td>{'sp': 5, 'sr': 15}</td>\n",
       "      <td>0.80985</td>\n",
       "      <td>0.7708</td>\n",
       "      <td>0.890480</td>\n",
       "      <td>0.851278</td>\n",
       "    </tr>\n",
       "    <tr>\n",
       "      <th>2</th>\n",
       "      <td>{'sp': 15, 'sr': 15}</td>\n",
       "      <td>0.80760</td>\n",
       "      <td>0.7704</td>\n",
       "      <td>0.889833</td>\n",
       "      <td>0.851539</td>\n",
       "    </tr>\n",
       "    <tr>\n",
       "      <th>8</th>\n",
       "      <td>{'sp': 20, 'sr': 30}</td>\n",
       "      <td>0.80725</td>\n",
       "      <td>0.7700</td>\n",
       "      <td>0.885991</td>\n",
       "      <td>0.848625</td>\n",
       "    </tr>\n",
       "    <tr>\n",
       "      <th>0</th>\n",
       "      <td>{'sp': 10, 'sr': 15}</td>\n",
       "      <td>0.80820</td>\n",
       "      <td>0.7694</td>\n",
       "      <td>0.890631</td>\n",
       "      <td>0.851052</td>\n",
       "    </tr>\n",
       "    <tr>\n",
       "      <th>7</th>\n",
       "      <td>{'sp': 10, 'sr': 20}</td>\n",
       "      <td>0.80950</td>\n",
       "      <td>0.7680</td>\n",
       "      <td>0.890384</td>\n",
       "      <td>0.850978</td>\n",
       "    </tr>\n",
       "    <tr>\n",
       "      <th>4</th>\n",
       "      <td>{'sp': 30, 'sr': 15}</td>\n",
       "      <td>0.80840</td>\n",
       "      <td>0.7666</td>\n",
       "      <td>0.888914</td>\n",
       "      <td>0.848440</td>\n",
       "    </tr>\n",
       "  </tbody>\n",
       "</table>\n",
       "</div>"
      ],
      "text/plain": [
       "          mshift_params  train_acc  test_acc  train_roc_auc  test_roc_auc\n",
       "9    {'sp': 5, 'sr': 8}    0.81200    0.7758       0.892049      0.854345\n",
       "5  {'sp': 10, 'sr': 10}    0.81125    0.7734       0.890606      0.852845\n",
       "6   {'sp': 10, 'sr': 5}    0.81245    0.7728       0.893073      0.854433\n",
       "3  {'sp': 20, 'sr': 15}    0.80585    0.7716       0.888181      0.850934\n",
       "1   {'sp': 5, 'sr': 15}    0.80985    0.7708       0.890480      0.851278\n",
       "2  {'sp': 15, 'sr': 15}    0.80760    0.7704       0.889833      0.851539\n",
       "8  {'sp': 20, 'sr': 30}    0.80725    0.7700       0.885991      0.848625\n",
       "0  {'sp': 10, 'sr': 15}    0.80820    0.7694       0.890631      0.851052\n",
       "7  {'sp': 10, 'sr': 20}    0.80950    0.7680       0.890384      0.850978\n",
       "4  {'sp': 30, 'sr': 15}    0.80840    0.7666       0.888914      0.848440"
      ]
     },
     "execution_count": 10,
     "metadata": {},
     "output_type": "execute_result"
    }
   ],
   "source": [
    "mshift_res = pd.DataFrame(grid_search_results)\n",
    "mshift_res.sort_values(by='test_acc', ascending=False)"
   ]
  },
  {
   "cell_type": "code",
   "execution_count": null,
   "metadata": {},
   "outputs": [],
   "source": []
  }
 ],
 "metadata": {
  "kernelspec": {
   "display_name": "Python 3.10.6 ('cad')",
   "language": "python",
   "name": "python3"
  },
  "language_info": {
   "codemirror_mode": {
    "name": "ipython",
    "version": 3
   },
   "file_extension": ".py",
   "mimetype": "text/x-python",
   "name": "python",
   "nbconvert_exporter": "python",
   "pygments_lexer": "ipython3",
   "version": "3.10.6"
  },
  "orig_nbformat": 4,
  "vscode": {
   "interpreter": {
    "hash": "c7c1e7ac575f79c2164305233ce3fe90eb4721145d6f5cc5b66dd624d52a700d"
   }
  }
 },
 "nbformat": 4,
 "nbformat_minor": 2
}
